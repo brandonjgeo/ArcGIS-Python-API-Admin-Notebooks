{
 "cells": [
  {
   "cell_type": "markdown",
   "metadata": {},
   "source": [
    "## Import libraries"
   ]
  },
  {
   "cell_type": "code",
   "execution_count": null,
   "metadata": {},
   "outputs": [],
   "source": [
    "from arcgis.gis import *\n",
    "from getpass import getpass\n",
    "from IPython.display import display"
   ]
  },
  {
   "cell_type": "markdown",
   "metadata": {},
   "source": [
    "## Define the web GIS environment, your user name, ask for password, and sign into web GIS"
   ]
  },
  {
   "cell_type": "code",
   "execution_count": null,
   "metadata": {},
   "outputs": [],
   "source": [
    "password = getpass()\n",
    "gis = GIS(\"https://esridenver.maps.arcgis.com\", \"pgamberg@EsriDenver\", password, verify_cert=True)"
   ]
  },
  {
   "cell_type": "markdown",
   "metadata": {},
   "source": [
    "## Return all roles within your web GIS"
   ]
  },
  {
   "cell_type": "code",
   "execution_count": null,
   "metadata": {
    "scrolled": false
   },
   "outputs": [],
   "source": [
    "role_mgr = arcgis.gis.RoleManager(gis)\n",
    "roles = role_mgr.all()\n",
    "for role in roles:\n",
    " print(\"Role ID: {}\".format(role.role_id))\n",
    " print(\"Role name: {}\".format(role.name))\n",
    " print(\"Role description: {}\".format(role.description))\n",
    " print(\"Role privileges: {}\".format(role.privileges))\n",
    " print(\"\")"
   ]
  },
  {
   "cell_type": "markdown",
   "metadata": {},
   "source": [
    "## Return a summary of all roles assigned in your web GIS"
   ]
  },
  {
   "cell_type": "code",
   "execution_count": null,
   "metadata": {},
   "outputs": [],
   "source": [
    "user_mgr = arcgis.gis.UserManager(gis)\n",
    "assigned_roles = user_mgr.counts(type='role')\n",
    "assigned_roles"
   ]
  },
  {
   "cell_type": "markdown",
   "metadata": {},
   "source": [
    "## Return all users of a specific role, thier data, and group affiliations"
   ]
  },
  {
   "cell_type": "code",
   "execution_count": null,
   "metadata": {},
   "outputs": [],
   "source": [
    "viewers = user_mgr.search(role='org_publisher')\n",
    "viewers"
   ]
  },
  {
   "cell_type": "markdown",
   "metadata": {},
   "source": [
    "## Return the 10 users, of the defined role, who store the most data in the web GIS"
   ]
  },
  {
   "cell_type": "code",
   "execution_count": null,
   "metadata": {},
   "outputs": [],
   "source": [
    "most_storage = []\n",
    "for user in viewers:\n",
    "    most_storage.append([user.fullName,user.storageUsage])\n",
    "most_storage.sort(key=lambda tup: tup[1], reverse=True)\n",
    "most_storage[:10]"
   ]
  },
  {
   "cell_type": "markdown",
   "metadata": {},
   "source": [
    "## Return the users, of the defined role, and thier group affiliations"
   ]
  },
  {
   "cell_type": "code",
   "execution_count": null,
   "metadata": {},
   "outputs": [],
   "source": [
    "user_groups = []\n",
    "for user in viewers:\n",
    "    user_groups.append([user.fullName,user.groups])\n",
    "user_groups"
   ]
  },
  {
   "cell_type": "markdown",
   "metadata": {},
   "source": [
    "## Return all the folders for each defined user"
   ]
  },
  {
   "cell_type": "code",
   "execution_count": null,
   "metadata": {},
   "outputs": [],
   "source": [
    "user_folders = []\n",
    "for user in viewers:\n",
    "    user_folders.append([user.fullName,user.folders])\n",
    "    \n",
    "user_folders[1]"
   ]
  },
  {
   "cell_type": "markdown",
   "metadata": {},
   "source": [
    "## Return all items for each defined user"
   ]
  },
  {
   "cell_type": "code",
   "execution_count": null,
   "metadata": {},
   "outputs": [],
   "source": [
    "user_content = []\n",
    "for user in viewers:\n",
    "    user_content.append([user.fullName,user.items()])\n",
    "    \n",
    "user_content"
   ]
  },
  {
   "cell_type": "code",
   "execution_count": null,
   "metadata": {},
   "outputs": [],
   "source": []
  }
 ],
 "metadata": {
  "kernelspec": {
   "display_name": "Python 3",
   "language": "python",
   "name": "python3"
  },
  "language_info": {
   "codemirror_mode": {
    "name": "ipython",
    "version": 3
   },
   "file_extension": ".py",
   "mimetype": "text/x-python",
   "name": "python",
   "nbconvert_exporter": "python",
   "pygments_lexer": "ipython3",
   "version": "3.7.1"
  }
 },
 "nbformat": 4,
 "nbformat_minor": 2
}
