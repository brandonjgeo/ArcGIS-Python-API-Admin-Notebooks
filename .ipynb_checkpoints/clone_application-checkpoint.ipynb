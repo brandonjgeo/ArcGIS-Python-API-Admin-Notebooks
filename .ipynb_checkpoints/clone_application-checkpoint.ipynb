{
 "cells": [
  {
   "cell_type": "markdown",
   "metadata": {},
   "source": [
    "## Import libraries"
   ]
  },
  {
   "cell_type": "code",
   "execution_count": 1,
   "metadata": {},
   "outputs": [],
   "source": [
    "from arcgis.gis import *\n",
    "from getpass import getpass\n",
    "from IPython.display import display"
   ]
  },
  {
   "cell_type": "markdown",
   "metadata": {},
   "source": [
    "## Define the web GIS environment, your user name, ask for password, and sign into web GIS"
   ]
  },
  {
   "cell_type": "code",
   "execution_count": 2,
   "metadata": {
    "scrolled": true
   },
   "outputs": [
    {
     "name": "stdout",
     "output_type": "stream",
     "text": [
      "········\n"
     ]
    }
   ],
   "source": [
    "password = getpass()\n",
    "gis = GIS(\"https://esridenver.maps.arcgis.com\", \"pgamberg@EsriDenver\", password, verify_cert=True)"
   ]
  },
  {
   "cell_type": "markdown",
   "metadata": {},
   "source": [
    "### Create list of content to clone"
   ]
  },
  {
   "cell_type": "code",
   "execution_count": 48,
   "metadata": {},
   "outputs": [],
   "source": [
    "application_owner = gis.users.get('pgamberg@esridenver')\n",
    "folders = application_owner.folders\n",
    "# here we isolate the folder to delete based on the folder name, copied from the previous block of code.\n",
    "f=[]\n",
    "for folder in folders:\n",
    "    if folder['id'] == 'fe86df08c4134e4dabe9a1424da7705b':\n",
    "        f.append(folder)\n",
    "        \n",
    "        \n",
    "#here we delete the content\n",
    "for folder in f:\n",
    "    items = application_owner.items(folder=folder['title'])\n",
    "    gis.content.clone_items(items,'clone test',copy_data=True,)\n",
    "\n"
   ]
  },
  {
   "cell_type": "code",
   "execution_count": null,
   "metadata": {},
   "outputs": [],
   "source": []
  },
  {
   "cell_type": "code",
   "execution_count": null,
   "metadata": {},
   "outputs": [],
   "source": []
  }
 ],
 "metadata": {
  "kernelspec": {
   "display_name": "Python 3",
   "language": "python",
   "name": "python3"
  },
  "language_info": {
   "codemirror_mode": {
    "name": "ipython",
    "version": 3
   },
   "file_extension": ".py",
   "mimetype": "text/x-python",
   "name": "python",
   "nbconvert_exporter": "python",
   "pygments_lexer": "ipython3",
   "version": "3.7.1"
  }
 },
 "nbformat": 4,
 "nbformat_minor": 2
}
