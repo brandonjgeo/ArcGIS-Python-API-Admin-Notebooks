{
 "cells": [
  {
   "cell_type": "code",
   "execution_count": 1,
   "metadata": {},
   "outputs": [
    {
     "name": "stdout",
     "output_type": "stream",
     "text": [
      "Enter password: ········\n",
      "Connected to: esridenver.maps.arcgis.com\n",
      "Connected as: pgamberg@EsriDenver\n"
     ]
    }
   ],
   "source": [
    "from arcgis.gis import GIS\n",
    "import getpass\n",
    "from IPython.display import display\n",
    "\n",
    "password = getpass.getpass(\"Enter password: \")\n",
    "gis = GIS('https://esridenver.maps.arcgis.com', 'pgamberg@EsriDenver', password)\n",
    "print(\"Connected to: {}\\nConnected as: {}\".format(gis.properties.urlKey + \".\" + gis.properties.customBaseUrl,\n",
    "                                                 gis.users.me.username))"
   ]
  },
  {
   "cell_type": "markdown",
   "metadata": {},
   "source": [
    "### create a list of users"
   ]
  },
  {
   "cell_type": "code",
   "execution_count": 2,
   "metadata": {},
   "outputs": [
    {
     "name": "stdout",
     "output_type": "stream",
     "text": [
      "1  users returned\n",
      "<User username:pgamberg@EsriDenver>\n"
     ]
    }
   ],
   "source": [
    "users = []\n",
    "user_list = gis.users.search(\"pgamberg\")\n",
    "\n",
    "print(len(user_list),\" users returned\")\n",
    "n = len(user_list)\n",
    "\n",
    "for u in range(n):\n",
    "    users.append(user_list[u])\n",
    "\n",
    "for u in users:\n",
    "    print(u)\n",
    "\n"
   ]
  },
  {
   "cell_type": "markdown",
   "metadata": {},
   "source": [
    "## List folders for user"
   ]
  },
  {
   "cell_type": "code",
   "execution_count": 5,
   "metadata": {},
   "outputs": [
    {
     "name": "stdout",
     "output_type": "stream",
     "text": [
      "ArcGIS Pro Project Templates 54db2ca6e818480db6c2662fa13c7e2a\n",
      "Arizona Lands 55353687aac4491bb8b6933a66727f38\n",
      "BA - Application Data 684642a14866437abfaaeb6a7db8f6b1\n",
      "BA - My Reports - Ordered Reports e54941190d024a949071750d03dc387b\n",
      "BA - Project Data 4767f73a1fb8470bbcb640d7b49db9b8\n",
      "CA - Application Data 857a4b7e8994451d949f36ddeaf3c453\n",
      "CA - My Reports - Ordered Reports 88022043fd734084a91309e23f9cf92e\n",
      "CA - Project Data 71afbef58bf74e268b716137a53072f1\n",
      "clone test 335d2725310a4c259b2ceeca9c121970\n",
      "clone test application 37220c5763b04e8cac557cfb2698bbf0\n",
      "floodplain url e6df512530034eccacdcb3dedfcb04da\n",
      "Idaho GeoMobile Workshop 9165bf73bc8648b7b821bcc7d1864d3a\n",
      "Images 56d513a1623a400c9383e3c4aca6739e\n",
      "kansas department of health 26ba38891b6743ec872d6838479c724c\n",
      "Missouri Children's Trust Fund 34ca45678c624429b80c5e62eed636a8\n",
      "North Dakota Parks and Rec 96ded8b19f7742c19b7f3db708ee4562\n",
      "north dakota tobacco control db1c78017a30466b991d6184aac54ed0\n",
      "Noxious Weed Mitigation 653ea1ed9b8c40f49bbf8d9fb1b76b1b\n",
      "Pipeline Safety Field Work 0341016b8efb444183c7eb98c15fd48a\n",
      "Report Templates 9de021fe183c4bea95d64969f4928ce8\n",
      "Sample Data 7a519700880a47199f46e45d95ddc52f\n",
      "Situational Awareness Deployed 4b40c01ff47640a0941c36fbef258c92\n",
      "Survey-2019 Maps on the Hill - Judge's Survey 4a6e756a653e4a4287942c113caac882\n",
      "Survey-Algae Bloom Report Form 4bd69c973fa44fc980aece4f981480d9\n",
      "Survey-High Accuracy GPS Field Data Collection Workshop 6ca4387231c94cb69cd9d7537e543e8c\n",
      "Survey-HOA Emergency Preparedness Survey 49255e61150c4117a99feeced5db653c\n",
      "Survey-STARS 50bf9de3a324458e816854489f4646c7\n",
      "Utah Incentive Zone App fe86df08c4134e4dabe9a1424da7705b\n"
     ]
    }
   ],
   "source": [
    "user = users[0]\n",
    "#display(user)\n",
    "\n",
    "folders = user.folders\n",
    "for folder in folders:\n",
    "    print(folder['title'],folder['id'])\n",
    "\n",
    "\n",
    "    "
   ]
  },
  {
   "cell_type": "markdown",
   "metadata": {},
   "source": [
    "## Delete a specific folder and its content"
   ]
  },
  {
   "cell_type": "code",
   "execution_count": 6,
   "metadata": {},
   "outputs": [],
   "source": [
    "\n",
    "folders = user.folders\n",
    "\n",
    "# here we isolate the folder to delete based on the folder name, copied from the previous block of code.\n",
    "f=[]\n",
    "for folder in folders:\n",
    "    if folder['title'] == \"floodplain url\": # define the name of the folder here as a string\n",
    "        f.append(folder)\n",
    "        \n",
    "#here we delete the content\n",
    "for folder in f:\n",
    "    folder_items = user.items(folder=folder['title'])\n",
    "    for item in folder_items:\n",
    "        related_items = item.related_items(\"Service2Service\")\n",
    "        if len(related_items) > 0:\n",
    "            for i in related_items:\n",
    "                i.protect(enable=False)\n",
    "                i.delete()\n",
    "            remaining_items = user.items(folder=folder['title'])\n",
    "            for remaining_item in remaining_items:\n",
    "                if remaining_item in folder_items:\n",
    "                    folder_items.remove(remaining_item)\n",
    "                remaining_item.protect(enable=False)\n",
    "                remaining_item.delete()\n",
    "        else:\n",
    "            item.protect(enable=False)\n",
    "            item.delete()\n",
    "    gis.content.delete_folder(folder['title'],owner=user)\n",
    "\n",
    "\n"
   ]
  },
  {
   "cell_type": "code",
   "execution_count": null,
   "metadata": {},
   "outputs": [],
   "source": []
  }
 ],
 "metadata": {
  "kernelspec": {
   "display_name": "Python 3",
   "language": "python",
   "name": "python3"
  },
  "language_info": {
   "codemirror_mode": {
    "name": "ipython",
    "version": 3
   },
   "file_extension": ".py",
   "mimetype": "text/x-python",
   "name": "python",
   "nbconvert_exporter": "python",
   "pygments_lexer": "ipython3",
   "version": "3.7.1"
  }
 },
 "nbformat": 4,
 "nbformat_minor": 2
}
