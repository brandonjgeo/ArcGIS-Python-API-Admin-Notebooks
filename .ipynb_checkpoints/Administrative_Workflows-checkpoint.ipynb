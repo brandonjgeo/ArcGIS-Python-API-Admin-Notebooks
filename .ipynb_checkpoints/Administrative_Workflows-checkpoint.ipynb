{
 "cells": [
  {
   "cell_type": "markdown",
   "metadata": {
    "slideshow": {
     "slide_type": "slide"
    }
   },
   "source": [
    "# <span style=\"color:purple\">ArcGIS API for Python</span>\n",
    "\n",
    "\n",
    "## Demo: Administrative Management of Users, Roles & Groups"
   ]
  },
  {
   "cell_type": "markdown",
   "metadata": {},
   "source": [
    "### We will go over a few workflows to show how the ArcGIS API can help administrators of Web GIS."
   ]
  },
  {
   "cell_type": "markdown",
   "metadata": {},
   "source": [
    "Let's import a few modules. We are importing getpass to provide the GIS object with a password in a safe manner."
   ]
  },
  {
   "cell_type": "code",
   "execution_count": null,
   "metadata": {},
   "outputs": [],
   "source": [
    "from arcgis.gis import *\n",
    "from getpass import getpass\n",
    "from IPython.display import display"
   ]
  },
  {
   "cell_type": "markdown",
   "metadata": {},
   "source": [
    "Let's call our GIS object and pass a local Portal."
   ]
  },
  {
   "cell_type": "code",
   "execution_count": null,
   "metadata": {},
   "outputs": [],
   "source": [
    "password = getpass()\n",
    "gis = GIS(\"https://esridenver.maps.arcgis.com\", \"pgamberg@EsriDenver\", password, verify_cert=False)"
   ]
  },
  {
   "cell_type": "code",
   "execution_count": null,
   "metadata": {},
   "outputs": [],
   "source": [
    "gis"
   ]
  },
  {
   "cell_type": "markdown",
   "metadata": {},
   "source": [
    "### Querying for users"
   ]
  },
  {
   "cell_type": "markdown",
   "metadata": {},
   "source": [
    "Let's run a full query for listed users:"
   ]
  },
  {
   "cell_type": "code",
   "execution_count": null,
   "metadata": {},
   "outputs": [],
   "source": [
    "gis.users.search()\n"
   ]
  },
  {
   "cell_type": "code",
   "execution_count": null,
   "metadata": {},
   "outputs": [],
   "source": [
    "gis.users.me"
   ]
  },
  {
   "cell_type": "markdown",
   "metadata": {},
   "source": [
    "Filter your user search..."
   ]
  },
  {
   "cell_type": "code",
   "execution_count": null,
   "metadata": {},
   "outputs": [],
   "source": [
    "gis.users.search(\"pete\")"
   ]
  },
  {
   "cell_type": "markdown",
   "metadata": {},
   "source": [
    "Let's search for my colleague, Matt"
   ]
  },
  {
   "cell_type": "code",
   "execution_count": null,
   "metadata": {},
   "outputs": [],
   "source": [
    "gis.users.search(\"Matt\")"
   ]
  },
  {
   "cell_type": "markdown",
   "metadata": {},
   "source": [
    "### Create a new user"
   ]
  },
  {
   "cell_type": "markdown",
   "metadata": {},
   "source": [
    "Users can be created through the API"
   ]
  },
  {
   "cell_type": "code",
   "execution_count": null,
   "metadata": {},
   "outputs": [],
   "source": [
    "gis.users.create?"
   ]
  },
  {
   "cell_type": "code",
   "execution_count": null,
   "metadata": {},
   "outputs": [],
   "source": [
    "clark = gis.users.create(username = \"SmithCollinss\", \n",
    "                           password=\"COLL@123\", \n",
    "                          firstname=\"smith\", \n",
    "                          lastname=\"colins\", \n",
    "                          email=\"smith.collins@company.com\",  \n",
    "                          role='org_user')\n",
    "clark"
   ]
  },
  {
   "cell_type": "markdown",
   "metadata": {},
   "source": [
    "This variable is now a \"user\" object"
   ]
  },
  {
   "cell_type": "code",
   "execution_count": null,
   "metadata": {},
   "outputs": [],
   "source": [
    "type(clark)"
   ]
  },
  {
   "cell_type": "markdown",
   "metadata": {},
   "source": [
    "Use intellisense to see all the options you have available with user objects."
   ]
  },
  {
   "cell_type": "code",
   "execution_count": null,
   "metadata": {},
   "outputs": [],
   "source": [
    "clark.description"
   ]
  },
  {
   "cell_type": "code",
   "execution_count": null,
   "metadata": {},
   "outputs": [],
   "source": [
    "clark.email"
   ]
  },
  {
   "cell_type": "code",
   "execution_count": null,
   "metadata": {
    "scrolled": true
   },
   "outputs": [],
   "source": [
    "clark.delete()"
   ]
  },
  {
   "cell_type": "markdown",
   "metadata": {},
   "source": [
    "### Querying for groups"
   ]
  },
  {
   "cell_type": "code",
   "execution_count": null,
   "metadata": {},
   "outputs": [],
   "source": [
    "gis.groups.search()"
   ]
  },
  {
   "cell_type": "markdown",
   "metadata": {},
   "source": [
    "Let's create the group"
   ]
  },
  {
   "cell_type": "code",
   "execution_count": null,
   "metadata": {
    "scrolled": true
   },
   "outputs": [],
   "source": [
    "# create groups\n",
    "demo_group = gis.groups.create(\"Field Work\", \"Demo; CO\")"
   ]
  },
  {
   "cell_type": "markdown",
   "metadata": {},
   "source": [
    "This is a \"group\" object"
   ]
  },
  {
   "cell_type": "code",
   "execution_count": null,
   "metadata": {},
   "outputs": [],
   "source": [
    "demo_group?"
   ]
  },
  {
   "cell_type": "code",
   "execution_count": null,
   "metadata": {
    "scrolled": true
   },
   "outputs": [],
   "source": [
    "demo_group"
   ]
  },
  {
   "cell_type": "code",
   "execution_count": null,
   "metadata": {},
   "outputs": [],
   "source": [
    "type(demo_group)"
   ]
  },
  {
   "cell_type": "markdown",
   "metadata": {},
   "source": [
    "Like the user object, it has methods we can call on it"
   ]
  },
  {
   "cell_type": "code",
   "execution_count": null,
   "metadata": {},
   "outputs": [],
   "source": [
    "demo_group.access"
   ]
  },
  {
   "cell_type": "markdown",
   "metadata": {},
   "source": [
    "# Let's say your boss suddenly gets an idea!\n",
    "\n",
    "\n",
    "## Boss:\n",
    "## \"I want you to create a new portal, with new users from our regional teams and mulitple groups and make every member is part of their groups. \n",
    "## \"And I need this before you go home.\"\n"
   ]
  },
  {
   "cell_type": "markdown",
   "metadata": {},
   "source": [
    "## Have no fear! The ArcGIS API for Python is here to help."
   ]
  },
  {
   "cell_type": "markdown",
   "metadata": {},
   "source": [
    "We're going to import some libraries to help us"
   ]
  },
  {
   "cell_type": "code",
   "execution_count": null,
   "metadata": {},
   "outputs": [],
   "source": [
    "import csv \n",
    "import json"
   ]
  },
  {
   "cell_type": "markdown",
   "metadata": {},
   "source": [
    "# Create Groups"
   ]
  },
  {
   "cell_type": "code",
   "execution_count": null,
   "metadata": {},
   "outputs": [],
   "source": [
    "def create_groups():\n",
    "    print(\"CREATING GROUPS\")\n",
    "\n",
    "    with open(\"groups.csv\", 'r') as groups_csv:\n",
    "        groups = csv.DictReader(groups_csv)\n",
    "        for group in groups:\n",
    "            try:\n",
    "                print(\" Creating group: \", group['title'], end=\"  ##  \")\n",
    "                result = gis.groups.create_from_dict(group)\n",
    "                if result:\n",
    "                    print(\"success\")\n",
    "            except Exception as create_ex:\n",
    "                print(\"Error... \", str(create_ex))"
   ]
  },
  {
   "cell_type": "markdown",
   "metadata": {},
   "source": [
    "# Add Users"
   ]
  },
  {
   "cell_type": "code",
   "execution_count": null,
   "metadata": {},
   "outputs": [],
   "source": [
    "def create_users():\n",
    "    # loop through and create users\n",
    "    with open(\"users.csv\", 'r') as users_csv:\n",
    "        users = csv.DictReader(users_csv)\n",
    "        for user in users:\n",
    "            try:\n",
    "                print(\"Creating user: \", user['username'], end=\" ## \")\n",
    "                \n",
    "                result = gis.users.create(username=user['username'],\n",
    "                                          password=user['password'],\n",
    "                                          firstname=user['Firstname'],\n",
    "                                          lastname=user['Lastname'],\n",
    "                                          email=user['email'],\n",
    "                                          role=user['role'],\n",
    "                                         )\n",
    "                \n",
    "                if result:\n",
    "                    print(\"success  ##\")\n",
    "\n",
    "                    print(\"\\t Adding to groups: \", end=\" # \")\n",
    "                    groups = user['groups']\n",
    "                    group_list = groups.split(\",\")\n",
    "\n",
    "                    # Search for the group\n",
    "                    for g in group_list:\n",
    "                        group_search = gis.groups.search(g)\n",
    "                        if len(group_search) > 0:\n",
    "                            try:\n",
    "                                group = group_search[0]\n",
    "                                groups_result = group.add_users([user['username']])\n",
    "                                if len(groups_result['notAdded']) == 0:\n",
    "                                    print(g, end =\" # \")\n",
    "\n",
    "                            except Exception as groups_ex:\n",
    "                                print(\"\\n \\t Cannot add user to group \", g, str(groups_ex))\n",
    "                    print(\"\\n\")\n",
    "\n",
    "            except Exception as add_ex:\n",
    "                print(\"Cannot create user: \" + user['username'])\n",
    "                print(str(add_ex))"
   ]
  },
  {
   "cell_type": "markdown",
   "metadata": {},
   "source": [
    "# Publish Content"
   ]
  },
  {
   "cell_type": "code",
   "execution_count": null,
   "metadata": {},
   "outputs": [],
   "source": [
    "def publish_content():\n",
    "    # Read the csv containing user accounts and their territory info\n",
    "    csv_path = \"users.csv\"\n",
    "\n",
    "    \n",
    "    # Read template web map\n",
    "    template_webmap_dict = dict()\n",
    "    with open(\".//user_content//web_map.json\", 'r') as webmap_file:\n",
    "                template_webmap_dict = json.load(webmap_file)\n",
    "\n",
    "    # Loop through each user and publish the content\n",
    "    with open(csv_path, 'r') as csv_handle:\n",
    "        reader = csv.DictReader(csv_handle)\n",
    "        for row in reader:\n",
    "            try:\n",
    "                data_to_publish = './/user_content//' + row['assigned_state'] + \".csv\"\n",
    "\n",
    "                print(\"Publishing \", data_to_publish, end = \" # \")\n",
    "                added_item = gis.content.add({}, data = data_to_publish)\n",
    "                published_layer = added_item.publish()\n",
    "\n",
    "                if published_layer is not None:\n",
    "                    # publish web map\n",
    "                    print('webmaps', end= \" ## \")\n",
    "                    user_webmap_dict = template_webmap_dict\n",
    "                    user_webmap_dict['operationalLayers'][0].update({'itemId': published_layer.itemid,\n",
    "                                                                     'layerType': \"ArcGISFeatureLayer\",\n",
    "                                                                     'title': published_layer.title,\n",
    "                                                                     'url': published_layer.url + r\"/0\"})\n",
    "\n",
    "                    web_map_properties = {'title': '{0} {1} response locations'.format(row['Firstname'], row['Lastname']),\n",
    "                                          'type': 'Web Map',\n",
    "                                          'snippet': 'Areas affected by Hurricane Matthew under the supervision of' +\\\n",
    "                                                     '{0} {1}'.format(row['Firstname'], row['Lastname']),\n",
    "                                          'tags': 'ArcGIS Python API',\n",
    "                                          'typeKeywords' : \"Collector, Explorer Web Map, Web Map, Map, Online Map\",\n",
    "                                          'text': json.dumps(user_webmap_dict)}\n",
    "\n",
    "                    web_map_item = gis.content.add(web_map_properties)\n",
    "\n",
    "                    print(\"success. Assigning to: \", end=\"  #  \")\n",
    "                    result1 = published_layer.reassign_to(row['username'])\n",
    "                    result2 = web_map_item.reassign_to(row['username'])\n",
    "                    if (result1 and result2) is not None:\n",
    "                        print(row['username'])\n",
    "                    else:\n",
    "                        print(\"error\")\n",
    "                else:\n",
    "                    print(\" error publishing csv\")\n",
    "\n",
    "            except Exception as pub_ex:\n",
    "                print(\"Error : \", str(pub_ex))"
   ]
  },
  {
   "cell_type": "markdown",
   "metadata": {},
   "source": [
    "# Customize the UX"
   ]
  },
  {
   "cell_type": "code",
   "execution_count": null,
   "metadata": {},
   "outputs": [],
   "source": [
    "def set_theme():\n",
    "    \n",
    "    folder = r'helper_files'\n",
    "    print(folder)\n",
    "    gis.admin.ux.set_logo(folder + r'\\logo\\dc_logo.png')\n",
    "    gis.admin.ux.set_background(is_built_in=False)\n",
    "    gis.admin.ux.set_banner(folder + r'\\baked_banner\\washingtondc_banner.png')\n",
    "    gis.admin.ux.name = \"Washington DC\"\n",
    "    gis.admin.ux.description = \"Washington DC\""
   ]
  },
  {
   "cell_type": "code",
   "execution_count": null,
   "metadata": {},
   "outputs": [],
   "source": [
    "#set_theme()\n",
    "create_groups()\n",
    "create_users()\n",
    "publish_content()"
   ]
  },
  {
   "cell_type": "markdown",
   "metadata": {},
   "source": [
    "## \"We just found out that we have to remove every user from our Portal as we have to use it for another urgent project.\n"
   ]
  },
  {
   "cell_type": "markdown",
   "metadata": {},
   "source": [
    "## Good thing we have the ArcGIS API for Python to help."
   ]
  },
  {
   "cell_type": "markdown",
   "metadata": {},
   "source": [
    "We're going to run a clean up script(clean.py) in my local IDE(PyCharm) removing everything except the admin account and some groups. \n",
    "\n"
   ]
  },
  {
   "cell_type": "code",
   "execution_count": null,
   "metadata": {},
   "outputs": [],
   "source": [
    "def clean():\n",
    "    # loop through and create users\n",
    "    with open(\"users.csv\", 'r') as users_csv:\n",
    "        users = csv.DictReader(users_csv)\n",
    "        for user in users:\n",
    "            try:\n",
    "                n = gis.users.get(user['username'])\n",
    "                i = (n.items())\n",
    "                for c in i:\n",
    "                    c.delete()\n",
    "                n.delete()\n",
    "                \n",
    "                \n",
    "\n",
    "            except Exception as add_ex:\n",
    "                print(\"exception \" + user['username'])\n",
    "                print(str(add_ex))\n",
    "clean()"
   ]
  },
  {
   "cell_type": "code",
   "execution_count": null,
   "metadata": {},
   "outputs": [],
   "source": []
  }
 ],
 "metadata": {
  "kernelspec": {
   "display_name": "Python 3",
   "language": "python",
   "name": "python3"
  },
  "language_info": {
   "codemirror_mode": {
    "name": "ipython",
    "version": 3
   },
   "file_extension": ".py",
   "mimetype": "text/x-python",
   "name": "python",
   "nbconvert_exporter": "python",
   "pygments_lexer": "ipython3",
   "version": "3.7.1"
  }
 },
 "nbformat": 4,
 "nbformat_minor": 2
}
