{
 "cells": [
  {
   "cell_type": "markdown",
   "metadata": {},
   "source": [
    "## List all web maps and their owner that use a specific web layer"
   ]
  },
  {
   "cell_type": "code",
   "execution_count": null,
   "metadata": {},
   "outputs": [],
   "source": [
    "from arcgis.gis import GIS\n",
    "import getpass\n",
    "\n",
    "username = '' # enter your username here as a string\n",
    "password = getpass.getpass('Enter password: ')\n",
    "organizationURL = '' # enter your web GIS url here as a string. for example: 'https://esridenver.maps.arcgis.com'\n",
    "\n",
    "gis = GIS(organizationURL, username, password)\n",
    "\n",
    "print(\"Connected to: {}\\nConnected as: {}\".format(gis.properties.urlKey + \".\" + gis.properties.customBaseUrl,\n",
    "                                                 gis.users.me.username))"
   ]
  },
  {
   "cell_type": "markdown",
   "metadata": {},
   "source": [
    "### define the GUID of the content item you want to work with"
   ]
  },
  {
   "cell_type": "code",
   "execution_count": null,
   "metadata": {},
   "outputs": [],
   "source": [
    "id_of_interest = '' # enter the layer GUID here as a string. for example: '612e943db9364619adba5d42dc373c20'"
   ]
  },
  {
   "cell_type": "markdown",
   "metadata": {},
   "source": [
    "### list the webmaps and thier owners that use the defined layer"
   ]
  },
  {
   "cell_type": "code",
   "execution_count": null,
   "metadata": {},
   "outputs": [],
   "source": [
    "lyr_itm = gis.content.get(id_of_interest)\n",
    "lyr = lyr_itm.layers[0]\n",
    "print(\"{} is in the following Web Maps:\".format(lyr.properties.name))\n",
    "print(\"{:-<50}\".format(\"\"))\n",
    "lyr = None\n",
    "for wm in wmaps:\n",
    "     raw_data = wm.get_data()\n",
    "     lyrs = raw_data['operationalLayers']\n",
    "     for lyr in lyrs:\n",
    "        if 'itemId' in lyr.keys() and lyr['itemId'] == id_of_interest:\n",
    "            print(\"\\t\" + wm.title)"
   ]
  }
 ],
 "metadata": {
  "kernelspec": {
   "display_name": "Python 3",
   "language": "python",
   "name": "python3"
  },
  "language_info": {
   "codemirror_mode": {
    "name": "ipython",
    "version": 3
   },
   "file_extension": ".py",
   "mimetype": "text/x-python",
   "name": "python",
   "nbconvert_exporter": "python",
   "pygments_lexer": "ipython3",
   "version": "3.7.1"
  }
 },
 "nbformat": 4,
 "nbformat_minor": 2
}
