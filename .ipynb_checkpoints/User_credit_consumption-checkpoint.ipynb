{
 "cells": [
  {
   "cell_type": "markdown",
   "metadata": {},
   "source": [
    "## Import libraries"
   ]
  },
  {
   "cell_type": "code",
   "execution_count": 1,
   "metadata": {},
   "outputs": [],
   "source": [
    "from arcgis.gis import *\n",
    "from getpass import getpass\n",
    "from IPython.display import display"
   ]
  },
  {
   "cell_type": "markdown",
   "metadata": {},
   "source": [
    "## Define the web GIS environment, your user name, ask for password, and sign into web GIS"
   ]
  },
  {
   "cell_type": "code",
   "execution_count": 2,
   "metadata": {},
   "outputs": [
    {
     "name": "stdout",
     "output_type": "stream",
     "text": [
      "········\n"
     ]
    }
   ],
   "source": [
    "password = getpass()\n",
    "gis = GIS(\"https://esridenver.maps.arcgis.com\", \"pgamberg@EsriDenver\", password, verify_cert=True)"
   ]
  },
  {
   "cell_type": "markdown",
   "metadata": {},
   "source": [
    "## Return the 10 users, of the defined role, who store the most data in the web GIS"
   ]
  },
  {
   "cell_type": "code",
   "execution_count": 4,
   "metadata": {},
   "outputs": [
    {
     "data": {
      "text/plain": [
       "[['jen mccall', 339734554],\n",
       " ['Jim Long', 7276983],\n",
       " ['Wendy Downing', 1283062],\n",
       " ['Alicia Henry', 1013656],\n",
       " ['Autumn Martinez', 957323],\n",
       " ['Will Turner', 714301],\n",
       " ['Bryn Brum', 456242],\n",
       " ['Devin Mulhern', 425984],\n",
       " ['Alicia Henry', 107913],\n",
       " ['Hailey Macrander', 79063]]"
      ]
     },
     "execution_count": 4,
     "metadata": {},
     "output_type": "execute_result"
    }
   ],
   "source": [
    "user_mgr = arcgis.gis.UserManager(gis)\n",
    "\n",
    "viewers = user_mgr.search(role='org_publisher')\n",
    "viewers\n",
    "\n",
    "most_storage = []\n",
    "for user in viewers:\n",
    "    most_storage.append([user.fullName,user.storageUsage])\n",
    "most_storage.sort(key=lambda tup: tup[1], reverse=True)\n",
    "most_storage[:10]"
   ]
  },
  {
   "cell_type": "markdown",
   "metadata": {},
   "source": [
    "## Return all users, list thier credit consumption sorted decending"
   ]
  },
  {
   "cell_type": "code",
   "execution_count": 5,
   "metadata": {},
   "outputs": [
    {
     "name": "stdout",
     "output_type": "stream",
     "text": [
      "[['Joseph Peters', 12484754870], ['Pete Gamberg', 1961713167], ['Hayley Miller', 810513409], ['Shelby Hines', 663144701], ['Dave Vaillancourt', 494301909], ['jen mccall', 339734554], ['Jeremiah Lindemann', 81125226], ['Matt Bullock', 9710534], ['Jim Long', 7276983], ['Tyler Gakstatter', 4127746]]\n"
     ]
    }
   ],
   "source": [
    "credit_users = []\n",
    "user_mgr = arcgis.gis.UserManager(gis)\n",
    "users = user_mgr.search()\n",
    "for user in users:\n",
    "    credit_users.append([user.fullName,user.storageUsage])\n",
    "credit_users.sort(key=lambda tup: tup[1], reverse=True)\n",
    "print(credit_users[:10])\n"
   ]
  },
  {
   "cell_type": "code",
   "execution_count": null,
   "metadata": {},
   "outputs": [],
   "source": []
  }
 ],
 "metadata": {
  "kernelspec": {
   "display_name": "Python 3",
   "language": "python",
   "name": "python3"
  },
  "language_info": {
   "codemirror_mode": {
    "name": "ipython",
    "version": 3
   },
   "file_extension": ".py",
   "mimetype": "text/x-python",
   "name": "python",
   "nbconvert_exporter": "python",
   "pygments_lexer": "ipython3",
   "version": "3.7.1"
  }
 },
 "nbformat": 4,
 "nbformat_minor": 2
}
