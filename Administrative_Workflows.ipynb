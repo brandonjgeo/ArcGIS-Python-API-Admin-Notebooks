{
 "cells": [
  {
   "cell_type": "markdown",
   "metadata": {
    "slideshow": {
     "slide_type": "slide"
    }
   },
   "source": [
    "# <span style=\"color:purple\">ArcGIS API for Python</span>\n",
    "\n",
    "\n",
    "## Demo: Administrative Management of Users, Roles & Groups"
   ]
  },
  {
   "cell_type": "markdown",
   "metadata": {},
   "source": [
    "### We will go over a few workflows to show how the ArcGIS API can help administrators of Web GIS."
   ]
  },
  {
   "cell_type": "markdown",
   "metadata": {},
   "source": [
    "Let's import a few modules. We are importing getpass to provide the GIS object with a password in a safe manner."
   ]
  },
  {
   "cell_type": "code",
   "execution_count": 27,
   "metadata": {},
   "outputs": [],
   "source": [
    "from arcgis.gis import *\n",
    "from getpass import getpass\n",
    "from IPython.display import display"
   ]
  },
  {
   "cell_type": "markdown",
   "metadata": {},
   "source": [
    "Let's call our GIS object and pass a local Portal."
   ]
  },
  {
   "cell_type": "code",
   "execution_count": 28,
   "metadata": {},
   "outputs": [
    {
     "name": "stdout",
     "output_type": "stream",
     "text": [
      "········\n"
     ]
    }
   ],
   "source": [
    "password = getpass()\n",
    "gis = GIS(\"https://statesales.maps.arcgis.com\", \"pgamberg_statesales\", password, verify_cert=False)"
   ]
  },
  {
   "cell_type": "code",
   "execution_count": 29,
   "metadata": {},
   "outputs": [
    {
     "data": {
      "text/html": [
       "GIS @ <a href=\"https://statesales.maps.arcgis.com\">https://statesales.maps.arcgis.com</a>"
      ],
      "text/plain": [
       "GIS @ https://statesales.maps.arcgis.com version:7.2"
      ]
     },
     "execution_count": 29,
     "metadata": {},
     "output_type": "execute_result"
    }
   ],
   "source": [
    "gis"
   ]
  },
  {
   "cell_type": "markdown",
   "metadata": {},
   "source": [
    "### Querying for users"
   ]
  },
  {
   "cell_type": "markdown",
   "metadata": {},
   "source": [
    "Let's run a full query for listed users:"
   ]
  },
  {
   "cell_type": "code",
   "execution_count": 4,
   "metadata": {},
   "outputs": [
    {
     "data": {
      "text/plain": [
       "[<User username:alis4396@esri.com_statesales>,\n",
       " <User username:ambe9440@esri.com_statesales>,\n",
       " <User username:anth5900@esri.com_statesales>,\n",
       " <User username:bbowles_statesales>,\n",
       " <User username:bjones_statesales>,\n",
       " <User username:bruc6988@esri.com_statesales>,\n",
       " <User username:bschmitz_statesales>,\n",
       " <User username:canderson_statesales>,\n",
       " <User username:cdorn_statesales>,\n",
       " <User username:cfisher_statesales>,\n",
       " <User username:chri1175@esri.com_statesales>,\n",
       " <User username:chri1610@esri.com_statesales>,\n",
       " <User username:chri4096@esri.com_statesales>,\n",
       " <User username:cnickola_statesales>,\n",
       " <User username:dan1988@esri.com_statesales>,\n",
       " <User username:davi9630@esri.com_statesales>,\n",
       " <User username:dhaag_esri_state>,\n",
       " <User username:eric3918@esri.com_statesales>,\n",
       " <User username:esristateadmin>,\n",
       " <User username:EsriStateSales>,\n",
       " <User username:jbowles_statesales>,\n",
       " <User username:jeckmann@esri.com_statesales>,\n",
       " <User username:jeckmann_statesales>,\n",
       " <User username:jeff2970@esri.com_statesales>,\n",
       " <User username:jess4828@esri.com_statesales>,\n",
       " <User username:jg1636@esri.com_statesales>,\n",
       " <User username:jhagen_statesales>,\n",
       " <User username:jlindemann_statesales>,\n",
       " <User username:jmiller_statesales>,\n",
       " <User username:john7333@esri.com_statesales>,\n",
       " <User username:jona6743@esri.com_statesales>,\n",
       " <User username:jose1826@esri.com_statesales>,\n",
       " <User username:jpdoherty_statesales>,\n",
       " <User username:jpedderState>,\n",
       " <User username:jpedder_statesales>,\n",
       " <User username:jruffing_statesales>,\n",
       " <User username:JSill_statesales>,\n",
       " <User username:kclancy_statesales>,\n",
       " <User username:kevi5632@esri.com_statesales>,\n",
       " <User username:KKantharaj_statesales>,\n",
       " <User username:krit7745@esri.com_statesales>,\n",
       " <User username:lconnelly_statesales>,\n",
       " <User username:lee8057@esri.com_statesales>,\n",
       " <User username:mark9431@esri.com_statesales>,\n",
       " <User username:matt3220@esri.com_statesales>,\n",
       " <User username:matt7399@esri.com_statesales>,\n",
       " <User username:Matt8683@esri.com_statesales>,\n",
       " <User username:matt8819@esri.com_statesales>,\n",
       " <User username:matt9602@esri.com_statesales>,\n",
       " <User username:mbullock_statesales>,\n",
       " <User username:mdenuelle_statesales>,\n",
       " <User username:mich9138@esri.com_statesales>,\n",
       " <User username:mike1437@esri.com_statesales>,\n",
       " <User username:mike9930@esri.com_statesales>,\n",
       " <User username:mkoutnik_statesales>,\n",
       " <User username:mlundeen_statesales>,\n",
       " <User username:MRobinson_statesales>,\n",
       " <User username:mscott_statesales>,\n",
       " <User username:mviverito_statesales>,\n",
       " <User username:naku5038@esri.com_statesales>,\n",
       " <User username:nath497@esri.com_statesales>,\n",
       " <User username:nbhatia_statesales>,\n",
       " <User username:ndelcervo_statesales>,\n",
       " <User username:nic10426@esri.com_statesales>,\n",
       " <User username:nlyons@esri.com_statesales>,\n",
       " <User username:nsauter_statesales>,\n",
       " <User username:nsmith_statesales>,\n",
       " <User username:pat2444@esri.com_statesales>,\n",
       " <User username:paul2854@esri.com_statesales>,\n",
       " <User username:pete9378@esri.com_statesales>,\n",
       " <User username:pgamberg_statesales>,\n",
       " <User username:rlow_statesales>,\n",
       " <User username:Robe4742@esri.com_statesales>,\n",
       " <User username:rod3512@esri.com_statesales>,\n",
       " <User username:rrike_statesales>,\n",
       " <User username:sara5687@esri.com_statesales>,\n",
       " <User username:sbarnes_statesales>,\n",
       " <User username:scot5141@esri.com_statesales>,\n",
       " <User username:scot6032@esri.com_statesales>,\n",
       " <User username:sean8468@esri.com_statesales>,\n",
       " <User username:seth1822@esri.com_statesales>,\n",
       " <User username:shay9409@esri.com_statesales>,\n",
       " <User username:smoore_statesales>,\n",
       " <User username:sperkins_statesales>,\n",
       " <User username:StateSalesInsightsUser>,\n",
       " <User username:svanaken_statesales>,\n",
       " <User username:terr4158@esri.com_statesales>,\n",
       " <User username:thensley_statesales>,\n",
       " <User username:timo8279@esri.com_statesales>,\n",
       " <User username:todd9727@esri.com_statesales>,\n",
       " <User username:tom@esri.com_statesales>,\n",
       " <User username:toms@esri.com_statesales>,\n",
       " <User username:trac2205@esri.com_statesales>,\n",
       " <User username:tschwartzman_statesales>,\n",
       " <User username:ttracey_statesales>,\n",
       " <User username:will8421@esri.com_statesales>,\n",
       " <User username:zpelletier_statesales>]"
      ]
     },
     "execution_count": 4,
     "metadata": {},
     "output_type": "execute_result"
    }
   ],
   "source": [
    "gis.users.search()\n"
   ]
  },
  {
   "cell_type": "code",
   "execution_count": 30,
   "metadata": {},
   "outputs": [
    {
     "data": {
      "text/html": [
       "<div class=\"9item_container\" style=\"height: auto; overflow: hidden; border: 1px solid #cfcfcf; border-radius: 2px; background: #f6fafa; line-height: 1.21429em; padding: 10px;\">\n",
       "                    <div class=\"item_left\" style=\"width: 210px; float: left;\">\n",
       "                       <a href='https://statesales.maps.arcgis.com/home/user.html?user=pgamberg_statesales' target='_blank'>\n",
       "                        <img src='https://statesales.maps.arcgis.com/home/js/arcgisonline/css/images/no-user-thumb.jpg' class=\"itemThumbnail\">\n",
       "                       </a>\n",
       "                    </div>\n",
       "\n",
       "                    <div class=\"item_right\" style=\"float: none; width: auto; overflow: hidden;\">\n",
       "                        <a href='https://statesales.maps.arcgis.com/home/user.html?user=pgamberg_statesales' target='_blank'><b>Pete Gamberg</b>\n",
       "                        </a>\n",
       "                        <br/><br/><b>Bio</b>: \n",
       "                        <br/><b>First Name</b>: Pete\n",
       "                        <br/><b>Last Name</b>: Gamberg\n",
       "                        <br/><b>Username</b>: pgamberg_statesales\n",
       "                        <br/><b>Joined</b>: September 29, 2017\n",
       "\n",
       "                    </div>\n",
       "                </div>\n",
       "                "
      ],
      "text/plain": [
       "<User username:pgamberg_statesales>"
      ]
     },
     "execution_count": 30,
     "metadata": {},
     "output_type": "execute_result"
    }
   ],
   "source": [
    "gis.users.me"
   ]
  },
  {
   "cell_type": "markdown",
   "metadata": {},
   "source": [
    "Filter your user search..."
   ]
  },
  {
   "cell_type": "code",
   "execution_count": 6,
   "metadata": {},
   "outputs": [
    {
     "data": {
      "text/plain": [
       "[<User username:pete9378@esri.com_statesales>,\n",
       " <User username:pgamberg_statesales>]"
      ]
     },
     "execution_count": 6,
     "metadata": {},
     "output_type": "execute_result"
    }
   ],
   "source": [
    "gis.users.search(\"pete\")"
   ]
  },
  {
   "cell_type": "markdown",
   "metadata": {},
   "source": [
    "Let's search for my colleague, Matt"
   ]
  },
  {
   "cell_type": "code",
   "execution_count": 7,
   "metadata": {},
   "outputs": [
    {
     "data": {
      "text/plain": [
       "[<User username:matt3220@esri.com_statesales>,\n",
       " <User username:matt7399@esri.com_statesales>,\n",
       " <User username:Matt8683@esri.com_statesales>,\n",
       " <User username:matt8819@esri.com_statesales>,\n",
       " <User username:matt9602@esri.com_statesales>,\n",
       " <User username:mbullock_statesales>,\n",
       " <User username:mdenuelle_statesales>,\n",
       " <User username:MRobinson_statesales>,\n",
       " <User username:mviverito_statesales>]"
      ]
     },
     "execution_count": 7,
     "metadata": {},
     "output_type": "execute_result"
    }
   ],
   "source": [
    "gis.users.search(\"Matt\")"
   ]
  },
  {
   "cell_type": "markdown",
   "metadata": {},
   "source": [
    "### Create a new user"
   ]
  },
  {
   "cell_type": "markdown",
   "metadata": {},
   "source": [
    "Users can be created through the API"
   ]
  },
  {
   "cell_type": "code",
   "execution_count": null,
   "metadata": {},
   "outputs": [],
   "source": [
    "gis.users.create?"
   ]
  },
  {
   "cell_type": "code",
   "execution_count": 8,
   "metadata": {},
   "outputs": [
    {
     "data": {
      "text/html": [
       "<div class=\"9item_container\" style=\"height: auto; overflow: hidden; border: 1px solid #cfcfcf; border-radius: 2px; background: #f6fafa; line-height: 1.21429em; padding: 10px;\">\n",
       "                    <div class=\"item_left\" style=\"width: 210px; float: left;\">\n",
       "                       <a href='https://statesales.maps.arcgis.com/home/user.html?user=SmithCollinss' target='_blank'>\n",
       "                        <img src='https://statesales.maps.arcgis.com/home/js/arcgisonline/css/images/no-user-thumb.jpg' class=\"itemThumbnail\">\n",
       "                       </a>\n",
       "                    </div>\n",
       "\n",
       "                    <div class=\"item_right\" style=\"float: none; width: auto; overflow: hidden;\">\n",
       "                        <a href='https://statesales.maps.arcgis.com/home/user.html?user=SmithCollinss' target='_blank'><b>smith colins</b>\n",
       "                        </a>\n",
       "                        <br/><br/><b>Bio</b>: None\n",
       "                        <br/><b>First Name</b>: smith\n",
       "                        <br/><b>Last Name</b>: colins\n",
       "                        <br/><b>Username</b>: SmithCollinss\n",
       "                        <br/><b>Joined</b>: July 25, 2019\n",
       "\n",
       "                    </div>\n",
       "                </div>\n",
       "                "
      ],
      "text/plain": [
       "<User username:SmithCollinss>"
      ]
     },
     "execution_count": 8,
     "metadata": {},
     "output_type": "execute_result"
    }
   ],
   "source": [
    "new_user = gis.users.create(username = \"SmithCollinss\", \n",
    "                           password=\"COLL@123\", \n",
    "                          firstname=\"smith\", \n",
    "                          lastname=\"colins\", \n",
    "                          email=\"smith.collins@company.com\",  \n",
    "                          role='org_user')\n",
    "new_user"
   ]
  },
  {
   "cell_type": "markdown",
   "metadata": {},
   "source": [
    "This variable is now a \"user\" object"
   ]
  },
  {
   "cell_type": "code",
   "execution_count": 9,
   "metadata": {},
   "outputs": [
    {
     "data": {
      "text/plain": [
       "arcgis.gis.User"
      ]
     },
     "execution_count": 9,
     "metadata": {},
     "output_type": "execute_result"
    }
   ],
   "source": [
    "type(new_user)"
   ]
  },
  {
   "cell_type": "markdown",
   "metadata": {},
   "source": [
    "Use intellisense to see all the options you have available with user objects."
   ]
  },
  {
   "cell_type": "code",
   "execution_count": 10,
   "metadata": {},
   "outputs": [],
   "source": [
    "new_user.description"
   ]
  },
  {
   "cell_type": "code",
   "execution_count": 11,
   "metadata": {},
   "outputs": [
    {
     "data": {
      "text/plain": [
       "'smith.collins@company.com'"
      ]
     },
     "execution_count": 11,
     "metadata": {},
     "output_type": "execute_result"
    }
   ],
   "source": [
    "new_user.email"
   ]
  },
  {
   "cell_type": "code",
   "execution_count": 12,
   "metadata": {
    "scrolled": true
   },
   "outputs": [
    {
     "data": {
      "text/plain": [
       "True"
      ]
     },
     "execution_count": 12,
     "metadata": {},
     "output_type": "execute_result"
    }
   ],
   "source": [
    "new_user.delete()"
   ]
  },
  {
   "cell_type": "markdown",
   "metadata": {},
   "source": [
    "### Querying for groups"
   ]
  },
  {
   "cell_type": "code",
   "execution_count": null,
   "metadata": {},
   "outputs": [],
   "source": [
    "gis.groups.search()"
   ]
  },
  {
   "cell_type": "markdown",
   "metadata": {},
   "source": [
    "Let's create the group"
   ]
  },
  {
   "cell_type": "code",
   "execution_count": 13,
   "metadata": {
    "scrolled": true
   },
   "outputs": [],
   "source": [
    "# create groups\n",
    "demo_group = gis.groups.create(\"Field Work\", \"Demo; CO\")"
   ]
  },
  {
   "cell_type": "markdown",
   "metadata": {},
   "source": [
    "This is a \"group\" object"
   ]
  },
  {
   "cell_type": "code",
   "execution_count": 31,
   "metadata": {},
   "outputs": [],
   "source": [
    "demo_group?"
   ]
  },
  {
   "cell_type": "code",
   "execution_count": 15,
   "metadata": {
    "scrolled": true
   },
   "outputs": [
    {
     "data": {
      "text/html": [
       "<div class=\"9item_container\" style=\"height: auto; overflow: hidden; border: 1px solid #cfcfcf; border-radius: 2px; background: #f6fafa; line-height: 1.21429em; padding: 10px;\">\n",
       "                    <div class=\"item_left\" style=\"width: 210px; float: left;\">\n",
       "                       <a href='https://statesales.maps.arcgis.com/home/group.html?id=c20b6782c9b745918c6aaceaa52fa24a' target='_blank'>\n",
       "                        <img src='https://statesales.maps.arcgis.com/home/images/group-no-image.png' class=\"itemThumbnail\">\n",
       "                       </a>\n",
       "                    </div>\n",
       "\n",
       "                    <div class=\"item_right\" style=\"float: none; width: auto; overflow: hidden;\">\n",
       "                        <a href='https://statesales.maps.arcgis.com/home/group.html?id=c20b6782c9b745918c6aaceaa52fa24a' target='_blank'><b>Field Work</b>\n",
       "                        </a>\n",
       "                        <br/>\n",
       "                        <br/><b>Summary</b>: None\n",
       "                        <br/><b>Description</b>: None\n",
       "                        <br/><b>Owner</b>: pgamberg_statesales\n",
       "                        <br/><b>Created</b>: July 25, 2019\n",
       "\n",
       "                    </div>\n",
       "                </div>\n",
       "                "
      ],
      "text/plain": [
       "<Group title:\"Field Work\" owner:pgamberg_statesales>"
      ]
     },
     "execution_count": 15,
     "metadata": {},
     "output_type": "execute_result"
    }
   ],
   "source": [
    "demo_group"
   ]
  },
  {
   "cell_type": "code",
   "execution_count": 16,
   "metadata": {},
   "outputs": [
    {
     "data": {
      "text/plain": [
       "arcgis.gis.Group"
      ]
     },
     "execution_count": 16,
     "metadata": {},
     "output_type": "execute_result"
    }
   ],
   "source": [
    "type(demo_group)"
   ]
  },
  {
   "cell_type": "markdown",
   "metadata": {},
   "source": [
    "Like the user object, it has methods we can call on it"
   ]
  },
  {
   "cell_type": "code",
   "execution_count": 17,
   "metadata": {},
   "outputs": [
    {
     "data": {
      "text/plain": [
       "'public'"
      ]
     },
     "execution_count": 17,
     "metadata": {},
     "output_type": "execute_result"
    }
   ],
   "source": [
    "demo_group.access"
   ]
  },
  {
   "cell_type": "markdown",
   "metadata": {},
   "source": [
    "# Let's say your boss suddenly gets an idea!\n",
    "\n",
    "\n",
    "## Boss:\n",
    "## \"I want you to create a new portal, with new users from our regional teams and mulitple groups and make every member is part of their groups. \n",
    "## \"And I need this before you go home.\"\n"
   ]
  },
  {
   "cell_type": "markdown",
   "metadata": {},
   "source": [
    "## Have no fear! The ArcGIS API for Python is here to help."
   ]
  },
  {
   "cell_type": "markdown",
   "metadata": {},
   "source": [
    "We're going to import some libraries to help us"
   ]
  },
  {
   "cell_type": "code",
   "execution_count": 18,
   "metadata": {},
   "outputs": [],
   "source": [
    "import csv \n",
    "import json"
   ]
  },
  {
   "cell_type": "markdown",
   "metadata": {},
   "source": [
    "# Create Groups"
   ]
  },
  {
   "cell_type": "code",
   "execution_count": 19,
   "metadata": {},
   "outputs": [],
   "source": [
    "def create_groups():\n",
    "    print(\"CREATING GROUPS\")\n",
    "\n",
    "    with open(\"groups.csv\", 'r') as groups_csv:\n",
    "        groups = csv.DictReader(groups_csv)\n",
    "        for group in groups:\n",
    "            try:\n",
    "                print(\" Creating group: \", group['title'], end=\"  ##  \")\n",
    "                result = gis.groups.create_from_dict(group)\n",
    "                if result:\n",
    "                    print(\"success\")\n",
    "            except Exception as create_ex:\n",
    "                print(\"Error... \", str(create_ex))"
   ]
  },
  {
   "cell_type": "markdown",
   "metadata": {},
   "source": [
    "# Add Users"
   ]
  },
  {
   "cell_type": "code",
   "execution_count": 20,
   "metadata": {},
   "outputs": [],
   "source": [
    "def create_users():\n",
    "    # loop through and create users\n",
    "    with open(\"users.csv\", 'r') as users_csv:\n",
    "        users = csv.DictReader(users_csv)\n",
    "        for user in users:\n",
    "            try:\n",
    "                print(\"Creating user: \", user['username'], end=\" ## \")\n",
    "                \n",
    "                result = gis.users.create(username=user['username'],\n",
    "                                          password=user['password'],\n",
    "                                          firstname=user['Firstname'],\n",
    "                                          lastname=user['Lastname'],\n",
    "                                          email=user['email'],\n",
    "                                          role=user['role'],\n",
    "                                         )\n",
    "                \n",
    "                if result:\n",
    "                    print(\"success  ##\")\n",
    "\n",
    "                    print(\"\\t Adding to groups: \", end=\" # \")\n",
    "                    groups = user['groups']\n",
    "                    group_list = groups.split(\",\")\n",
    "\n",
    "                    # Search for the group\n",
    "                    for g in group_list:\n",
    "                        group_search = gis.groups.search(g)\n",
    "                        if len(group_search) > 0:\n",
    "                            try:\n",
    "                                group = group_search[0]\n",
    "                                groups_result = group.add_users([user['username']])\n",
    "                                if len(groups_result['notAdded']) == 0:\n",
    "                                    print(g, end =\" # \")\n",
    "\n",
    "                            except Exception as groups_ex:\n",
    "                                print(\"\\n \\t Cannot add user to group \", g, str(groups_ex))\n",
    "                    print(\"\\n\")\n",
    "\n",
    "            except Exception as add_ex:\n",
    "                print(\"Cannot create user: \" + user['username'])\n",
    "                print(str(add_ex))"
   ]
  },
  {
   "cell_type": "markdown",
   "metadata": {},
   "source": [
    "# Publish Content"
   ]
  },
  {
   "cell_type": "code",
   "execution_count": 21,
   "metadata": {},
   "outputs": [],
   "source": [
    "def publish_content():\n",
    "    # Read the csv containing user accounts and their territory info\n",
    "    csv_path = \"users.csv\"\n",
    "\n",
    "    \n",
    "    # Read template web map\n",
    "    template_webmap_dict = dict()\n",
    "    with open(\".//user_content//web_map.json\", 'r') as webmap_file:\n",
    "                template_webmap_dict = json.load(webmap_file)\n",
    "\n",
    "    # Loop through each user and publish the content\n",
    "    with open(csv_path, 'r') as csv_handle:\n",
    "        reader = csv.DictReader(csv_handle)\n",
    "        for row in reader:\n",
    "            try:\n",
    "                data_to_publish = './/user_content//' + row['assigned_state'] + \".csv\"\n",
    "\n",
    "                print(\"Publishing \", data_to_publish, end = \" # \")\n",
    "                added_item = gis.content.add({}, data = data_to_publish)\n",
    "                published_layer = added_item.publish()\n",
    "\n",
    "                if published_layer is not None:\n",
    "                    # publish web map\n",
    "                    print('webmaps', end= \" ## \")\n",
    "                    user_webmap_dict = template_webmap_dict\n",
    "                    user_webmap_dict['operationalLayers'][0].update({'itemId': published_layer.itemid,\n",
    "                                                                     'layerType': \"ArcGISFeatureLayer\",\n",
    "                                                                     'title': published_layer.title,\n",
    "                                                                     'url': published_layer.url + r\"/0\"})\n",
    "\n",
    "                    web_map_properties = {'title': '{0} {1} response locations'.format(row['Firstname'], row['Lastname']),\n",
    "                                          'type': 'Web Map',\n",
    "                                          'snippet': 'Areas affected by Hurricane Matthew under the supervision of' +\\\n",
    "                                                     '{0} {1}'.format(row['Firstname'], row['Lastname']),\n",
    "                                          'tags': 'ArcGIS Python API',\n",
    "                                          'typeKeywords' : \"Collector, Explorer Web Map, Web Map, Map, Online Map\",\n",
    "                                          'text': json.dumps(user_webmap_dict)}\n",
    "\n",
    "                    web_map_item = gis.content.add(web_map_properties)\n",
    "\n",
    "                    print(\"success. Assigning to: \", end=\"  #  \")\n",
    "                    result1 = published_layer.reassign_to(row['username'])\n",
    "                    result2 = web_map_item.reassign_to(row['username'])\n",
    "                    if (result1 and result2) is not None:\n",
    "                        print(row['username'])\n",
    "                    else:\n",
    "                        print(\"error\")\n",
    "                else:\n",
    "                    print(\" error publishing csv\")\n",
    "\n",
    "            except Exception as pub_ex:\n",
    "                print(\"Error : \", str(pub_ex))"
   ]
  },
  {
   "cell_type": "markdown",
   "metadata": {},
   "source": [
    "# Customize the UX"
   ]
  },
  {
   "cell_type": "code",
   "execution_count": 22,
   "metadata": {},
   "outputs": [],
   "source": [
    "def set_theme():\n",
    "    \n",
    "    folder = r'helper_files'\n",
    "    print(folder)\n",
    "    gis.admin.ux.set_logo(folder + r'\\logo\\dc_logo.png')\n",
    "    gis.admin.ux.set_background(is_built_in=False)\n",
    "    gis.admin.ux.set_banner(folder + r'\\baked_banner\\washingtondc_banner.png')\n",
    "    gis.admin.ux.name = \"Washington DC\"\n",
    "    gis.admin.ux.description = \"Washington DC\""
   ]
  },
  {
   "cell_type": "code",
   "execution_count": 25,
   "metadata": {},
   "outputs": [
    {
     "name": "stdout",
     "output_type": "stream",
     "text": [
      "CREATING GROUPS\n",
      " Creating group:  Basemaps  ##  success\n",
      " Creating group:  Central Services  ##  success\n",
      " Creating group:  Compliance  ##  success\n",
      " Creating group:  Customer Service, Finance, Billing and Accounting  ##  success\n",
      " Creating group:  Demographic Content  ##  success\n",
      "Creating user:  SmithCollins ## success  ##\n",
      "\t Adding to groups:  # Basemaps #  Central Services # \n",
      "\n",
      "Creating user:  JohnsonStewart ## success  ##\n",
      "\t Adding to groups:  # Basemaps #  Central Services # \n",
      "\n",
      "Creating user:  WilliamsSanchez ## success  ##\n",
      "\t Adding to groups:  # Basemaps #  Customer Service # \n",
      "\n",
      "Publishing  .//user_content//KS.csv # webmaps ## success. Assigning to:   #  SmithCollins\n",
      "Publishing  .//user_content//NV.csv # webmaps ## success. Assigning to:   #  JohnsonStewart\n",
      "Publishing  .//user_content//IN.csv # webmaps ## success. Assigning to:   #  WilliamsSanchez\n"
     ]
    }
   ],
   "source": [
    "#set_theme()\n",
    "create_groups()\n",
    "create_users()\n",
    "publish_content()"
   ]
  },
  {
   "cell_type": "markdown",
   "metadata": {},
   "source": [
    "## \"We just found out that we have to remove every user from our Portal as we have to use it for another urgent project.\n"
   ]
  },
  {
   "cell_type": "markdown",
   "metadata": {},
   "source": [
    "## Good thing we have the ArcGIS API for Python to help."
   ]
  },
  {
   "cell_type": "markdown",
   "metadata": {},
   "source": [
    "We're going to run a clean up script(clean.py) in my local IDE(PyCharm) removing everything except the admin account and some groups. \n",
    "\n"
   ]
  },
  {
   "cell_type": "code",
   "execution_count": 26,
   "metadata": {},
   "outputs": [],
   "source": [
    "def clean():\n",
    "    with open(\"users.csv\", 'r') as users_csv:\n",
    "        users = csv.DictReader(users_csv)\n",
    "        for user in users:\n",
    "            try:\n",
    "                n = gis.users.get(user['username'])\n",
    "                i = (n.items())\n",
    "                for c in i:\n",
    "                    c.delete()\n",
    "                n.delete()\n",
    "                \n",
    "                \n",
    "\n",
    "            except Exception as add_ex:\n",
    "                print(\"exception \" + user['username'])\n",
    "                print(str(add_ex))\n",
    "clean()"
   ]
  },
  {
   "cell_type": "code",
   "execution_count": null,
   "metadata": {},
   "outputs": [],
   "source": []
  }
 ],
 "metadata": {
  "kernelspec": {
   "display_name": "Python 3",
   "language": "python",
   "name": "python3"
  },
  "language_info": {
   "codemirror_mode": {
    "name": "ipython",
    "version": 3
   },
   "file_extension": ".py",
   "mimetype": "text/x-python",
   "name": "python",
   "nbconvert_exporter": "python",
   "pygments_lexer": "ipython3",
   "version": "3.7.1"
  }
 },
 "nbformat": 4,
 "nbformat_minor": 2
}
