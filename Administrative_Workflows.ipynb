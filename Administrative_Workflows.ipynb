{
 "cells": [
  {
   "cell_type": "markdown",
   "metadata": {
    "slideshow": {
     "slide_type": "slide"
    }
   },
   "source": [
    "# <span style=\"color:purple\">ArcGIS API for Python</span>\n",
    "\n",
    "\n",
    "## Demo: Administrative Management of Users, Roles & Groups"
   ]
  },
  {
   "cell_type": "markdown",
   "metadata": {},
   "source": [
    "### We will go over a few workflows to show how the ArcGIS API can help administrators of Web GIS."
   ]
  },
  {
   "cell_type": "markdown",
   "metadata": {},
   "source": [
    "Let's import a few modules. We are importing getpass to provide the GIS object with a password in a safe manner."
   ]
  },
  {
   "cell_type": "code",
   "execution_count": 1,
   "metadata": {},
   "outputs": [],
   "source": [
    "from arcgis.gis import *\n",
    "from getpass import getpass\n",
    "from IPython.display import display"
   ]
  },
  {
   "cell_type": "markdown",
   "metadata": {},
   "source": [
    "Let's call our GIS object and pass a local Portal."
   ]
  },
  {
   "cell_type": "code",
   "execution_count": 2,
   "metadata": {},
   "outputs": [
    {
     "name": "stdout",
     "output_type": "stream",
     "text": [
      "········\n"
     ]
    }
   ],
   "source": [
    "password = getpass()\n",
    "gis = GIS(\"https://esridenver.maps.arcgis.com\", \"pgamberg@EsriDenver\", password, verify_cert=False)"
   ]
  },
  {
   "cell_type": "code",
   "execution_count": 3,
   "metadata": {},
   "outputs": [
    {
     "data": {
      "text/html": [
       "GIS @ <a href=\"https://esridenver.maps.arcgis.com\">https://esridenver.maps.arcgis.com</a>"
      ],
      "text/plain": [
       "GIS @ https://esridenver.maps.arcgis.com version:7.1"
      ]
     },
     "execution_count": 3,
     "metadata": {},
     "output_type": "execute_result"
    }
   ],
   "source": [
    "gis"
   ]
  },
  {
   "cell_type": "markdown",
   "metadata": {},
   "source": [
    "### Querying for users"
   ]
  },
  {
   "cell_type": "markdown",
   "metadata": {},
   "source": [
    "Let's run a full query for listed users:"
   ]
  },
  {
   "cell_type": "code",
   "execution_count": 4,
   "metadata": {},
   "outputs": [
    {
     "data": {
      "text/plain": [
       "[<User username:AA_student_esridenver>,\n",
       " <User username:ahenry@esridenver>,\n",
       " <User username:aknapp@esridenver>,\n",
       " <User username:alex_ocean0>,\n",
       " <User username:Alicia_Scottsdale>,\n",
       " <User username:Autumn_Maricopa>,\n",
       " <User username:A_student_esridenver>,\n",
       " <User username:bbrum_esridenver>,\n",
       " <User username:BB_student_esridenver>,\n",
       " <User username:benjaminz_gnss>,\n",
       " <User username:blegeer_esridenver>,\n",
       " <User username:B_student_esridenver>,\n",
       " <User username:carson_coates6>,\n",
       " <User username:CC_student_esridenver>,\n",
       " <User username:C_student_esridenver>,\n",
       " <User username:Das_Insights>,\n",
       " <User username:DCarroll_esridenver>,\n",
       " <User username:DD_student_esridenver>,\n",
       " <User username:dmulhern_esridenver>,\n",
       " <User username:dvaillancourt_esridenver>,\n",
       " <User username:dvaillancourt_esridenver1>,\n",
       " <User username:D_student_esridenver>,\n",
       " <User username:EE_student_esridenver>,\n",
       " <User username:Eneboe_Insights>,\n",
       " <User username:E_student_esridenver>,\n",
       " <User username:Fagan_Insights>,\n",
       " <User username:FF_student_esridenver>,\n",
       " <User username:F_student_esridenver>,\n",
       " <User username:GG_student_esridenver>,\n",
       " <User username:Graybeal_Insights>,\n",
       " <User username:G_student_esridenver>,\n",
       " <User username:HH_student_esridenver>,\n",
       " <User username:hmacrander_esridenver>,\n",
       " <User username:hmiller_esridenver>,\n",
       " <User username:H_student_esridenver>,\n",
       " <User username:II_student_esridenver>,\n",
       " <User username:I_student_esridenver>,\n",
       " <User username:Jackson_Insights>,\n",
       " <User username:james_ocean>,\n",
       " <User username:jchannin_esridenver>,\n",
       " <User username:Jeffrey_insights4>,\n",
       " <User username:jeff_ryan1>,\n",
       " <User username:jen_mccall>,\n",
       " <User username:jhagen@EsriDenver>,\n",
       " <User username:JJ_student_esridenver>,\n",
       " <User username:jlindemann@EsriDenver>,\n",
       " <User username:josephpeterpeters@esridenver>,\n",
       " <User username:joseph_peters@esridenver>,\n",
       " <User username:joseph_peters_level1>,\n",
       " <User username:J_student_esridenver>,\n",
       " <User username:Kerski_Insights>,\n",
       " <User username:KK_student_esridenver>,\n",
       " <User username:Kristy_Scottsdale>,\n",
       " <User username:K_student_esridenver>,\n",
       " <User username:Lindemann_Insights>,\n",
       " <User username:LL_student_esridenver>,\n",
       " <User username:Long_Insights>,\n",
       " <User username:L_student_esridenver>,\n",
       " <User username:mbullock@EsriDenver>,\n",
       " <User username:McCollom_Insights>,\n",
       " <User username:mgroves_esridenver>,\n",
       " <User username:Mike_Scottsdale>,\n",
       " <User username:MM_student_esridenver>,\n",
       " <User username:mwalck_esridenver>,\n",
       " <User username:M_student_esridenver>,\n",
       " <User username:nbohac_esridenver>,\n",
       " <User username:NN_student_esridenver>,\n",
       " <User username:N_student_esridenver>,\n",
       " <User username:OO_student_esridenver>,\n",
       " <User username:O_student_esridenver>,\n",
       " <User username:paul_stivers>,\n",
       " <User username:pete_student>,\n",
       " <User username:Pete_viewer>,\n",
       " <User username:pgamberg@EsriDenver>,\n",
       " <User username:PP_student_esridenver>,\n",
       " <User username:P_student_esridenver>,\n",
       " <User username:QQ_student_esridenver>,\n",
       " <User username:Q_student_esridenver>,\n",
       " <User username:rich_esridenver>,\n",
       " <User username:RR_student_esridenver>,\n",
       " <User username:R_student_esridenver>,\n",
       " <User username:ShelbyHines_esridenver>,\n",
       " <User username:SS_student_esridenver>,\n",
       " <User username:S_student_esridenver>,\n",
       " <User username:TT_student_esridenver>,\n",
       " <User username:tylerg_esridenver>,\n",
       " <User username:T_student_esridenver>,\n",
       " <User username:UU_student_esridenver>,\n",
       " <User username:U_student_esridenver>,\n",
       " <User username:vcollins_esridenver>,\n",
       " <User username:VV_student_esridenver>,\n",
       " <User username:V_student_esridenver>,\n",
       " <User username:wdowning_maricopa>,\n",
       " <User username:Will_Maricopa>,\n",
       " <User username:WW_student_esridenver>,\n",
       " <User username:W_student_esridenver>,\n",
       " <User username:XX_student_esridenver>,\n",
       " <User username:X_student_esridenver>,\n",
       " <User username:YY_student_esridenver>,\n",
       " <User username:Y_student_esridenver>]"
      ]
     },
     "execution_count": 4,
     "metadata": {},
     "output_type": "execute_result"
    }
   ],
   "source": [
    "gis.users.search()\n"
   ]
  },
  {
   "cell_type": "code",
   "execution_count": 5,
   "metadata": {},
   "outputs": [
    {
     "data": {
      "text/html": [
       "<div class=\"9item_container\" style=\"height: auto; overflow: hidden; border: 1px solid #cfcfcf; border-radius: 2px; background: #f6fafa; line-height: 1.21429em; padding: 10px;\">\n",
       "                    <div class=\"item_left\" style=\"width: 210px; float: left;\">\n",
       "                       <a href='https://esridenver.maps.arcgis.com/home/user.html?user=pgamberg@EsriDenver' target='_blank'>\n",
       "                        <img src='data:image/png;base64,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' width='200' height='133' class=\"itemThumbnail\">\n",
       "                       </a>\n",
       "                    </div>\n",
       "\n",
       "                    <div class=\"item_right\" style=\"float: none; width: auto; overflow: hidden;\">\n",
       "                        <a href='https://esridenver.maps.arcgis.com/home/user.html?user=pgamberg@EsriDenver' target='_blank'><b>Pete Gamberg</b>\n",
       "                        </a>\n",
       "                        <br/><br/><b>Bio</b>: \n",
       "                        <br/><b>First Name</b>: Pete\n",
       "                        <br/><b>Last Name</b>: Gamberg\n",
       "                        <br/><b>Username</b>: pgamberg@EsriDenver\n",
       "                        <br/><b>Joined</b>: June 18, 2018\n",
       "\n",
       "                    </div>\n",
       "                </div>\n",
       "                "
      ],
      "text/plain": [
       "<User username:pgamberg@EsriDenver>"
      ]
     },
     "execution_count": 5,
     "metadata": {},
     "output_type": "execute_result"
    }
   ],
   "source": [
    "gis.users.me"
   ]
  },
  {
   "cell_type": "markdown",
   "metadata": {},
   "source": [
    "Filter your user search..."
   ]
  },
  {
   "cell_type": "code",
   "execution_count": 6,
   "metadata": {},
   "outputs": [
    {
     "data": {
      "text/plain": [
       "[<User username:Pete_viewer>, <User username:pgamberg@EsriDenver>]"
      ]
     },
     "execution_count": 6,
     "metadata": {},
     "output_type": "execute_result"
    }
   ],
   "source": [
    "gis.users.search(\"pete\")"
   ]
  },
  {
   "cell_type": "markdown",
   "metadata": {},
   "source": [
    "Let's search for my colleague, Matt"
   ]
  },
  {
   "cell_type": "code",
   "execution_count": 7,
   "metadata": {},
   "outputs": [
    {
     "name": "stderr",
     "output_type": "stream",
     "text": [
      "User does not exist or is inaccessible.\n"
     ]
    },
    {
     "ename": "RuntimeError",
     "evalue": "User does not exist or is inaccessible.\n(Error Code: 400)",
     "output_type": "error",
     "traceback": [
      "\u001b[0;31m---------------------------------------------------------------------------\u001b[0m",
      "\u001b[0;31mRuntimeError\u001b[0m                              Traceback (most recent call last)",
      "\u001b[0;32m<ipython-input-7-974e1e038601>\u001b[0m in \u001b[0;36m<module>\u001b[0;34m()\u001b[0m\n\u001b[0;32m----> 1\u001b[0;31m \u001b[0mgis\u001b[0m\u001b[0;34m.\u001b[0m\u001b[0musers\u001b[0m\u001b[0;34m.\u001b[0m\u001b[0msearch\u001b[0m\u001b[0;34m(\u001b[0m\u001b[0;34m\"Matt\"\u001b[0m\u001b[0;34m)\u001b[0m\u001b[0;34m\u001b[0m\u001b[0;34m\u001b[0m\u001b[0m\n\u001b[0m",
      "\u001b[0;32m~/anaconda3/lib/python3.7/site-packages/arcgis/gis/__init__.py\u001b[0m in \u001b[0;36msearch\u001b[0;34m(self, query, sort_field, sort_order, max_users, outside_org, exclude_system, user_type, role)\u001b[0m\n\u001b[1;32m   2324\u001b[0m                 \u001b[0;32melse\u001b[0m\u001b[0;34m:\u001b[0m\u001b[0;34m\u001b[0m\u001b[0;34m\u001b[0m\u001b[0m\n\u001b[1;32m   2325\u001b[0m                     \u001b[0mun\u001b[0m \u001b[0;34m=\u001b[0m \u001b[0muser\u001b[0m\u001b[0;34m[\u001b[0m\u001b[0;34m'id'\u001b[0m\u001b[0;34m]\u001b[0m\u001b[0;34m\u001b[0m\u001b[0;34m\u001b[0m\u001b[0m\n\u001b[0;32m-> 2326\u001b[0;31m                 \u001b[0muserlist\u001b[0m\u001b[0;34m.\u001b[0m\u001b[0mappend\u001b[0m\u001b[0;34m(\u001b[0m\u001b[0mUser\u001b[0m\u001b[0;34m(\u001b[0m\u001b[0mself\u001b[0m\u001b[0;34m.\u001b[0m\u001b[0m_gis\u001b[0m\u001b[0;34m,\u001b[0m \u001b[0mun\u001b[0m\u001b[0;34m)\u001b[0m\u001b[0;34m)\u001b[0m\u001b[0;34m\u001b[0m\u001b[0;34m\u001b[0m\u001b[0m\n\u001b[0m\u001b[1;32m   2327\u001b[0m             \u001b[0;32mreturn\u001b[0m \u001b[0muserlist\u001b[0m\u001b[0;34m\u001b[0m\u001b[0;34m\u001b[0m\u001b[0m\n\u001b[1;32m   2328\u001b[0m     \u001b[0;31m#----------------------------------------------------------------------\u001b[0m\u001b[0;34m\u001b[0m\u001b[0;34m\u001b[0m\u001b[0;34m\u001b[0m\u001b[0m\n",
      "\u001b[0;32m~/anaconda3/lib/python3.7/site-packages/arcgis/gis/__init__.py\u001b[0m in \u001b[0;36m__init__\u001b[0;34m(self, gis, username, userdict)\u001b[0m\n\u001b[1;32m   5127\u001b[0m             \u001b[0mself\u001b[0m\u001b[0;34m.\u001b[0m\u001b[0m__dict__\u001b[0m\u001b[0;34m.\u001b[0m\u001b[0mupdate\u001b[0m\u001b[0;34m(\u001b[0m\u001b[0muserdict\u001b[0m\u001b[0;34m)\u001b[0m\u001b[0;34m\u001b[0m\u001b[0;34m\u001b[0m\u001b[0m\n\u001b[1;32m   5128\u001b[0m             \u001b[0msuper\u001b[0m\u001b[0;34m(\u001b[0m\u001b[0mUser\u001b[0m\u001b[0;34m,\u001b[0m \u001b[0mself\u001b[0m\u001b[0;34m)\u001b[0m\u001b[0;34m.\u001b[0m\u001b[0mupdate\u001b[0m\u001b[0;34m(\u001b[0m\u001b[0muserdict\u001b[0m\u001b[0;34m)\u001b[0m\u001b[0;34m\u001b[0m\u001b[0;34m\u001b[0m\u001b[0m\n\u001b[0;32m-> 5129\u001b[0;31m         \u001b[0;32mif\u001b[0m \u001b[0mhasattr\u001b[0m\u001b[0;34m(\u001b[0m\u001b[0mself\u001b[0m\u001b[0;34m,\u001b[0m \u001b[0;34m'id'\u001b[0m\u001b[0;34m)\u001b[0m\u001b[0;34m:\u001b[0m\u001b[0;34m\u001b[0m\u001b[0;34m\u001b[0m\u001b[0m\n\u001b[0m\u001b[1;32m   5130\u001b[0m             \u001b[0mself\u001b[0m\u001b[0;34m.\u001b[0m\u001b[0m_user_id\u001b[0m \u001b[0;34m=\u001b[0m \u001b[0mself\u001b[0m\u001b[0;34m.\u001b[0m\u001b[0mid\u001b[0m\u001b[0;34m\u001b[0m\u001b[0;34m\u001b[0m\u001b[0m\n\u001b[1;32m   5131\u001b[0m         \u001b[0;32melse\u001b[0m\u001b[0;34m:\u001b[0m\u001b[0;34m\u001b[0m\u001b[0;34m\u001b[0m\u001b[0m\n",
      "\u001b[0;32m~/anaconda3/lib/python3.7/site-packages/arcgis/gis/__init__.py\u001b[0m in \u001b[0;36m__getattr__\u001b[0;34m(self, name)\u001b[0m\n\u001b[1;32m   5147\u001b[0m     \u001b[0;32mdef\u001b[0m \u001b[0m__getattr__\u001b[0m\u001b[0;34m(\u001b[0m\u001b[0mself\u001b[0m\u001b[0;34m,\u001b[0m \u001b[0mname\u001b[0m\u001b[0;34m)\u001b[0m\u001b[0;34m:\u001b[0m \u001b[0;31m# support user attributes as user.access, user.email, user.role etc\u001b[0m\u001b[0;34m\u001b[0m\u001b[0;34m\u001b[0m\u001b[0m\n\u001b[1;32m   5148\u001b[0m         \u001b[0;32mif\u001b[0m \u001b[0;32mnot\u001b[0m \u001b[0mself\u001b[0m\u001b[0;34m.\u001b[0m\u001b[0m_hydrated\u001b[0m \u001b[0;32mand\u001b[0m \u001b[0;32mnot\u001b[0m \u001b[0mname\u001b[0m\u001b[0;34m.\u001b[0m\u001b[0mstartswith\u001b[0m\u001b[0;34m(\u001b[0m\u001b[0;34m'_'\u001b[0m\u001b[0;34m)\u001b[0m\u001b[0;34m:\u001b[0m\u001b[0;34m\u001b[0m\u001b[0;34m\u001b[0m\u001b[0m\n\u001b[0;32m-> 5149\u001b[0;31m             \u001b[0mself\u001b[0m\u001b[0;34m.\u001b[0m\u001b[0m_hydrate\u001b[0m\u001b[0;34m(\u001b[0m\u001b[0;34m)\u001b[0m\u001b[0;34m\u001b[0m\u001b[0;34m\u001b[0m\u001b[0m\n\u001b[0m\u001b[1;32m   5150\u001b[0m         \u001b[0;32mtry\u001b[0m\u001b[0;34m:\u001b[0m\u001b[0;34m\u001b[0m\u001b[0;34m\u001b[0m\u001b[0m\n\u001b[1;32m   5151\u001b[0m             \u001b[0;32mreturn\u001b[0m \u001b[0mdict\u001b[0m\u001b[0;34m.\u001b[0m\u001b[0m__getitem__\u001b[0m\u001b[0;34m(\u001b[0m\u001b[0mself\u001b[0m\u001b[0;34m,\u001b[0m \u001b[0mname\u001b[0m\u001b[0;34m)\u001b[0m\u001b[0;34m\u001b[0m\u001b[0;34m\u001b[0m\u001b[0m\n",
      "\u001b[0;32m~/anaconda3/lib/python3.7/site-packages/arcgis/gis/__init__.py\u001b[0m in \u001b[0;36m_hydrate\u001b[0;34m(self)\u001b[0m\n\u001b[1;32m   5137\u001b[0m \u001b[0;34m\u001b[0m\u001b[0m\n\u001b[1;32m   5138\u001b[0m     \u001b[0;32mdef\u001b[0m \u001b[0m_hydrate\u001b[0m\u001b[0;34m(\u001b[0m\u001b[0mself\u001b[0m\u001b[0;34m)\u001b[0m\u001b[0;34m:\u001b[0m\u001b[0;34m\u001b[0m\u001b[0;34m\u001b[0m\u001b[0m\n\u001b[0;32m-> 5139\u001b[0;31m         \u001b[0muserdict\u001b[0m \u001b[0;34m=\u001b[0m \u001b[0mself\u001b[0m\u001b[0;34m.\u001b[0m\u001b[0m_portal\u001b[0m\u001b[0;34m.\u001b[0m\u001b[0mget_user\u001b[0m\u001b[0;34m(\u001b[0m\u001b[0mself\u001b[0m\u001b[0;34m.\u001b[0m\u001b[0m_user_id\u001b[0m\u001b[0;34m)\u001b[0m\u001b[0;34m\u001b[0m\u001b[0;34m\u001b[0m\u001b[0m\n\u001b[0m\u001b[1;32m   5140\u001b[0m         \u001b[0;32mif\u001b[0m \u001b[0;32mnot\u001b[0m \u001b[0;34m'roleId'\u001b[0m \u001b[0;32min\u001b[0m \u001b[0muserdict\u001b[0m \u001b[0;32mand\u001b[0m\u001b[0;31m \u001b[0m\u001b[0;31m\\\u001b[0m\u001b[0;34m\u001b[0m\u001b[0;34m\u001b[0m\u001b[0m\n\u001b[1;32m   5141\u001b[0m            \u001b[0;34m'role'\u001b[0m \u001b[0;32min\u001b[0m \u001b[0muserdict\u001b[0m\u001b[0;34m:\u001b[0m\u001b[0;34m\u001b[0m\u001b[0;34m\u001b[0m\u001b[0m\n",
      "\u001b[0;32m~/anaconda3/lib/python3.7/site-packages/arcgis/_impl/portalpy.py\u001b[0m in \u001b[0;36mget_user\u001b[0;34m(self, username)\u001b[0m\n\u001b[1;32m   1143\u001b[0m             \u001b[0;34m==\u001b[0m\u001b[0;34m==\u001b[0m\u001b[0;34m==\u001b[0m\u001b[0;34m==\u001b[0m\u001b[0;34m==\u001b[0m\u001b[0;34m==\u001b[0m\u001b[0;34m==\u001b[0m\u001b[0;34m==\u001b[0m  \u001b[0;34m==\u001b[0m\u001b[0;34m==\u001b[0m\u001b[0;34m==\u001b[0m\u001b[0;34m==\u001b[0m\u001b[0;34m==\u001b[0m\u001b[0;34m==\u001b[0m\u001b[0;34m==\u001b[0m\u001b[0;34m==\u001b[0m\u001b[0;34m==\u001b[0m\u001b[0;34m==\u001b[0m\u001b[0;34m==\u001b[0m\u001b[0;34m==\u001b[0m\u001b[0;34m==\u001b[0m\u001b[0;34m==\u001b[0m\u001b[0;34m==\u001b[0m\u001b[0;34m==\u001b[0m\u001b[0;34m==\u001b[0m\u001b[0;34m==\u001b[0m\u001b[0;34m==\u001b[0m\u001b[0;34m==\u001b[0m\u001b[0;34m==\u001b[0m\u001b[0;34m==\u001b[0m\u001b[0;34m==\u001b[0m\u001b[0;34m==\u001b[0m\u001b[0;34m==\u001b[0m\u001b[0;34m==\u001b[0m\u001b[0;34m==\u001b[0m\u001b[0;34m==\u001b[0m\u001b[0;34m\u001b[0m\u001b[0;34m\u001b[0m\u001b[0m\n\u001b[1;32m   1144\u001b[0m         \"\"\"\n\u001b[0;32m-> 1145\u001b[0;31m         \u001b[0;32mreturn\u001b[0m \u001b[0mself\u001b[0m\u001b[0;34m.\u001b[0m\u001b[0mcon\u001b[0m\u001b[0;34m.\u001b[0m\u001b[0mpost\u001b[0m\u001b[0;34m(\u001b[0m\u001b[0;34m'community/users/'\u001b[0m \u001b[0;34m+\u001b[0m \u001b[0musername\u001b[0m\u001b[0;34m,\u001b[0m \u001b[0mself\u001b[0m\u001b[0;34m.\u001b[0m\u001b[0m_postdata\u001b[0m\u001b[0;34m(\u001b[0m\u001b[0;34m)\u001b[0m\u001b[0;34m)\u001b[0m\u001b[0;34m\u001b[0m\u001b[0;34m\u001b[0m\u001b[0m\n\u001b[0m\u001b[1;32m   1146\u001b[0m \u001b[0;34m\u001b[0m\u001b[0m\n\u001b[1;32m   1147\u001b[0m \u001b[0;34m\u001b[0m\u001b[0m\n",
      "\u001b[0;32m~/anaconda3/lib/python3.7/site-packages/arcgis/_impl/connection.py\u001b[0m in \u001b[0;36mpost\u001b[0;34m(self, path, postdata, files, ssl, compress, is_retry, use_ordered_dict, add_token, verify_cert, token, try_json, out_folder, file_name, force_bytes, add_headers)\u001b[0m\n\u001b[1;32m   1157\u001b[0m                                          verify_cert=verify_cert, is_retry=True)\n\u001b[1;32m   1158\u001b[0m \u001b[0;34m\u001b[0m\u001b[0m\n\u001b[0;32m-> 1159\u001b[0;31m                 \u001b[0mself\u001b[0m\u001b[0;34m.\u001b[0m\u001b[0m_handle_json_error\u001b[0m\u001b[0;34m(\u001b[0m\u001b[0mresp_json\u001b[0m\u001b[0;34m[\u001b[0m\u001b[0;34m'error'\u001b[0m\u001b[0;34m]\u001b[0m\u001b[0;34m,\u001b[0m \u001b[0merrorcode\u001b[0m\u001b[0;34m)\u001b[0m\u001b[0;34m\u001b[0m\u001b[0;34m\u001b[0m\u001b[0m\n\u001b[0m\u001b[1;32m   1160\u001b[0m                 \u001b[0;32mreturn\u001b[0m \u001b[0;32mNone\u001b[0m\u001b[0;34m\u001b[0m\u001b[0;34m\u001b[0m\u001b[0m\n\u001b[1;32m   1161\u001b[0m \u001b[0;34m\u001b[0m\u001b[0m\n",
      "\u001b[0;32m~/anaconda3/lib/python3.7/site-packages/arcgis/_impl/connection.py\u001b[0m in \u001b[0;36m_handle_json_error\u001b[0;34m(self, error, errorcode)\u001b[0m\n\u001b[1;32m   1178\u001b[0m \u001b[0;34m\u001b[0m\u001b[0m\n\u001b[1;32m   1179\u001b[0m         \u001b[0merrormessage\u001b[0m \u001b[0;34m=\u001b[0m \u001b[0merrormessage\u001b[0m \u001b[0;34m+\u001b[0m \u001b[0;34m\"\\n(Error Code: \"\u001b[0m \u001b[0;34m+\u001b[0m \u001b[0mstr\u001b[0m\u001b[0;34m(\u001b[0m\u001b[0merrorcode\u001b[0m\u001b[0;34m)\u001b[0m \u001b[0;34m+\u001b[0m\u001b[0;34m\")\"\u001b[0m\u001b[0;34m\u001b[0m\u001b[0;34m\u001b[0m\u001b[0m\n\u001b[0;32m-> 1180\u001b[0;31m         \u001b[0;32mraise\u001b[0m \u001b[0mRuntimeError\u001b[0m\u001b[0;34m(\u001b[0m\u001b[0merrormessage\u001b[0m\u001b[0;34m)\u001b[0m\u001b[0;34m\u001b[0m\u001b[0;34m\u001b[0m\u001b[0m\n\u001b[0m\u001b[1;32m   1181\u001b[0m \u001b[0;34m\u001b[0m\u001b[0m\n\u001b[1;32m   1182\u001b[0m \u001b[0;32mclass\u001b[0m \u001b[0m_StrictURLopener\u001b[0m\u001b[0;34m(\u001b[0m\u001b[0mrequest\u001b[0m\u001b[0;34m.\u001b[0m\u001b[0mFancyURLopener\u001b[0m\u001b[0;34m)\u001b[0m\u001b[0;34m:\u001b[0m\u001b[0;34m\u001b[0m\u001b[0;34m\u001b[0m\u001b[0m\n",
      "\u001b[0;31mRuntimeError\u001b[0m: User does not exist or is inaccessible.\n(Error Code: 400)"
     ]
    }
   ],
   "source": [
    "gis.users.search(\"Matt\")"
   ]
  },
  {
   "cell_type": "markdown",
   "metadata": {},
   "source": [
    "### Create a new user"
   ]
  },
  {
   "cell_type": "markdown",
   "metadata": {},
   "source": [
    "Users can be created through the API"
   ]
  },
  {
   "cell_type": "code",
   "execution_count": 8,
   "metadata": {},
   "outputs": [],
   "source": [
    "gis.users.create?"
   ]
  },
  {
   "cell_type": "code",
   "execution_count": 10,
   "metadata": {},
   "outputs": [
    {
     "data": {
      "text/html": [
       "<div class=\"9item_container\" style=\"height: auto; overflow: hidden; border: 1px solid #cfcfcf; border-radius: 2px; background: #f6fafa; line-height: 1.21429em; padding: 10px;\">\n",
       "                    <div class=\"item_left\" style=\"width: 210px; float: left;\">\n",
       "                       <a href='https://esridenver.maps.arcgis.com/home/user.html?user=b00597981c2541f4bb1bb0f30c68407d' target='_blank'>\n",
       "                        <img src='https://esridenver.maps.arcgis.com/home/js/arcgisonline/css/images/no-user-thumb.jpg' class=\"itemThumbnail\">\n",
       "                       </a>\n",
       "                    </div>\n",
       "\n",
       "                    <div class=\"item_right\" style=\"float: none; width: auto; overflow: hidden;\">\n",
       "                        <a href='https://esridenver.maps.arcgis.com/home/user.html?user=b00597981c2541f4bb1bb0f30c68407d' target='_blank'><b>smith colins</b>\n",
       "                        </a>\n",
       "                        <br/><br/><b>Bio</b>: None\n",
       "                        <br/><b>First Name</b>: smith\n",
       "                        <br/><b>Last Name</b>: colins\n",
       "                        <br/><b>Username</b>: SmithCollinss\n",
       "                        <br/><b>Joined</b>: March 27, 2019\n",
       "\n",
       "                    </div>\n",
       "                </div>\n",
       "                "
      ],
      "text/plain": [
       "<User username:SmithCollinss>"
      ]
     },
     "execution_count": 10,
     "metadata": {},
     "output_type": "execute_result"
    }
   ],
   "source": [
    "clark = gis.users.create(username = \"SmithCollinss\", \n",
    "                           password=\"COLL@123\", \n",
    "                          firstname=\"smith\", \n",
    "                          lastname=\"colins\", \n",
    "                          email=\"smith.collins@company.com\",  \n",
    "                          role='org_user')\n",
    "clark"
   ]
  },
  {
   "cell_type": "markdown",
   "metadata": {},
   "source": [
    "This variable is now a \"user\" object"
   ]
  },
  {
   "cell_type": "code",
   "execution_count": 11,
   "metadata": {},
   "outputs": [
    {
     "data": {
      "text/plain": [
       "arcgis.gis.User"
      ]
     },
     "execution_count": 11,
     "metadata": {},
     "output_type": "execute_result"
    }
   ],
   "source": [
    "type(clark)"
   ]
  },
  {
   "cell_type": "markdown",
   "metadata": {},
   "source": [
    "Use intellisense to see all the options you have available with user objects."
   ]
  },
  {
   "cell_type": "code",
   "execution_count": 27,
   "metadata": {},
   "outputs": [],
   "source": [
    "clark.description"
   ]
  },
  {
   "cell_type": "code",
   "execution_count": 12,
   "metadata": {},
   "outputs": [
    {
     "data": {
      "text/plain": [
       "'smith.collins@company.com'"
      ]
     },
     "execution_count": 12,
     "metadata": {},
     "output_type": "execute_result"
    }
   ],
   "source": [
    "clark.email"
   ]
  },
  {
   "cell_type": "code",
   "execution_count": 13,
   "metadata": {
    "scrolled": true
   },
   "outputs": [
    {
     "data": {
      "text/plain": [
       "True"
      ]
     },
     "execution_count": 13,
     "metadata": {},
     "output_type": "execute_result"
    }
   ],
   "source": [
    "clark.delete()"
   ]
  },
  {
   "cell_type": "markdown",
   "metadata": {},
   "source": [
    "### Querying for groups"
   ]
  },
  {
   "cell_type": "code",
   "execution_count": 14,
   "metadata": {},
   "outputs": [
    {
     "data": {
      "text/plain": [
       "[<Group title:\"416 Fire Group for Workspace\" owner:ShelbyHines_esridenver>,\n",
       " <Group title:\"ABQ Reduce Homelessness Initiative Collaboration Group\" owner:ShelbyHines_esridenver>,\n",
       " <Group title:\"ABQ Reduce Homelessness Initiative Open Data Group\" owner:ShelbyHines_esridenver>,\n",
       " <Group title:\"Address Field Verification\" owner:ShelbyHines_esridenver>,\n",
       " <Group title:\"Admin Tools for Arcgis Online\" owner:joseph_peters@esridenver>,\n",
       " <Group title:\"AGIC Open Data\" owner:jlindemann@EsriDenver>,\n",
       " <Group title:\"Albuquerque Homelessness Solutions\" owner:ShelbyHines_esridenver>,\n",
       " <Group title:\"Boundaries\" owner:joseph_peters@esridenver>,\n",
       " <Group title:\"Citizen Problem Manager\" owner:joseph_peters@esridenver>,\n",
       " <Group title:\"Citizen Problem Manager\" owner:ShelbyHines_esridenver>,\n",
       " <Group title:\"Citizen Problem Manager\" owner:jlindemann@EsriDenver>,\n",
       " <Group title:\"Citizen Problem Reporter\" owner:hmiller_esridenver>,\n",
       " <Group title:\"Citizen Problem Reporter\" owner:jlindemann@EsriDenver>,\n",
       " <Group title:\"Citizen Problem Reporter\" owner:ShelbyHines_esridenver>,\n",
       " <Group title:\"Citizen Problem Reporter\" owner:joseph_peters@esridenver>,\n",
       " <Group title:\"Citizen Problem Reporter 2\" owner:jlindemann@EsriDenver>,\n",
       " <Group title:\"City of ABQ Initiatives Hub Data\" owner:ShelbyHines_esridenver>,\n",
       " <Group title:\"City of Skitown Hazard Risk Reduction Initiative Collaboration Group\" owner:ShelbyHines_esridenver>,\n",
       " <Group title:\"City of Skitown Hazard Risk Reduction Initiative Open Data Group\" owner:ShelbyHines_esridenver>,\n",
       " <Group title:\"City of Skitown Open Data\" owner:ShelbyHines_esridenver>,\n",
       " <Group title:\"City Works User Group Collector Workshop\" owner:dvaillancourt_esridenver>,\n",
       " <Group title:\"Citywide Kickoff Meeting\" owner:ShelbyHines_esridenver>,\n",
       " <Group title:\"Commercial Building Inspection Testing\" owner:joseph_peters@esridenver>,\n",
       " <Group title:\"Conference Demo\" owner:hmiller_esridenver>,\n",
       " <Group title:\"Damage Assessment Assignments\" owner:joseph_peters@esridenver>,\n",
       " <Group title:\"Damage Assessment Workforce Assignments\" owner:joseph_peters@esridenver>,\n",
       " <Group title:\"Demo\" owner:hmiller_esridenver>,\n",
       " <Group title:\"demo\" owner:pgamberg@EsriDenver>,\n",
       " <Group title:\"Demographics\" owner:joseph_peters@esridenver>,\n",
       " <Group title:\"Demoins_MH\" owner:W_student_esridenver>,\n",
       " <Group title:\"Denver Crime Group\" owner:joseph_peters@esridenver>,\n",
       " <Group title:\"Denver ESRI GNSS Workshop\" owner:tylerg_esridenver>,\n",
       " <Group title:\"Denver RO Tree Map\" owner:jlindemann@EsriDenver>,\n",
       " <Group title:\"Denver RO Tree Map\" owner:ShelbyHines_esridenver>,\n",
       " <Group title:\"Des Moines\" owner:U_student_esridenver>,\n",
       " <Group title:\"Des Moines\" owner:EE_student_esridenver>,\n",
       " <Group title:\"Des Moines\" owner:S_student_esridenver>,\n",
       " <Group title:\"Des Moines\" owner:F_student_esridenver>,\n",
       " <Group title:\"Des Moines\" owner:P_student_esridenver>,\n",
       " <Group title:\"Des Moines\" owner:A_student_esridenver>,\n",
       " <Group title:\"Des Moines\" owner:NN_student_esridenver>,\n",
       " <Group title:\"Des Moines\" owner:MM_student_esridenver>,\n",
       " <Group title:\"des moines\" owner:B_student_esridenver>,\n",
       " <Group title:\"Des Moines\" owner:C_student_esridenver>,\n",
       " <Group title:\"Des Moines - JS\" owner:KK_student_esridenver>,\n",
       " <Group title:\"Des Moines JC\" owner:W_student_esridenver>,\n",
       " <Group title:\"Des Moines JP\" owner:joseph_peters@esridenver>,\n",
       " <Group title:\"Des Moines JP2\" owner:joseph_peters@esridenver>,\n",
       " <Group title:\"Des Moines JW\" owner:V_student_esridenver>,\n",
       " <Group title:\"Des Moines MDB\" owner:O_student_esridenver>,\n",
       " <Group title:\"Des Moines RH\" owner:XX_student_esridenver>,\n",
       " <Group title:\"Des Moines_LS\" owner:X_student_esridenver>,\n",
       " <Group title:\"DesMoinesTL\" owner:U_student_esridenver>,\n",
       " <Group title:\"Douglas\" owner:Q_student_esridenver>,\n",
       " <Group title:\"DraftProject\" owner:hmiller_esridenver>,\n",
       " <Group title:\"Drone2Map\" owner:joseph_peters@esridenver>,\n",
       " <Group title:\"Drone2Map - Yucaipa Drone Flight\" owner:joseph_peters@esridenver>,\n",
       " <Group title:\"el mirage work_xx\" owner:XX_student_esridenver>,\n",
       " <Group title:\"El Mirage Workshop_wh\" owner:VV_student_esridenver>,\n",
       " <Group title:\"Election Solutions\" owner:joseph_peters@esridenver>,\n",
       " <Group title:\"ELM_GIS_20181217\" owner:UU_student_esridenver>,\n",
       " <Group title:\"Emergency Management Workshop\" owner:joseph_peters@esridenver>,\n",
       " <Group title:\"Emergency Response Field Collection\" owner:jhagen@EsriDenver>,\n",
       " <Group title:\"Environment\" owner:joseph_peters@esridenver>,\n",
       " <Group title:\"Esri Class ASLD\" owner:R_student_esridenver>,\n",
       " <Group title:\"Esri Denver - Westportal Collaboration Group\" owner:joseph_peters@esridenver>,\n",
       " <Group title:\"Esri Denver Westportal\" owner:joseph_peters@esridenver>,\n",
       " <Group title:\"Featured Content\" owner:joseph_peters@esridenver>,\n",
       " <Group title:\"Featured Content\" owner:jhagen@EsriDenver>,\n",
       " <Group title:\"Fire\" owner:joseph_peters@esridenver>,\n",
       " <Group title:\"Fire Hydrant Inspections\" owner:mbullock@EsriDenver>,\n",
       " <Group title:\"Fire Hydrant Inspections MB\" owner:mbullock@EsriDenver>,\n",
       " <Group title:\"Fire Hydrant Survey\" owner:joseph_peters@esridenver>,\n",
       " <Group title:\"Guardrail Inventory\" owner:joseph_peters@esridenver>,\n",
       " <Group title:\"Hawaii Health Care\" owner:hmiller_esridenver>,\n",
       " <Group title:\"Homeless Activity Manager\" owner:hmiller_esridenver>,\n",
       " <Group title:\"Infographic Template Transfer - City of Santa Fe\" owner:hmiller_esridenver>,\n",
       " <Group title:\"Jeff Rules!\" owner:K_student_esridenver>,\n",
       " <Group title:\"JeffcoCollector\" owner:dvaillancourt_esridenver>,\n",
       " <Group title:\"Jess test\" owner:S_student_esridenver>,\n",
       " <Group title:\"KDHE Surveys\" owner:pgamberg@EsriDenver>,\n",
       " <Group title:\"Maps on the Hill 2019\" owner:pgamberg@EsriDenver>,\n",
       " <Group title:\"Mobile Demo\" owner:hmiller_esridenver>,\n",
       " <Group title:\"Mobile Editing Workflows\" owner:jlindemann@EsriDenver>,\n",
       " <Group title:\"NE Information\" owner:pgamberg@EsriDenver>,\n",
       " <Group title:\"Netherlands Health Care Demo\" owner:hmiller_esridenver>,\n",
       " <Group title:\"NM Local Govt Demo\" owner:ShelbyHines_esridenver>,\n",
       " <Group title:\"Open Data Collaboration Group\" owner:joseph_peters@esridenver>,\n",
       " <Group title:\"Open Data Test\" owner:ShelbyHines_esridenver>,\n",
       " <Group title:\"Park Problem  Reporting BB\" owner:BB_student_esridenver>,\n",
       " <Group title:\"Park Problem Reporting CC\" owner:CC_student_esridenver>,\n",
       " <Group title:\"Park Problem Reporting_tptt\" owner:GG_student_esridenver>,\n",
       " <Group title:\"Park Problem Reporting_TT\" owner:GG_student_esridenver>,\n",
       " <Group title:\"Park Problems_tt\" owner:GG_student_esridenver>,\n",
       " <Group title:\"parkprob_fjs\" owner:EE_student_esridenver>,\n",
       " <Group title:\"parkProject_es\" owner:BB_student_esridenver>,\n",
       " <Group title:\"ParkProjectsReporting_TDW\" owner:KK_student_esridenver>,\n",
       " <Group title:\"ParksProjects_TDW\" owner:KK_student_esridenver>,\n",
       " <Group title:\"ParksReporting_TDW\" owner:KK_student_esridenver>,\n",
       " <Group title:\"ParkTest2_fjs\" owner:EE_student_esridenver>,\n",
       " <Group title:\"Participatory Budgeting\" owner:joseph_peters@esridenver>,\n",
       " <Group title:\"Participatory Budgeting Manager\" owner:joseph_peters@esridenver>,\n",
       " <Group title:\"Performance Management Initiative Collaboration Group\" owner:joseph_peters@esridenver>,\n",
       " <Group title:\"Performance Management Initiative Open Data Group\" owner:joseph_peters@esridenver>,\n",
       " <Group title:\"Public Safety\" owner:joseph_peters@esridenver>,\n",
       " <Group title:\"Public Works\" owner:joseph_peters@esridenver>,\n",
       " <Group title:\"Recreation\" owner:joseph_peters@esridenver>,\n",
       " <Group title:\"ROW Permit Manager\" owner:joseph_peters@esridenver>,\n",
       " <Group title:\"Saint George Emergency Management Workshop\" owner:joseph_peters@esridenver>,\n",
       " <Group title:\"San Diego Fire Hydrant Inspection\" owner:ShelbyHines_esridenver>,\n",
       " <Group title:\"sandbox\" owner:pgamberg@EsriDenver>,\n",
       " <Group title:\"sandboxCA\" owner:pgamberg@EsriDenver>,\n",
       " <Group title:\"Santa Fe Infographic template\" owner:hmiller_esridenver>,\n",
       " <Group title:\"SantaFe\" owner:hmiller_esridenver>,\n",
       " <Group title:\"SantaFeDemo\" owner:hmiller_esridenver>,\n",
       " <Group title:\"Skitown Hazard Mitigation Plan - Risk Assessment Meeting\" owner:ShelbyHines_esridenver>,\n",
       " <Group title:\"Skitown Hazard Mitigation Plan Update - Kickoff Meeting\" owner:ShelbyHines_esridenver>,\n",
       " <Group title:\"SLCo Cartography Workshop\" owner:joseph_peters@esridenver>,\n",
       " <Group title:\"Story Mapping\" owner:joseph_peters@esridenver>,\n",
       " <Group title:\"Story Neighborhood\" owner:FF_student_esridenver>,\n",
       " <Group title:\"Tackle the Opioid Epidemic bw Initiative Collaboration Group\" owner:ShelbyHines_esridenver>,\n",
       " <Group title:\"Tackle the Opioid Epidemic bw Initiative Open Data Group\" owner:ShelbyHines_esridenver>,\n",
       " <Group title:\"Test\" owner:T_student_esridenver>,\n",
       " <Group title:\"Test\" owner:N_student_esridenver>,\n",
       " <Group title:\"test business\" owner:UU_student_esridenver>,\n",
       " <Group title:\"Test Group for Workspace\" owner:ShelbyHines_esridenver>,\n",
       " <Group title:\"test pj\" owner:D_student_esridenver>,\n",
       " <Group title:\"Transportation\" owner:joseph_peters@esridenver>,\n",
       " <Group title:\"Tree Survey - Survey123\" owner:joseph_peters@esridenver>,\n",
       " <Group title:\"TusconDemo\" owner:hmiller_esridenver>,\n",
       " <Group title:\"UC Demo\" owner:joseph_peters@esridenver>,\n",
       " <Group title:\"Vision Zero\" owner:joseph_peters@esridenver>,\n",
       " <Group title:\"Warming and Cooling Center Manager\" owner:pgamberg@EsriDenver>,\n",
       " <Group title:\"Warming and Cooling Center Reporter\" owner:pgamberg@EsriDenver>,\n",
       " <Group title:\"Water Valves_mh\" owner:YY_student_esridenver>,\n",
       " <Group title:\"Web AppBuilder\" owner:joseph_peters@esridenver>]"
      ]
     },
     "execution_count": 14,
     "metadata": {},
     "output_type": "execute_result"
    }
   ],
   "source": [
    "gis.groups.search()"
   ]
  },
  {
   "cell_type": "markdown",
   "metadata": {},
   "source": [
    "Let's create the group"
   ]
  },
  {
   "cell_type": "code",
   "execution_count": 15,
   "metadata": {
    "scrolled": true
   },
   "outputs": [],
   "source": [
    "# create groups\n",
    "demo_group = gis.groups.create(\"Field Work\", \"Demo; CO\")"
   ]
  },
  {
   "cell_type": "markdown",
   "metadata": {},
   "source": [
    "This is a \"group\" object"
   ]
  },
  {
   "cell_type": "code",
   "execution_count": 36,
   "metadata": {},
   "outputs": [],
   "source": [
    "demo_group?"
   ]
  },
  {
   "cell_type": "code",
   "execution_count": 16,
   "metadata": {
    "scrolled": true
   },
   "outputs": [
    {
     "data": {
      "text/html": [
       "<div class=\"9item_container\" style=\"height: auto; overflow: hidden; border: 1px solid #cfcfcf; border-radius: 2px; background: #f6fafa; line-height: 1.21429em; padding: 10px;\">\n",
       "                    <div class=\"item_left\" style=\"width: 210px; float: left;\">\n",
       "                       <a href='https://esridenver.maps.arcgis.com/home/group.html?id=97c641c14fcd4737b61c09508f50e088' target='_blank'>\n",
       "                        <img src='https://esridenver.maps.arcgis.com/home/images/group-no-image.png' class=\"itemThumbnail\">\n",
       "                       </a>\n",
       "                    </div>\n",
       "\n",
       "                    <div class=\"item_right\" style=\"float: none; width: auto; overflow: hidden;\">\n",
       "                        <a href='https://esridenver.maps.arcgis.com/home/group.html?id=97c641c14fcd4737b61c09508f50e088' target='_blank'><b>Field Work</b>\n",
       "                        </a>\n",
       "                        <br/>\n",
       "                        <br/><b>Summary</b>: None\n",
       "                        <br/><b>Description</b>: None\n",
       "                        <br/><b>Owner</b>: pgamberg@EsriDenver\n",
       "                        <br/><b>Created</b>: March 27, 2019\n",
       "\n",
       "                    </div>\n",
       "                </div>\n",
       "                "
      ],
      "text/plain": [
       "<Group title:\"Field Work\" owner:pgamberg@EsriDenver>"
      ]
     },
     "execution_count": 16,
     "metadata": {},
     "output_type": "execute_result"
    }
   ],
   "source": [
    "demo_group"
   ]
  },
  {
   "cell_type": "code",
   "execution_count": 38,
   "metadata": {},
   "outputs": [
    {
     "data": {
      "text/plain": [
       "arcgis.gis.Group"
      ]
     },
     "execution_count": 38,
     "metadata": {},
     "output_type": "execute_result"
    }
   ],
   "source": [
    "type(demo_group)"
   ]
  },
  {
   "cell_type": "markdown",
   "metadata": {},
   "source": [
    "Like the user object, it has methods we can call on it"
   ]
  },
  {
   "cell_type": "code",
   "execution_count": 39,
   "metadata": {},
   "outputs": [
    {
     "data": {
      "text/plain": [
       "'public'"
      ]
     },
     "execution_count": 39,
     "metadata": {},
     "output_type": "execute_result"
    }
   ],
   "source": [
    "demo_group.access"
   ]
  },
  {
   "cell_type": "markdown",
   "metadata": {},
   "source": [
    "# Let's say your boss suddenly gets an idea!\n",
    "\n",
    "\n",
    "## Boss:\n",
    "## \"I want you to create a new portal, with new users from our regional teams and mulitple groups and make every member is part of their groups. \n",
    "## \"And I need this before you go home.\"\n"
   ]
  },
  {
   "cell_type": "markdown",
   "metadata": {},
   "source": [
    "## Have no fear! The ArcGIS API for Python is here to help."
   ]
  },
  {
   "cell_type": "markdown",
   "metadata": {},
   "source": [
    "We're going to import some libraries to help us"
   ]
  },
  {
   "cell_type": "code",
   "execution_count": 17,
   "metadata": {},
   "outputs": [],
   "source": [
    "import csv \n",
    "import json"
   ]
  },
  {
   "cell_type": "markdown",
   "metadata": {},
   "source": [
    "# Create Groups"
   ]
  },
  {
   "cell_type": "code",
   "execution_count": 18,
   "metadata": {},
   "outputs": [],
   "source": [
    "def create_groups():\n",
    "    print(\"CREATING GROUPS\")\n",
    "\n",
    "    with open(\"groups.csv\", 'r') as groups_csv:\n",
    "        groups = csv.DictReader(groups_csv)\n",
    "        for group in groups:\n",
    "            try:\n",
    "                print(\" Creating group: \", group['title'], end=\"  ##  \")\n",
    "                result = gis.groups.create_from_dict(group)\n",
    "                if result:\n",
    "                    print(\"success\")\n",
    "            except Exception as create_ex:\n",
    "                print(\"Error... \", str(create_ex))"
   ]
  },
  {
   "cell_type": "markdown",
   "metadata": {},
   "source": [
    "# Add Users"
   ]
  },
  {
   "cell_type": "code",
   "execution_count": 19,
   "metadata": {},
   "outputs": [],
   "source": [
    "def create_users():\n",
    "    # loop through and create users\n",
    "    with open(\"users.csv\", 'r') as users_csv:\n",
    "        users = csv.DictReader(users_csv)\n",
    "        for user in users:\n",
    "            try:\n",
    "                print(\"Creating user: \", user['username'], end=\" ## \")\n",
    "                \n",
    "                result = gis.users.create(username=user['username'],\n",
    "                                          password=user['password'],\n",
    "                                          firstname=user['Firstname'],\n",
    "                                          lastname=user['Lastname'],\n",
    "                                          email=user['email'],\n",
    "                                          role=user['role'],\n",
    "                                         )\n",
    "                \n",
    "                if result:\n",
    "                    print(\"success  ##\")\n",
    "\n",
    "                    print(\"\\t Adding to groups: \", end=\" # \")\n",
    "                    groups = user['groups']\n",
    "                    group_list = groups.split(\",\")\n",
    "\n",
    "                    # Search for the group\n",
    "                    for g in group_list:\n",
    "                        group_search = gis.groups.search(g)\n",
    "                        if len(group_search) > 0:\n",
    "                            try:\n",
    "                                group = group_search[0]\n",
    "                                groups_result = group.add_users([user['username']])\n",
    "                                if len(groups_result['notAdded']) == 0:\n",
    "                                    print(g, end =\" # \")\n",
    "\n",
    "                            except Exception as groups_ex:\n",
    "                                print(\"\\n \\t Cannot add user to group \", g, str(groups_ex))\n",
    "                    print(\"\\n\")\n",
    "\n",
    "            except Exception as add_ex:\n",
    "                print(\"Cannot create user: \" + user['username'])\n",
    "                print(str(add_ex))"
   ]
  },
  {
   "cell_type": "markdown",
   "metadata": {},
   "source": [
    "# Publish Content"
   ]
  },
  {
   "cell_type": "code",
   "execution_count": 22,
   "metadata": {},
   "outputs": [],
   "source": [
    "def publish_content():\n",
    "    # Read the csv containing user accounts and their territory info\n",
    "    csv_path = \"users.csv\"\n",
    "\n",
    "    \n",
    "    # Read template web map\n",
    "    template_webmap_dict = dict()\n",
    "    with open(\".//user_content//web_map.json\", 'r') as webmap_file:\n",
    "                template_webmap_dict = json.load(webmap_file)\n",
    "\n",
    "    # Loop through each user and publish the content\n",
    "    with open(csv_path, 'r') as csv_handle:\n",
    "        reader = csv.DictReader(csv_handle)\n",
    "        for row in reader:\n",
    "            try:\n",
    "                data_to_publish = './/user_content//' + row['assigned_state'] + \".csv\"\n",
    "\n",
    "                print(\"Publishing \", data_to_publish, end = \" # \")\n",
    "                added_item = gis.content.add({}, data = data_to_publish)\n",
    "                published_layer = added_item.publish()\n",
    "\n",
    "                if published_layer is not None:\n",
    "                    # publish web map\n",
    "                    print('webmaps', end= \" ## \")\n",
    "                    user_webmap_dict = template_webmap_dict\n",
    "                    user_webmap_dict['operationalLayers'][0].update({'itemId': published_layer.itemid,\n",
    "                                                                     'layerType': \"ArcGISFeatureLayer\",\n",
    "                                                                     'title': published_layer.title,\n",
    "                                                                     'url': published_layer.url + r\"/0\"})\n",
    "\n",
    "                    web_map_properties = {'title': '{0} {1} response locations'.format(row['Firstname'], row['Lastname']),\n",
    "                                          'type': 'Web Map',\n",
    "                                          'snippet': 'Areas affected by Hurricane Matthew under the supervision of' +\\\n",
    "                                                     '{0} {1}'.format(row['Firstname'], row['Lastname']),\n",
    "                                          'tags': 'ArcGIS Python API',\n",
    "                                          'typeKeywords' : \"Collector, Explorer Web Map, Web Map, Map, Online Map\",\n",
    "                                          'text': json.dumps(user_webmap_dict)}\n",
    "\n",
    "                    web_map_item = gis.content.add(web_map_properties)\n",
    "\n",
    "                    print(\"success. Assigning to: \", end=\"  #  \")\n",
    "                    result1 = published_layer.reassign_to(row['username'])\n",
    "                    result2 = web_map_item.reassign_to(row['username'])\n",
    "                    if (result1 and result2) is not None:\n",
    "                        print(row['username'])\n",
    "                    else:\n",
    "                        print(\"error\")\n",
    "                else:\n",
    "                    print(\" error publishing csv\")\n",
    "\n",
    "            except Exception as pub_ex:\n",
    "                print(\"Error : \", str(pub_ex))"
   ]
  },
  {
   "cell_type": "markdown",
   "metadata": {},
   "source": [
    "# Customize the UX"
   ]
  },
  {
   "cell_type": "code",
   "execution_count": 20,
   "metadata": {},
   "outputs": [],
   "source": [
    "def set_theme():\n",
    "    \n",
    "    folder = r'helper_files'\n",
    "    print(folder)\n",
    "    gis.admin.ux.set_logo(folder + r'\\logo\\dc_logo.png')\n",
    "    gis.admin.ux.set_background(is_built_in=False)\n",
    "    gis.admin.ux.set_banner(folder + r'\\baked_banner\\washingtondc_banner.png')\n",
    "    gis.admin.ux.name = \"Washington DC\"\n",
    "    gis.admin.ux.description = \"Washington DC\""
   ]
  },
  {
   "cell_type": "code",
   "execution_count": 23,
   "metadata": {},
   "outputs": [
    {
     "name": "stdout",
     "output_type": "stream",
     "text": [
      "CREATING GROUPS\n",
      " Creating group:  Basemaps  ##  "
     ]
    },
    {
     "name": "stderr",
     "output_type": "stream",
     "text": [
      "Unable to create group.\n",
      "You already have a group named 'Basemaps'. Try a different name.\n"
     ]
    },
    {
     "name": "stdout",
     "output_type": "stream",
     "text": [
      "Error...  Unable to create group.\n",
      "You already have a group named 'Basemaps'. Try a different name.\n",
      "(Error Code: 400)\n",
      " Creating group:  Central Services  ##  "
     ]
    },
    {
     "name": "stderr",
     "output_type": "stream",
     "text": [
      "Unable to create group.\n",
      "You already have a group named 'Central Services'. Try a different name.\n",
      "Unable to create group.\n"
     ]
    },
    {
     "name": "stdout",
     "output_type": "stream",
     "text": [
      "Error...  Unable to create group.\n",
      "You already have a group named 'Central Services'. Try a different name.\n",
      "(Error Code: 400)\n",
      " Creating group:  Compliance  ##  "
     ]
    },
    {
     "name": "stderr",
     "output_type": "stream",
     "text": [
      "You already have a group named 'Compliance'. Try a different name.\n"
     ]
    },
    {
     "name": "stdout",
     "output_type": "stream",
     "text": [
      "Error...  Unable to create group.\n",
      "You already have a group named 'Compliance'. Try a different name.\n",
      "(Error Code: 400)\n",
      " Creating group:  Customer Service, Finance, Billing and Accounting  ##  "
     ]
    },
    {
     "name": "stderr",
     "output_type": "stream",
     "text": [
      "Unable to create group.\n",
      "You already have a group named 'Customer Service, Finance, Billing and Accounting'. Try a different name.\n"
     ]
    },
    {
     "name": "stdout",
     "output_type": "stream",
     "text": [
      "Error...  Unable to create group.\n",
      "You already have a group named 'Customer Service, Finance, Billing and Accounting'. Try a different name.\n",
      "(Error Code: 400)\n",
      " Creating group:  Demographic Content  ##  "
     ]
    },
    {
     "name": "stderr",
     "output_type": "stream",
     "text": [
      "Unable to create group.\n",
      "You already have a group named 'Demographic Content'. Try a different name.\n"
     ]
    },
    {
     "name": "stdout",
     "output_type": "stream",
     "text": [
      "Error...  Unable to create group.\n",
      "You already have a group named 'Demographic Content'. Try a different name.\n",
      "(Error Code: 400)\n",
      "Creating user:  SmithCollins ## "
     ]
    },
    {
     "name": "stderr",
     "output_type": "stream",
     "text": [
      "Unable to create SmithCollins\n"
     ]
    },
    {
     "name": "stdout",
     "output_type": "stream",
     "text": [
      "Unable to create SmithCollins\n",
      "Creating user:  JohnsonStewart ## "
     ]
    },
    {
     "name": "stderr",
     "output_type": "stream",
     "text": [
      "Unable to create JohnsonStewart\n"
     ]
    },
    {
     "name": "stdout",
     "output_type": "stream",
     "text": [
      "Unable to create JohnsonStewart\n",
      "Creating user:  WilliamsSanchez ## "
     ]
    },
    {
     "name": "stderr",
     "output_type": "stream",
     "text": [
      "Unable to create WilliamsSanchez\n"
     ]
    },
    {
     "name": "stdout",
     "output_type": "stream",
     "text": [
      "Unable to create WilliamsSanchez\n",
      "Creating user:  JonesMorris ## "
     ]
    },
    {
     "name": "stderr",
     "output_type": "stream",
     "text": [
      "Unable to create JonesMorris\n"
     ]
    },
    {
     "name": "stdout",
     "output_type": "stream",
     "text": [
      "Unable to create JonesMorris\n",
      "Creating user:  BrownRogers ## "
     ]
    },
    {
     "name": "stderr",
     "output_type": "stream",
     "text": [
      "Unable to create BrownRogers\n"
     ]
    },
    {
     "name": "stdout",
     "output_type": "stream",
     "text": [
      "Unable to create BrownRogers\n",
      "Creating user:  DavisReed ## "
     ]
    },
    {
     "name": "stderr",
     "output_type": "stream",
     "text": [
      "Unable to create DavisReed\n"
     ]
    },
    {
     "name": "stdout",
     "output_type": "stream",
     "text": [
      "Unable to create DavisReed\n",
      "Creating user:  MillerCook ## "
     ]
    },
    {
     "name": "stderr",
     "output_type": "stream",
     "text": [
      "Unable to create MillerCook\n"
     ]
    },
    {
     "name": "stdout",
     "output_type": "stream",
     "text": [
      "Unable to create MillerCook\n",
      "Creating user:  WilsonMorgan ## "
     ]
    },
    {
     "name": "stderr",
     "output_type": "stream",
     "text": [
      "Unable to create WilsonMorgan\n"
     ]
    },
    {
     "name": "stdout",
     "output_type": "stream",
     "text": [
      "Unable to create WilsonMorgan\n",
      "Creating user:  MooreBell ## "
     ]
    },
    {
     "name": "stderr",
     "output_type": "stream",
     "text": [
      "Unable to create MooreBell\n"
     ]
    },
    {
     "name": "stdout",
     "output_type": "stream",
     "text": [
      "Unable to create MooreBell\n",
      "Creating user:  TaylorMurphy ## "
     ]
    },
    {
     "name": "stderr",
     "output_type": "stream",
     "text": [
      "Unable to create TaylorMurphy\n"
     ]
    },
    {
     "name": "stdout",
     "output_type": "stream",
     "text": [
      "Unable to create TaylorMurphy\n",
      "Publishing  .//user_content//KS.csv # Error :  'error'\n",
      "Publishing  .//user_content//NV.csv # Error :  'error'\n",
      "Publishing  .//user_content//IN.csv # Error :  'error'\n",
      "Publishing  .//user_content//NC.csv # Error :  'error'\n",
      "Publishing  .//user_content//AR.csv # Error :  'error'\n",
      "Publishing  .//user_content//FL.csv # Error :  'error'\n",
      "Publishing  .//user_content//NH.csv # Error :  'error'\n",
      "Publishing  .//user_content//ID.csv # Error :  'error'\n",
      "Publishing  .//user_content//AZ.csv # webmaps ## "
     ]
    },
    {
     "name": "stderr",
     "output_type": "stream",
     "text": [
      "You do not have permissions to access this resource or perform this operation.\n"
     ]
    },
    {
     "name": "stdout",
     "output_type": "stream",
     "text": [
      "success. Assigning to:   #  Error :  You do not have permissions to access this resource or perform this operation.\n",
      "(Error Code: 403)\n",
      "Publishing  .//user_content//LA.csv # Error :  'error'\n"
     ]
    }
   ],
   "source": [
    "#set_theme()\n",
    "create_groups()\n",
    "create_users()\n",
    "publish_content()"
   ]
  },
  {
   "cell_type": "markdown",
   "metadata": {},
   "source": [
    "## \"We just found out that we have to remove every user from our Portal as we have to use it for another urgent project.\n"
   ]
  },
  {
   "cell_type": "markdown",
   "metadata": {},
   "source": [
    "## Good thing we have the ArcGIS API for Python to help."
   ]
  },
  {
   "cell_type": "markdown",
   "metadata": {},
   "source": [
    "We're going to run a clean up script(clean.py) in my local IDE(PyCharm) removing everything except the admin account and some groups. \n",
    "\n"
   ]
  },
  {
   "cell_type": "code",
   "execution_count": 24,
   "metadata": {},
   "outputs": [
    {
     "name": "stdout",
     "output_type": "stream",
     "text": [
      "exception MooreBell\n",
      "'NoneType' object has no attribute 'items'\n"
     ]
    }
   ],
   "source": [
    "def clean():\n",
    "    # loop through and create users\n",
    "    with open(\"users.csv\", 'r') as users_csv:\n",
    "        users = csv.DictReader(users_csv)\n",
    "        for user in users:\n",
    "            try:\n",
    "                n = gis.users.get(user['username'])\n",
    "                i = (n.items())\n",
    "                for c in i:\n",
    "                    c.delete()\n",
    "                n.delete()\n",
    "                \n",
    "                \n",
    "\n",
    "            except Exception as add_ex:\n",
    "                print(\"exception \" + user['username'])\n",
    "                print(str(add_ex))\n",
    "clean()"
   ]
  },
  {
   "cell_type": "code",
   "execution_count": null,
   "metadata": {},
   "outputs": [],
   "source": []
  }
 ],
 "metadata": {
  "kernelspec": {
   "display_name": "Python 3",
   "language": "python",
   "name": "python3"
  },
  "language_info": {
   "codemirror_mode": {
    "name": "ipython",
    "version": 3
   },
   "file_extension": ".py",
   "mimetype": "text/x-python",
   "name": "python",
   "nbconvert_exporter": "python",
   "pygments_lexer": "ipython3",
   "version": "3.7.1"
  }
 },
 "nbformat": 4,
 "nbformat_minor": 2
}
