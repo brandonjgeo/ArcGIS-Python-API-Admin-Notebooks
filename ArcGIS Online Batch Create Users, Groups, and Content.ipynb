{
 "cells": [
  {
   "cell_type": "markdown",
   "metadata": {
    "slideshow": {
     "slide_type": "slide"
    }
   },
   "source": [
    "# <span style=\"color:purple\">ArcGIS API for Python</span>\n",
    "\n",
    "\n",
    "## Demo: Administrative Management of Users, Roles & Groups"
   ]
  },
  {
   "cell_type": "markdown",
   "metadata": {},
   "source": [
    "Let's import a few modules. We are importing getpass to provide the GIS object with a password in a safe manner."
   ]
  },
  {
   "cell_type": "code",
   "execution_count": 27,
   "metadata": {},
   "outputs": [],
   "source": [
    "from arcgis.gis import *\n",
    "from getpass import getpass\n",
    "from IPython.display import display\n",
    "import csv \n",
    "import json"
   ]
  },
  {
   "cell_type": "markdown",
   "metadata": {},
   "source": [
    "Let's call our GIS object and pass a local Portal."
   ]
  },
  {
   "cell_type": "code",
   "execution_count": 28,
   "metadata": {},
   "outputs": [
    {
     "name": "stdout",
     "output_type": "stream",
     "text": [
      "········\n"
     ]
    }
   ],
   "source": [
    "username = '' # enter your username here as a string\n",
    "password = getpass.getpass('Enter password: ')\n",
    "organizationURL = '' # enter your web GIS url here as a string. for example: 'https://esridenver.maps.arcgis.com'\n",
    "\n",
    "gis = GIS(organizationURL, username, password)\n",
    "\n",
    "print(\"Connected to: {}\\nConnected as: {}\".format(gis.properties.urlKey + \".\" + gis.properties.customBaseUrl,\n",
    "                                                 gis.users.me.username))"
   ]
  },
  {
   "cell_type": "markdown",
   "metadata": {},
   "source": [
    "# Let's say your boss suddenly gets an idea!\n",
    "\n",
    "\n",
    "## Boss:\n",
    "## \"I want you to create a new portal, with new users from our regional teams and mulitple groups and make every member is part of their groups. \n",
    "## \"And I need this before you go home.\"\n"
   ]
  },
  {
   "cell_type": "markdown",
   "metadata": {},
   "source": [
    "## Have no fear! The ArcGIS API for Python is here to help."
   ]
  },
  {
   "cell_type": "markdown",
   "metadata": {},
   "source": [
    "# Create Groups"
   ]
  },
  {
   "cell_type": "code",
   "execution_count": 19,
   "metadata": {},
   "outputs": [],
   "source": [
    "def create_groups():\n",
    "    print(\"CREATING GROUPS\")\n",
    "\n",
    "    with open(\"groups.csv\", 'r') as groups_csv:\n",
    "        groups = csv.DictReader(groups_csv)\n",
    "        for group in groups:\n",
    "            try:\n",
    "                print(\" Creating group: \", group['title'], end=\"  ##  \")\n",
    "                result = gis.groups.create_from_dict(group)\n",
    "                if result:\n",
    "                    print(\"success\")\n",
    "            except Exception as create_ex:\n",
    "                print(\"Error... \", str(create_ex))"
   ]
  },
  {
   "cell_type": "markdown",
   "metadata": {},
   "source": [
    "# Add Users"
   ]
  },
  {
   "cell_type": "code",
   "execution_count": 20,
   "metadata": {},
   "outputs": [],
   "source": [
    "def create_users():\n",
    "    # loop through and create users\n",
    "    with open(\"users.csv\", 'r') as users_csv:\n",
    "        users = csv.DictReader(users_csv)\n",
    "        for user in users:\n",
    "            try:\n",
    "                print(\"Creating user: \", user['username'], end=\" ## \")\n",
    "                \n",
    "                result = gis.users.create(username=user['username'],\n",
    "                                          password=user['password'],\n",
    "                                          firstname=user['Firstname'],\n",
    "                                          lastname=user['Lastname'],\n",
    "                                          email=user['email'],\n",
    "                                          role=user['role'],\n",
    "                                         )\n",
    "                \n",
    "                if result:\n",
    "                    print(\"success  ##\")\n",
    "\n",
    "                    print(\"\\t Adding to groups: \", end=\" # \")\n",
    "                    groups = user['groups']\n",
    "                    group_list = groups.split(\",\")\n",
    "\n",
    "                    # Search for the group\n",
    "                    for g in group_list:\n",
    "                        group_search = gis.groups.search(g)\n",
    "                        if len(group_search) > 0:\n",
    "                            try:\n",
    "                                group = group_search[0]\n",
    "                                groups_result = group.add_users([user['username']])\n",
    "                                if len(groups_result['notAdded']) == 0:\n",
    "                                    print(g, end =\" # \")\n",
    "\n",
    "                            except Exception as groups_ex:\n",
    "                                print(\"\\n \\t Cannot add user to group \", g, str(groups_ex))\n",
    "                    print(\"\\n\")\n",
    "\n",
    "            except Exception as add_ex:\n",
    "                print(\"Cannot create user: \" + user['username'])\n",
    "                print(str(add_ex))"
   ]
  },
  {
   "cell_type": "markdown",
   "metadata": {},
   "source": [
    "# Publish Content"
   ]
  },
  {
   "cell_type": "code",
   "execution_count": 21,
   "metadata": {},
   "outputs": [],
   "source": [
    "def publish_content():\n",
    "    # Read the csv containing user accounts and their territory info\n",
    "    csv_path = \"users.csv\"\n",
    "\n",
    "    \n",
    "    # Read template web map\n",
    "    template_webmap_dict = dict()\n",
    "    with open(\".//user_content//web_map.json\", 'r') as webmap_file:\n",
    "                template_webmap_dict = json.load(webmap_file)\n",
    "\n",
    "    # Loop through each user and publish the content\n",
    "    with open(csv_path, 'r') as csv_handle:\n",
    "        reader = csv.DictReader(csv_handle)\n",
    "        for row in reader:\n",
    "            try:\n",
    "                data_to_publish = './/user_content//' + row['assigned_state'] + \".csv\"\n",
    "\n",
    "                print(\"Publishing \", data_to_publish, end = \" # \")\n",
    "                added_item = gis.content.add({}, data = data_to_publish)\n",
    "                published_layer = added_item.publish()\n",
    "\n",
    "                if published_layer is not None:\n",
    "                    # publish web map\n",
    "                    print('webmaps', end= \" ## \")\n",
    "                    user_webmap_dict = template_webmap_dict\n",
    "                    user_webmap_dict['operationalLayers'][0].update({'itemId': published_layer.itemid,\n",
    "                                                                     'layerType': \"ArcGISFeatureLayer\",\n",
    "                                                                     'title': published_layer.title,\n",
    "                                                                     'url': published_layer.url + r\"/0\"})\n",
    "\n",
    "                    web_map_properties = {'title': '{0} {1} response locations'.format(row['Firstname'], row['Lastname']),\n",
    "                                          'type': 'Web Map',\n",
    "                                          'snippet': 'Areas affected by Hurricane Matthew under the supervision of' +\\\n",
    "                                                     '{0} {1}'.format(row['Firstname'], row['Lastname']),\n",
    "                                          'tags': 'ArcGIS Python API',\n",
    "                                          'typeKeywords' : \"Collector, Explorer Web Map, Web Map, Map, Online Map\",\n",
    "                                          'text': json.dumps(user_webmap_dict)}\n",
    "\n",
    "                    web_map_item = gis.content.add(web_map_properties)\n",
    "\n",
    "                    print(\"success. Assigning to: \", end=\"  #  \")\n",
    "                    result1 = published_layer.reassign_to(row['username'])\n",
    "                    result2 = web_map_item.reassign_to(row['username'])\n",
    "                    if (result1 and result2) is not None:\n",
    "                        print(row['username'])\n",
    "                    else:\n",
    "                        print(\"error\")\n",
    "                else:\n",
    "                    print(\" error publishing csv\")\n",
    "\n",
    "            except Exception as pub_ex:\n",
    "                print(\"Error : \", str(pub_ex))"
   ]
  },
  {
   "cell_type": "code",
   "execution_count": 25,
   "metadata": {},
   "outputs": [
    {
     "name": "stdout",
     "output_type": "stream",
     "text": [
      "CREATING GROUPS\n",
      " Creating group:  Basemaps  ##  success\n",
      " Creating group:  Central Services  ##  success\n",
      " Creating group:  Compliance  ##  success\n",
      " Creating group:  Customer Service, Finance, Billing and Accounting  ##  success\n",
      " Creating group:  Demographic Content  ##  success\n",
      "Creating user:  SmithCollins ## success  ##\n",
      "\t Adding to groups:  # Basemaps #  Central Services # \n",
      "\n",
      "Creating user:  JohnsonStewart ## success  ##\n",
      "\t Adding to groups:  # Basemaps #  Central Services # \n",
      "\n",
      "Creating user:  WilliamsSanchez ## success  ##\n",
      "\t Adding to groups:  # Basemaps #  Customer Service # \n",
      "\n",
      "Publishing  .//user_content//KS.csv # webmaps ## success. Assigning to:   #  SmithCollins\n",
      "Publishing  .//user_content//NV.csv # webmaps ## success. Assigning to:   #  JohnsonStewart\n",
      "Publishing  .//user_content//IN.csv # webmaps ## success. Assigning to:   #  WilliamsSanchez\n"
     ]
    }
   ],
   "source": [
    "create_groups()\n",
    "create_users()\n",
    "publish_content()"
   ]
  },
  {
   "cell_type": "markdown",
   "metadata": {},
   "source": [
    "## \"We just found out that we have to remove every user from our Portal as we have to use it for another urgent project.\n"
   ]
  },
  {
   "cell_type": "markdown",
   "metadata": {},
   "source": [
    "## Good thing we have the ArcGIS API for Python to help."
   ]
  },
  {
   "cell_type": "markdown",
   "metadata": {},
   "source": [
    "We're going to run a clean up script(clean.py) in my local IDE(PyCharm) removing everything except the admin account and some groups. \n",
    "\n"
   ]
  },
  {
   "cell_type": "code",
   "execution_count": 26,
   "metadata": {},
   "outputs": [],
   "source": [
    "def clean():\n",
    "    with open(\"users.csv\", 'r') as users_csv:\n",
    "        users = csv.DictReader(users_csv)\n",
    "        for user in users:\n",
    "            try:\n",
    "                n = gis.users.get(user['username'])\n",
    "                i = (n.items())\n",
    "                for c in i:\n",
    "                    c.delete()\n",
    "                n.delete()\n",
    "                \n",
    "                \n",
    "\n",
    "            except Exception as add_ex:\n",
    "                print(\"exception \" + user['username'])\n",
    "                print(str(add_ex))\n",
    "clean()"
   ]
  },
  {
   "cell_type": "code",
   "execution_count": null,
   "metadata": {},
   "outputs": [],
   "source": []
  }
 ],
 "metadata": {
  "kernelspec": {
   "display_name": "Python 3",
   "language": "python",
   "name": "python3"
  },
  "language_info": {
   "codemirror_mode": {
    "name": "ipython",
    "version": 3
   },
   "file_extension": ".py",
   "mimetype": "text/x-python",
   "name": "python",
   "nbconvert_exporter": "python",
   "pygments_lexer": "ipython3",
   "version": "3.7.1"
  }
 },
 "nbformat": 4,
 "nbformat_minor": 2
}
