{
 "cells": [
  {
   "cell_type": "code",
   "execution_count": 1,
   "metadata": {},
   "outputs": [],
   "source": [
    "import arcgis\n",
    "import arcgis.features\n",
    "import datetime as dt\n",
    "\n",
    "fromUser = \"pgamberg@EsriDenver\"\n",
    "toUser = \"pete_student\"\n",
    "surveyors = [\n",
    "    [\"udaf_surveyor1\",\"Alan\"],\n",
    "    [\"udaf_surveyor2\",\"Brent\"],\n",
    "    [\"udaf_surveyor3\",\"Jake\"],\n",
    "    [\"udaf_surveyor4\",\"Jason\"],\n",
    "    [\"udaf_surveyor5\",\"Jerry\"],\n",
    "    [\"udaf_surveyor6\",\"Kasey\"],\n",
    "    [\"udaf_surveyor7\",\"Mark\"],\n",
    "    [\"udaf_surveyor8\",\"Matt\"],\n",
    "    [\"udaf_surveyor9\",\"Richfield\"],\n",
    "    [\"udaf_surveyor10\",\"Sharon\"],\n",
    "    [\"udaf_surveyor11\",\"Jeff\"],\n",
    "    [\"udaf_surveyor12\",\"Sarah\"],\n",
    "    [\"udaf_surveyor13\",\"Sally\"],\n",
    "    [\"udaf_surveyor14\",\"Karissa\"],\n",
    "    [\"udaf_surveyor15\",\"Mary\"]\n",
    "]\n",
    "    \n",
    "surveyorUserName = \"pete_student\"\n",
    "surveyorField = \"Surveyor\"\n",
    "editorField = \"Editor\"\n",
    "editorDateField = \"EditDate\"\n",
    "creatorField = \"Creator\"\n",
    "creatorDateField = \"CreationDate\""
   ]
  },
  {
   "cell_type": "code",
   "execution_count": 2,
   "metadata": {},
   "outputs": [
    {
     "name": "stdout",
     "output_type": "stream",
     "text": [
      "Enter password: ········\n"
     ]
    }
   ],
   "source": [
    "gis = arcgis.gis.GIS(\"https://esridenver.maps.arcgis.com\", \"pgamberg@EsriDenver\")"
   ]
  },
  {
   "cell_type": "code",
   "execution_count": 11,
   "metadata": {},
   "outputs": [
    {
     "data": {
      "text/html": [
       "<div class=\"item_container\" style=\"height: auto; overflow: hidden; border: 1px solid #cfcfcf; border-radius: 2px; background: #f6fafa; line-height: 1.21429em; padding: 10px;\">\n",
       "                    <div class=\"item_left\" style=\"width: 210px; float: left;\">\n",
       "                       <a href='https://esridenver.maps.arcgis.com/home/item.html?id=f3676d83c5cf4d29ac2aae41df230509' target='_blank'>\n",
       "                        <img src='data:image/png;base64,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' width='200' height='133' class=\"itemThumbnail\">\n",
       "                       </a>\n",
       "                    </div>\n",
       "\n",
       "                    <div class=\"item_right\"     style=\"float: none; width: auto; overflow: hidden;\">\n",
       "                        <a href='https://esridenver.maps.arcgis.com/home/item.html?id=f3676d83c5cf4d29ac2aae41df230509' target='_blank'><b>Water filter inspections</b>\n",
       "                        </a>\n",
       "                        <br/>demo<img src='https://esridenver.maps.arcgis.com/home/js/jsapi/esri/css/images/item_type_icons/featureshosted16.png' style=\"vertical-align:middle;\">Feature Layer Collection by pgamberg@EsriDenver\n",
       "                        <br/>Last Modified: August 06, 2019\n",
       "                        <br/>0 comments, 7 views\n",
       "                    </div>\n",
       "                </div>\n",
       "                "
      ],
      "text/plain": [
       "<Item title:\"Water filter inspections\" type:Feature Layer Collection owner:pgamberg@EsriDenver>"
      ]
     },
     "execution_count": 11,
     "metadata": {},
     "output_type": "execute_result"
    }
   ],
   "source": [
    "item = gis.content.get(\"f3676d83c5cf4d29ac2aae41df230509\")\n",
    "item"
   ]
  },
  {
   "cell_type": "code",
   "execution_count": 12,
   "metadata": {},
   "outputs": [
    {
     "data": {
      "text/plain": [
       "{'success': True}"
      ]
     },
     "execution_count": 12,
     "metadata": {},
     "output_type": "execute_result"
    }
   ],
   "source": [
    "# Disable editor tracking\n",
    "f = arcgis.features.FeatureLayerCollection.fromitem(item)\n",
    "f.manager.update_definition({\"editorTrackingInfo\" : {\"enableEditorTracking\" : False}})"
   ]
  },
  {
   "cell_type": "code",
   "execution_count": 13,
   "metadata": {},
   "outputs": [
    {
     "data": {
      "text/plain": [
       "{'success': True}"
      ]
     },
     "execution_count": 13,
     "metadata": {},
     "output_type": "execute_result"
    }
   ],
   "source": [
    "# Make the editor tracking field editable\n",
    "editFlag = True\n",
    "fm = arcgis.features.managers.FeatureLayerManager.fromitem(item, layer_id=0)\n",
    "fm.update_definition({\"fields\":[{\"name\":editorField,\"editable\":editFlag},{\"name\":editorDateField,\"editable\":editFlag}, \\\n",
    "                                {\"name\":creatorField,\"editable\":editFlag},{\"name\":creatorDateField,\"editable\":editFlag}]})"
   ]
  },
  {
   "cell_type": "code",
   "execution_count": 14,
   "metadata": {},
   "outputs": [],
   "source": [
    "results = []\n",
    "\n",
    "\n",
    "\n",
    "# for each inspector, find the records assigned to them in the surveyor \n",
    "#field and calc thier username into the editor tracking fields\n",
    "\n",
    "for s in surveyors:\n",
    "    #Now run a calculate field expression to set the Creator field from the fromUser to the toUser (ScottMooreRAD to ScottMoorePNW)\n",
    "    calcExpr = []\n",
    "    calcExpr.append({'field' : creatorField, 'value' : s[0]})\n",
    "    #calcExpr.append({'field' : creatorDateField, 'value' : dt.datetime.now()})\n",
    "    calcExpr.append({'field' : editorField, 'value' : s[0]})\n",
    "    #calcExpr.append({'field' : editorDateField, 'value' : dt.datetime.now()})\n",
    "    lyr = item.layers[0]\n",
    "    #results = lyr.calculate(where=creatorField + \" = '\" + fromUser + \"'\",calc_expression=calcExpr)\n",
    "\n",
    "    result = lyr.calculate(where=surveyorField + \" = '\" + s[1] + \"'\",calc_expression=calcExpr)\n",
    "    results.append(result)\n",
    "\n",
    "\n"
   ]
  },
  {
   "cell_type": "code",
   "execution_count": 15,
   "metadata": {},
   "outputs": [
    {
     "data": {
      "text/plain": [
       "[{'success': True, 'updatedFeatureCount': 721},\n",
       " {'success': True, 'updatedFeatureCount': 92},\n",
       " {'success': True, 'updatedFeatureCount': 44},\n",
       " {'success': True, 'updatedFeatureCount': 54},\n",
       " {'success': True, 'updatedFeatureCount': 234},\n",
       " {'success': True, 'updatedFeatureCount': 144},\n",
       " {'success': True, 'updatedFeatureCount': 4},\n",
       " {'success': True, 'updatedFeatureCount': 61},\n",
       " {'success': True, 'updatedFeatureCount': 84},\n",
       " {'success': True, 'updatedFeatureCount': 295},\n",
       " {'success': True, 'updatedFeatureCount': 899},\n",
       " {'success': True, 'updatedFeatureCount': 995},\n",
       " {'success': True, 'updatedFeatureCount': 961},\n",
       " {'success': True, 'updatedFeatureCount': 0},\n",
       " {'success': True, 'updatedFeatureCount': 0}]"
      ]
     },
     "execution_count": 15,
     "metadata": {},
     "output_type": "execute_result"
    }
   ],
   "source": [
    "results"
   ]
  },
  {
   "cell_type": "code",
   "execution_count": 16,
   "metadata": {},
   "outputs": [
    {
     "data": {
      "text/plain": [
       "{'success': True}"
      ]
     },
     "execution_count": 16,
     "metadata": {},
     "output_type": "execute_result"
    }
   ],
   "source": [
    "editFlag = False\n",
    "fm.update_definition({\"fields\":[{\"name\":editorField,\"editable\":editFlag},{\"name\":editorDateField,\"editable\":editFlag}, \\\n",
    "                                {\"name\":creatorField,\"editable\":editFlag},{\"name\":creatorDateField,\"editable\":editFlag}]})"
   ]
  },
  {
   "cell_type": "code",
   "execution_count": 17,
   "metadata": {},
   "outputs": [
    {
     "data": {
      "text/plain": [
       "{'success': True}"
      ]
     },
     "execution_count": 17,
     "metadata": {},
     "output_type": "execute_result"
    }
   ],
   "source": [
    "f.manager.update_definition({\"editorTrackingInfo\" : {\"enableEditorTracking\" : True}})"
   ]
  },
  {
   "cell_type": "code",
   "execution_count": null,
   "metadata": {},
   "outputs": [],
   "source": []
  }
 ],
 "metadata": {
  "kernelspec": {
   "display_name": "Python 3",
   "language": "python",
   "name": "python3"
  },
  "language_info": {
   "codemirror_mode": {
    "name": "ipython",
    "version": 3
   },
   "file_extension": ".py",
   "mimetype": "text/x-python",
   "name": "python",
   "nbconvert_exporter": "python",
   "pygments_lexer": "ipython3",
   "version": "3.7.1"
  }
 },
 "nbformat": 4,
 "nbformat_minor": 2
}
