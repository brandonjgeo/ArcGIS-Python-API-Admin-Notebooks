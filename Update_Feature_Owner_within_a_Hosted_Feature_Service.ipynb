{
 "cells": [
  {
   "cell_type": "code",
   "execution_count": 1,
   "metadata": {},
   "outputs": [],
   "source": [
    "import arcgis\n",
    "import arcgis.features\n",
    "import datetime as dt\n",
    "\n",
    "fromUser = \"pgamberg@EsriDenver\"\n",
    "toUser = \"pete_student\"\n",
    "surveyors = [\n",
    "    [\"udaf_surveyor1\",\"Alan Lindsay\"],\n",
    "    [\"udaf_surveyor2\",\"Brent Ure\"],\n",
    "    [\"udaf_surveyor3\",\"Jake Barnes\"],\n",
    "    [\"udaf_surveyor4\",\"Jason Noble\"],\n",
    "    [\"udaf_surveyor5\",\"Jerry Shue\"],\n",
    "    [\"udaf_surveyor6\",\"Kasey King\"],\n",
    "    [\"udaf_surveyor7\",\"Mark Hillier\"],\n",
    "    [\"udaf_surveyor8\",\"Matt Serfustini\"],\n",
    "    [\"udaf_surveyor9\",\"Richfield Inspector\"],\n",
    "    [\"udaf_surveyor10\",\"Sharon Gilbert\"],\n",
    "    [\"udaf_surveyor11\",\"Jeff Larson\"],\n",
    "    [\"udaf_surveyor12\",\"Sarah Poncher\"],\n",
    "    [\"udaf_surveyor13\",\"Sally Crawley\"],\n",
    "    [\"udaf_surveyor14\",\"Karissa Johnson\"],\n",
    "    [\"udaf_surveyor15\",\"Mary Beninati\"]\n",
    "]\n",
    "    \n",
    "surveyorUserName = \"pete_student\"\n",
    "surveyorField = \"Surveyor\"\n",
    "editorField = \"Editor\"\n",
    "editorDateField = \"EditDate\"\n",
    "creatorField = \"Creator\"\n",
    "creatorDateField = \"CreationDate\""
   ]
  },
  {
   "cell_type": "code",
   "execution_count": 2,
   "metadata": {},
   "outputs": [
    {
     "name": "stdout",
     "output_type": "stream",
     "text": [
      "Enter password: ········\n"
     ]
    }
   ],
   "source": [
    "gis = arcgis.gis.GIS(\"https://esridenver.maps.arcgis.com\", \"pgamberg@EsriDenver\")"
   ]
  },
  {
   "cell_type": "code",
   "execution_count": 4,
   "metadata": {},
   "outputs": [
    {
     "data": {
      "text/html": [
       "<div class=\"item_container\" style=\"height: auto; overflow: hidden; border: 1px solid #cfcfcf; border-radius: 2px; background: #f6fafa; line-height: 1.21429em; padding: 10px;\">\n",
       "                    <div class=\"item_left\" style=\"width: 210px; float: left;\">\n",
       "                       <a href='https://esridenver.maps.arcgis.com/home/item.html?id=4df5de727e07404785bbffa7750a09ad' target='_blank'>\n",
       "                        <img src='data:image/png;base64,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' width='200' height='133' class=\"itemThumbnail\">\n",
       "                       </a>\n",
       "                    </div>\n",
       "\n",
       "                    <div class=\"item_right\"     style=\"float: none; width: auto; overflow: hidden;\">\n",
       "                        <a href='https://esridenver.maps.arcgis.com/home/item.html?id=4df5de727e07404785bbffa7750a09ad' target='_blank'><b>JBGMSurvey</b>\n",
       "                        </a>\n",
       "                        <br/>demo<img src='https://esridenver.maps.arcgis.com/home/js/jsapi/esri/css/images/item_type_icons/featureshosted16.png' style=\"vertical-align:middle;\">Feature Layer Collection by pgamberg@EsriDenver\n",
       "                        <br/>Last Modified: August 05, 2019\n",
       "                        <br/>0 comments, 1 views\n",
       "                    </div>\n",
       "                </div>\n",
       "                "
      ],
      "text/plain": [
       "<Item title:\"JBGMSurvey\" type:Feature Layer Collection owner:pgamberg@EsriDenver>"
      ]
     },
     "execution_count": 4,
     "metadata": {},
     "output_type": "execute_result"
    }
   ],
   "source": [
    "item = gis.content.get(\"4df5de727e07404785bbffa7750a09ad\")\n",
    "item"
   ]
  },
  {
   "cell_type": "code",
   "execution_count": 5,
   "metadata": {},
   "outputs": [
    {
     "data": {
      "text/plain": [
       "{'success': True}"
      ]
     },
     "execution_count": 5,
     "metadata": {},
     "output_type": "execute_result"
    }
   ],
   "source": [
    "f = arcgis.features.FeatureLayerCollection.fromitem(item)\n",
    "f.manager.update_definition({\"editorTrackingInfo\" : {\"enableEditorTracking\" : False}})"
   ]
  },
  {
   "cell_type": "code",
   "execution_count": 6,
   "metadata": {},
   "outputs": [
    {
     "data": {
      "text/plain": [
       "{'success': True}"
      ]
     },
     "execution_count": 6,
     "metadata": {},
     "output_type": "execute_result"
    }
   ],
   "source": [
    "#Let's make the editor tracking field editable\n",
    "editFlag = True\n",
    "fm = arcgis.features.managers.FeatureLayerManager.fromitem(item, layer_id=0)\n",
    "fm.update_definition({\"fields\":[{\"name\":editorField,\"editable\":editFlag},{\"name\":editorDateField,\"editable\":editFlag}, \\\n",
    "                                {\"name\":creatorField,\"editable\":editFlag},{\"name\":creatorDateField,\"editable\":editFlag}]})"
   ]
  },
  {
   "cell_type": "code",
   "execution_count": 7,
   "metadata": {},
   "outputs": [],
   "source": [
    "\n",
    "results = []\n",
    "for s in surveyors:\n",
    "    #Now run a calculate field expression to set the Creator field from the fromUser to the toUser (ScottMooreRAD to ScottMoorePNW)\n",
    "    calcExpr = []\n",
    "    calcExpr.append({'field' : creatorField, 'value' : s[0]})\n",
    "    #calcExpr.append({'field' : creatorDateField, 'value' : dt.datetime.now()})\n",
    "    calcExpr.append({'field' : editorField, 'value' : s[0]})\n",
    "    #calcExpr.append({'field' : editorDateField, 'value' : dt.datetime.now()})\n",
    "    lyr = item.layers[0]\n",
    "    #results = lyr.calculate(where=creatorField + \" = '\" + fromUser + \"'\",calc_expression=calcExpr)\n",
    "\n",
    "    result = lyr.calculate(where=surveyorField + \" = '\" + s[1] + \"'\",calc_expression=calcExpr)\n",
    "    results.append(result)\n",
    "\n",
    "\n"
   ]
  },
  {
   "cell_type": "code",
   "execution_count": 11,
   "metadata": {},
   "outputs": [
    {
     "data": {
      "text/plain": [
       "[{'success': True, 'updatedFeatureCount': 721},\n",
       " {'success': True, 'updatedFeatureCount': 92},\n",
       " {'success': True, 'updatedFeatureCount': 44},\n",
       " {'success': True, 'updatedFeatureCount': 54},\n",
       " {'success': True, 'updatedFeatureCount': 234},\n",
       " {'success': True, 'updatedFeatureCount': 144},\n",
       " {'success': True, 'updatedFeatureCount': 4},\n",
       " {'success': True, 'updatedFeatureCount': 61},\n",
       " {'success': True, 'updatedFeatureCount': 84},\n",
       " {'success': True, 'updatedFeatureCount': 295},\n",
       " {'success': True, 'updatedFeatureCount': 899},\n",
       " {'success': True, 'updatedFeatureCount': 995},\n",
       " {'success': True, 'updatedFeatureCount': 961},\n",
       " {'success': True, 'updatedFeatureCount': 0},\n",
       " {'success': True, 'updatedFeatureCount': 0}]"
      ]
     },
     "execution_count": 11,
     "metadata": {},
     "output_type": "execute_result"
    }
   ],
   "source": [
    "results"
   ]
  },
  {
   "cell_type": "code",
   "execution_count": 9,
   "metadata": {},
   "outputs": [
    {
     "data": {
      "text/plain": [
       "{'success': True}"
      ]
     },
     "execution_count": 9,
     "metadata": {},
     "output_type": "execute_result"
    }
   ],
   "source": [
    "editFlag = False\n",
    "fm.update_definition({\"fields\":[{\"name\":editorField,\"editable\":editFlag},{\"name\":editorDateField,\"editable\":editFlag}, \\\n",
    "                                {\"name\":creatorField,\"editable\":editFlag},{\"name\":creatorDateField,\"editable\":editFlag}]})"
   ]
  },
  {
   "cell_type": "code",
   "execution_count": 10,
   "metadata": {},
   "outputs": [
    {
     "data": {
      "text/plain": [
       "{'success': True}"
      ]
     },
     "execution_count": 10,
     "metadata": {},
     "output_type": "execute_result"
    }
   ],
   "source": [
    "f.manager.update_definition({\"editorTrackingInfo\" : {\"enableEditorTracking\" : True}})"
   ]
  },
  {
   "cell_type": "code",
   "execution_count": null,
   "metadata": {},
   "outputs": [],
   "source": []
  }
 ],
 "metadata": {
  "kernelspec": {
   "display_name": "Python 3",
   "language": "python",
   "name": "python3"
  },
  "language_info": {
   "codemirror_mode": {
    "name": "ipython",
    "version": 3
   },
   "file_extension": ".py",
   "mimetype": "text/x-python",
   "name": "python",
   "nbconvert_exporter": "python",
   "pygments_lexer": "ipython3",
   "version": "3.7.1"
  }
 },
 "nbformat": 4,
 "nbformat_minor": 2
}
