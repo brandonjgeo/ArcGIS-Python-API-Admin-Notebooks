{
 "cells": [
  {
   "cell_type": "markdown",
   "metadata": {},
   "source": [
    "# Find information about your ArcGIS Online Organization"
   ]
  },
  {
   "cell_type": "code",
   "execution_count": 2,
   "metadata": {},
   "outputs": [
    {
     "name": "stdout",
     "output_type": "stream",
     "text": [
      "········\n"
     ]
    }
   ],
   "source": [
    "from arcgis.gis import GIS\n",
    "from getpass import getpass\n",
    "password = getpass()"
   ]
  },
  {
   "cell_type": "code",
   "execution_count": 3,
   "metadata": {},
   "outputs": [
    {
     "name": "stdout",
     "output_type": "stream",
     "text": [
      "Connected to esridenver\n"
     ]
    }
   ],
   "source": [
    "online_gis = GIS(\"https://esridenver.maps.arcgis.com\", \"pgamberg@EsriDenver\", password)\n",
    "print(\"Connected to {}\".format(online_gis.properties.urlKey))"
   ]
  },
  {
   "cell_type": "markdown",
   "metadata": {},
   "source": [
    "## Portal properties"
   ]
  },
  {
   "cell_type": "code",
   "execution_count": 4,
   "metadata": {},
   "outputs": [
    {
     "name": "stdout",
     "output_type": "stream",
     "text": [
      "asyncClosestFacility\n",
      "\thttps://logistics.arcgis.com/arcgis/rest/services/World/ClosestFacility/GPServer/FindClosestFacilities\n",
      "asyncLocationAllocation\n",
      "\thttps://logistics.arcgis.com/arcgis/rest/services/World/LocationAllocation/GPServer\n",
      "asyncODCostMatrix\n",
      "\thttps://logistics.arcgis.com/arcgis/rest/services/World/OriginDestinationCostMatrix/GPServer\n",
      "asyncRoute\n",
      "\thttps://logistics.arcgis.com/arcgis/rest/services/World/Route/GPServer\n",
      "asyncServiceArea\n",
      "\thttps://logistics.arcgis.com/arcgis/rest/services/World/ServiceAreas/GPServer/GenerateServiceAreas\n",
      "asyncVRP\n",
      "\thttps://logistics.arcgis.com/arcgis/rest/services/World/VehicleRoutingProblem/GPServer/SolveVehicleRoutingProblem\n",
      "closestFacility\n",
      "\thttps://route.arcgis.com/arcgis/rest/services/World/ClosestFacility/NAServer/ClosestFacility_World\n",
      "defaultElevationLayers\n",
      "\thttps://elevation3d.arcgis.com/arcgis/rest/services/WorldElevation3D/Terrain3D/ImageServer\n",
      "elevation\n",
      "\thttps://elevation.arcgis.com/arcgis/rest/services/Tools/Elevation/GPServer\n",
      "elevationSync\n",
      "\thttps://elevation.arcgis.com/arcgis/rest/services/Tools/ElevationSync/GPServer\n",
      "geocode\n",
      "\thttps://geocode.arcgis.com/arcgis/rest/services/World/GeocodeServer\n",
      "geometry\n",
      "\thttps://utility.arcgisonline.com/arcgis/rest/services/Geometry/GeometryServer\n",
      "hydrology\n",
      "\thttps://hydro.arcgis.com/arcgis/rest/services/Tools/Hydrology/GPServer\n",
      "orthomappingElevation\n",
      "\thttps://elevation3d.arcgis.com/arcgis/rest/services/WorldElevation3D/Terrain3D/ImageServer\n",
      "packaging\n",
      "\thttps://packaging.arcgis.com/arcgis/rest/services/OfflinePackaging/GPServer\n",
      "printTask\n",
      "\thttps://utility.arcgisonline.com/arcgis/rest/services/Utilities/PrintingTools/GPServer/Export%20Web%20Map%20Task\n",
      "route\n",
      "\thttps://route.arcgis.com/arcgis/rest/services/World/Route/NAServer/Route_World\n",
      "routingUtilities\n",
      "\thttps://logistics.arcgis.com/arcgis/rest/services/World/Utilities/GPServer\n",
      "serviceArea\n",
      "\thttps://route.arcgis.com/arcgis/rest/services/World/ServiceAreas/NAServer/ServiceArea_World\n",
      "syncVRP\n",
      "\thttps://logistics.arcgis.com/arcgis/rest/services/World/VehicleRoutingProblemSync/GPServer/EditVehicleRoutingProblem\n",
      "traffic\n",
      "\thttps://traffic.arcgis.com/arcgis/rest/services/World/Traffic/MapServer\n",
      "trafficData\n",
      "\thttps://traffic.arcgis.com/arcgis/rest/services/World/TrafficFeeds/GPServer\n",
      "analysis\n",
      "\thttps://analysis2.arcgis.com/arcgis/rest/services/tasks/GPServer\n",
      "geoenrichment\n",
      "\thttps://geoenrich.arcgis.com/arcgis/rest/services/World/GeoenrichmentServer\n",
      "asyncGeocode\n",
      "\thttps://analysis2.arcgis.com/arcgis/rest/services/tasks/GPServer\n",
      "creditEstimation\n",
      "\thttps://analysis2.arcgis.com/arcgis/rest/services/Estimate/GPServer\n"
     ]
    }
   ],
   "source": [
    "for svc, url in online_gis.properties.helperServices.items():\n",
    "    if isinstance(url, list):\n",
    "        print(\"{}\\n\\t{}\".format(svc, url[0]['url']))\n",
    "    elif isinstance(url, dict):\n",
    "        print(\"{}\\n\\t{}\".format(svc, url['url']))"
   ]
  },
  {
   "cell_type": "markdown",
   "metadata": {},
   "source": [
    "## Get remaining credits"
   ]
  },
  {
   "cell_type": "code",
   "execution_count": 13,
   "metadata": {},
   "outputs": [
    {
     "data": {
      "text/plain": [
       "93585.734"
      ]
     },
     "execution_count": 13,
     "metadata": {},
     "output_type": "execute_result"
    }
   ],
   "source": [
    "online_gis.properties.availableCredits"
   ]
  },
  {
   "cell_type": "markdown",
   "metadata": {},
   "source": [
    "## Get info about logged in user"
   ]
  },
  {
   "cell_type": "code",
   "execution_count": 14,
   "metadata": {},
   "outputs": [],
   "source": [
    "me = online_gis.users.me"
   ]
  },
  {
   "cell_type": "code",
   "execution_count": 15,
   "metadata": {},
   "outputs": [
    {
     "data": {
      "text/html": [
       "<div class=\"9item_container\" style=\"height: auto; overflow: hidden; border: 1px solid #cfcfcf; border-radius: 2px; background: #f6fafa; line-height: 1.21429em; padding: 10px;\">\n",
       "                    <div class=\"item_left\" style=\"width: 210px; float: left;\">\n",
       "                       <a href='https://esridenver.maps.arcgis.com/home/user.html?user=7d20eba84600886be4a9f410bede0725' target='_blank'>\n",
       "                        <img src='data:image/png;base64,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' width='200' height='133' class=\"itemThumbnail\">\n",
       "                       </a>\n",
       "                    </div>\n",
       "\n",
       "                    <div class=\"item_right\" style=\"float: none; width: auto; overflow: hidden;\">\n",
       "                        <a href='https://esridenver.maps.arcgis.com/home/user.html?user=7d20eba84600886be4a9f410bede0725' target='_blank'><b>Pete Gamberg</b>\n",
       "                        </a>\n",
       "                        <br/><br/><b>Bio</b>: \n",
       "                        <br/><b>First Name</b>: Pete\n",
       "                        <br/><b>Last Name</b>: Gamberg\n",
       "                        <br/><b>Username</b>: pgamberg@EsriDenver\n",
       "                        <br/><b>Joined</b>: June 18, 2018\n",
       "\n",
       "                    </div>\n",
       "                </div>\n",
       "                "
      ],
      "text/plain": [
       "<User username:pgamberg@EsriDenver>"
      ]
     },
     "execution_count": 15,
     "metadata": {},
     "output_type": "execute_result"
    }
   ],
   "source": [
    "me"
   ]
  },
  {
   "cell_type": "code",
   "execution_count": 16,
   "metadata": {},
   "outputs": [
    {
     "data": {
      "text/plain": [
       "'org'"
      ]
     },
     "execution_count": 16,
     "metadata": {},
     "output_type": "execute_result"
    }
   ],
   "source": [
    "me.access"
   ]
  },
  {
   "cell_type": "code",
   "execution_count": 17,
   "metadata": {},
   "outputs": [
    {
     "data": {
      "text/plain": [
       "'org_admin'"
      ]
     },
     "execution_count": 17,
     "metadata": {},
     "output_type": "execute_result"
    }
   ],
   "source": [
    "me.role"
   ]
  },
  {
   "cell_type": "code",
   "execution_count": 18,
   "metadata": {},
   "outputs": [
    {
     "data": {
      "text/plain": [
       "1529342911000"
      ]
     },
     "execution_count": 18,
     "metadata": {},
     "output_type": "execute_result"
    }
   ],
   "source": [
    "me.created"
   ]
  },
  {
   "cell_type": "markdown",
   "metadata": {},
   "source": [
    "### Get info about Feature Services"
   ]
  },
  {
   "cell_type": "code",
   "execution_count": 19,
   "metadata": {},
   "outputs": [
    {
     "data": {
      "text/plain": [
       "[<Item title:\"Drone_Projects\" type:Feature Layer Collection owner:joseph_peters@esridenver>,\n",
       " <Item title:\"HOA Emergency Preparedness Survey_fieldworker\" type:Feature Layer Collection owner:ahenry@esridenver>,\n",
       " <Item title:\"SDWQ_Merge\" type:Feature Layer Collection owner:jen_mccall>,\n",
       " <Item title:\"PublicProjectIdeas_dashboard\" type:Feature Layer Collection owner:joseph_peters@esridenver>,\n",
       " <Item title:\"IncidentLocations\" type:Feature Layer Collection owner:joseph_peters@esridenver>,\n",
       " <Item title:\"John_Snow\" type:Feature Layer Collection owner:joseph_peters@esridenver>,\n",
       " <Item title:\"BikeLaneInv\" type:Feature Layer Collection owner:joseph_peters@esridenver>,\n",
       " <Item title:\"AnimalProblemReports\" type:Feature Layer Collection owner:hmiller_esridenver>,\n",
       " <Item title:\"assignments_701e5d2853d244c3ae59a55eb7e8db34\" type:Feature Layer Collection owner:joseph_peters@esridenver>,\n",
       " <Item title:\"UtilityProblemReports\" type:Feature Layer Collection owner:hmiller_esridenver>,\n",
       " <Item title:\"dispatchers_d24ff0cc700548cbaa6d56bc10461008\" type:Feature Layer Collection owner:joseph_peters@esridenver>,\n",
       " <Item title:\"Yavapai County Trails (Non-Motorized)\" type:Feature Layer Collection owner:joseph_peters@esridenver>,\n",
       " <Item title:\"SAHMSA Treatemnt locations\" type:Feature Layer Collection owner:jlindemann@EsriDenver>,\n",
       " <Item title:\"assignments_4d54ac2767e94b0aa1ac21fdee6303a9\" type:Feature Layer Collection owner:mbullock@EsriDenver>,\n",
       " <Item title:\"AZTreatmentLocations_withMAT\" type:Feature Layer Collection owner:jlindemann@EsriDenver>,\n",
       " <Item title:\"DamageAssessment\" type:Feature Layer Collection owner:joseph_peters@esridenver>,\n",
       " <Item title:\"Routes to Routing_Test\" type:Feature Layer Collection owner:joseph_peters@esridenver>,\n",
       " <Item title:\"Crimes_public\" type:Feature Layer Collection owner:joseph_peters@esridenver>,\n",
       " <Item title:\"MosquitoTreatments\" type:Feature Layer Collection owner:ShelbyHines_esridenver>,\n",
       " <Item title:\"dispatchers_701e5d2853d244c3ae59a55eb7e8db34\" type:Feature Layer Collection owner:joseph_peters@esridenver>,\n",
       " <Item title:\"Wyoming Webinar - June 14, 2017_stakeholder\" type:Feature Layer Collection owner:bbrum_esridenver>,\n",
       " <Item title:\"Alternative Fuel Stations\" type:Feature Layer Collection owner:joseph_peters@esridenver>,\n",
       " <Item title:\"location_4d54ac2767e94b0aa1ac21fdee6303a9\" type:Feature Layer Collection owner:mbullock@EsriDenver>,\n",
       " <Item title:\"BlightProblemReports\" type:Feature Layer Collection owner:hmiller_esridenver>,\n",
       " <Item title:\"Orange County Opioid Deaths\" type:Feature Layer Collection owner:jlindemann@EsriDenver>]"
      ]
     },
     "execution_count": 19,
     "metadata": {},
     "output_type": "execute_result"
    }
   ],
   "source": [
    "fs_srch = online_gis.content.search(query=\"*\", \n",
    "                                    item_type=\"Feature Service\", \n",
    "                                    max_items=25)\n",
    "fs_srch"
   ]
  },
  {
   "cell_type": "code",
   "execution_count": 37,
   "metadata": {},
   "outputs": [],
   "source": [
    "fs_srch_mine = online_gis.content.search(query=\"* AND NOT owner:*esri*\", item_type=\"Feature Service\", max_items=25)\n"
   ]
  },
  {
   "cell_type": "code",
   "execution_count": 38,
   "metadata": {},
   "outputs": [
    {
     "data": {
      "text/plain": [
       "[<Item title:\"Drone_Projects\" type:Feature Layer Collection owner:joseph_peters@esridenver>,\n",
       " <Item title:\"HOA Emergency Preparedness Survey_fieldworker\" type:Feature Layer Collection owner:ahenry@esridenver>,\n",
       " <Item title:\"SDWQ_Merge\" type:Feature Layer Collection owner:jen_mccall>,\n",
       " <Item title:\"PublicProjectIdeas_dashboard\" type:Feature Layer Collection owner:joseph_peters@esridenver>,\n",
       " <Item title:\"IncidentLocations\" type:Feature Layer Collection owner:joseph_peters@esridenver>,\n",
       " <Item title:\"John_Snow\" type:Feature Layer Collection owner:joseph_peters@esridenver>,\n",
       " <Item title:\"BikeLaneInv\" type:Feature Layer Collection owner:joseph_peters@esridenver>,\n",
       " <Item title:\"AnimalProblemReports\" type:Feature Layer Collection owner:hmiller_esridenver>,\n",
       " <Item title:\"assignments_701e5d2853d244c3ae59a55eb7e8db34\" type:Feature Layer Collection owner:joseph_peters@esridenver>,\n",
       " <Item title:\"UtilityProblemReports\" type:Feature Layer Collection owner:hmiller_esridenver>,\n",
       " <Item title:\"dispatchers_d24ff0cc700548cbaa6d56bc10461008\" type:Feature Layer Collection owner:joseph_peters@esridenver>,\n",
       " <Item title:\"Yavapai County Trails (Non-Motorized)\" type:Feature Layer Collection owner:joseph_peters@esridenver>,\n",
       " <Item title:\"SAHMSA Treatemnt locations\" type:Feature Layer Collection owner:jlindemann@EsriDenver>,\n",
       " <Item title:\"assignments_4d54ac2767e94b0aa1ac21fdee6303a9\" type:Feature Layer Collection owner:mbullock@EsriDenver>,\n",
       " <Item title:\"AZTreatmentLocations_withMAT\" type:Feature Layer Collection owner:jlindemann@EsriDenver>,\n",
       " <Item title:\"DamageAssessment\" type:Feature Layer Collection owner:joseph_peters@esridenver>,\n",
       " <Item title:\"Routes to Routing_Test\" type:Feature Layer Collection owner:joseph_peters@esridenver>,\n",
       " <Item title:\"Crimes_public\" type:Feature Layer Collection owner:joseph_peters@esridenver>,\n",
       " <Item title:\"MosquitoTreatments\" type:Feature Layer Collection owner:ShelbyHines_esridenver>,\n",
       " <Item title:\"dispatchers_701e5d2853d244c3ae59a55eb7e8db34\" type:Feature Layer Collection owner:joseph_peters@esridenver>,\n",
       " <Item title:\"Wyoming Webinar - June 14, 2017_stakeholder\" type:Feature Layer Collection owner:bbrum_esridenver>,\n",
       " <Item title:\"Alternative Fuel Stations\" type:Feature Layer Collection owner:joseph_peters@esridenver>,\n",
       " <Item title:\"location_4d54ac2767e94b0aa1ac21fdee6303a9\" type:Feature Layer Collection owner:mbullock@EsriDenver>,\n",
       " <Item title:\"BlightProblemReports\" type:Feature Layer Collection owner:hmiller_esridenver>,\n",
       " <Item title:\"Orange County Opioid Deaths\" type:Feature Layer Collection owner:jlindemann@EsriDenver>]"
      ]
     },
     "execution_count": 38,
     "metadata": {},
     "output_type": "execute_result"
    }
   ],
   "source": [
    "fs_srch_mine"
   ]
  },
  {
   "cell_type": "code",
   "execution_count": 23,
   "metadata": {},
   "outputs": [],
   "source": [
    "wb_srch = online_gis.content.search(query=\"*\", item_type=\"Web Map\", max_items=25)"
   ]
  },
  {
   "cell_type": "code",
   "execution_count": 24,
   "metadata": {},
   "outputs": [
    {
     "data": {
      "text/plain": [
       "[<Item title:\"Restaurant Inspection Results\" type:Web Map owner:joseph_peters@esridenver>,\n",
       " <Item title:\"Houston Evacuation Map\" type:Web Map owner:ahenry@esridenver>,\n",
       " <Item title:\"NOLA_PublicHealthClinics\" type:Web Map owner:ShelbyHines_esridenver>,\n",
       " <Item title:\"Fire Pre-Incident Plans Map JP Copy\" type:Web Map owner:joseph_peters@esridenver>,\n",
       " <Item title:\"Fire Hydrant Inspection\" type:Web Map owner:joseph_peters@esridenver>,\n",
       " <Item title:\"Restaurant Inspections Dashboard\" type:Web Map owner:joseph_peters@esridenver>,\n",
       " <Item title:\"Damage Assessment - High Accuracy\" type:Web Map owner:mbullock@EsriDenver>,\n",
       " <Item title:\"Rocktober\" type:Web Map owner:jlindemann@EsriDenver>,\n",
       " <Item title:\"Drone Project Inventory Map\" type:Web Map owner:joseph_peters@esridenver>,\n",
       " <Item title:\"Routing Testing\" type:Web Map owner:joseph_peters@esridenver>,\n",
       " <Item title:\"Fire Inspection_workers\" type:Web Map owner:joseph_peters@esridenver>,\n",
       " <Item title:\"Mosquito Spray Areas\" type:Web Map owner:ShelbyHines_esridenver>,\n",
       " <Item title:\"Strava 2018 Activity Map JP\" type:Web Map owner:joseph_peters@esridenver>,\n",
       " <Item title:\"zxcv\" type:Web Map owner:alex_ocean0>,\n",
       " <Item title:\"Routing Demo Map\" type:Web Map owner:joseph_peters@esridenver>,\n",
       " <Item title:\"Camp Kotori 2018\" type:Web Map owner:joseph_peters@esridenver>,\n",
       " <Item title:\"Code Violation\" type:Web Map owner:ShelbyHines_esridenver>,\n",
       " <Item title:\"Road Maintenance_dispatchers\" type:Web Map owner:joseph_peters@esridenver>,\n",
       " <Item title:\"Health Resource Inventory\" type:Web Map owner:ShelbyHines_esridenver>,\n",
       " <Item title:\"Homeless Activity Reporter_manager_demo\" type:Web Map owner:hmiller_esridenver>,\n",
       " <Item title:\"Redlands Earthquake Response\" type:Web Map owner:pgamberg@EsriDenver>,\n",
       " <Item title:\"Redlands Earthquake Response (Blog)-Copy\" type:Web Map owner:XX_student_esridenver>,\n",
       " <Item title:\"Redlands Earthquake Response (Blog)-MDB\" type:Web Map owner:O_student_esridenver>,\n",
       " <Item title:\"Burgers and  Beer Site Map\" type:Web Map owner:joseph_peters@esridenver>,\n",
       " <Item title:\"Officer Contact Map\" type:Web Map owner:ShelbyHines_esridenver>]"
      ]
     },
     "execution_count": 24,
     "metadata": {},
     "output_type": "execute_result"
    }
   ],
   "source": [
    "wb_srch"
   ]
  },
  {
   "cell_type": "code",
   "execution_count": 31,
   "metadata": {},
   "outputs": [],
   "source": [
    "wb_srch_mine = online_gis.content.search(query=\"* owner:pgamberg@EsriDenver\", \n",
    "                                         item_type=\"Web Map\", \n",
    "                                         max_items=25)"
   ]
  },
  {
   "cell_type": "code",
   "execution_count": 32,
   "metadata": {},
   "outputs": [
    {
     "data": {
      "text/plain": [
       "[<Item title:\"Redlands Earthquake Response\" type:Web Map owner:pgamberg@EsriDenver>,\n",
       " <Item title:\"Tobacco retail analysis\" type:Web Map owner:pgamberg@EsriDenver>,\n",
       " <Item title:\"Collect new locations\" type:Web Map owner:pgamberg@EsriDenver>,\n",
       " <Item title:\"Denver schools and parks\" type:Web Map owner:pgamberg@EsriDenver>,\n",
       " <Item title:\"Esri Parcels\" type:Web Map owner:pgamberg@EsriDenver>]"
      ]
     },
     "execution_count": 32,
     "metadata": {},
     "output_type": "execute_result"
    }
   ],
   "source": [
    "wb_srch_mine"
   ]
  },
  {
   "cell_type": "code",
   "execution_count": 36,
   "metadata": {},
   "outputs": [
    {
     "data": {
      "application/vnd.jupyter.widget-view+json": {
       "model_id": "c0c4c8ceba7d4d5c98a58ebac2eaf988",
       "version_major": 2,
       "version_minor": 0
      },
      "text/plain": [
       "MapView(hide_mode_switch=True, layout=Layout(height='400px', width='100%'))"
      ]
     },
     "metadata": {},
     "output_type": "display_data"
    },
    {
     "data": {
      "text/html": [
       "<div class=\"map-static-img-preview-1e91dafa-d844-4212-b8c4-0451206957e5\"><img src=\"\"></img></div>"
      ],
      "text/plain": [
       "<IPython.core.display.HTML object>"
      ]
     },
     "metadata": {},
     "output_type": "display_data"
    }
   ],
   "source": [
    "from arcgis.mapping import WebMap\n",
    "wm = WebMap(wb_srch_mine[1])\n",
    "wm"
   ]
  },
  {
   "cell_type": "code",
   "execution_count": null,
   "metadata": {},
   "outputs": [],
   "source": []
  }
 ],
 "metadata": {
  "anaconda-cloud": {},
  "kernelspec": {
   "display_name": "Python 3",
   "language": "python",
   "name": "python3"
  },
  "language_info": {
   "codemirror_mode": {
    "name": "ipython",
    "version": 3
   },
   "file_extension": ".py",
   "mimetype": "text/x-python",
   "name": "python",
   "nbconvert_exporter": "python",
   "pygments_lexer": "ipython3",
   "version": "3.7.1"
  }
 },
 "nbformat": 4,
 "nbformat_minor": 2
}
