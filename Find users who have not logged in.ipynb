{
 "cells": [
  {
   "cell_type": "code",
   "execution_count": null,
   "metadata": {},
   "outputs": [],
   "source": [
    "from arcgis.gis import GIS\n",
    "import getpass\n",
    "\n",
    "username = '' # enter your username here as a string\n",
    "password = getpass.getpass('Enter password: ')\n",
    "organizationURL = '' # enter your web GIS url here as a string. for example: 'https://esridenver.maps.arcgis.com'\n",
    "\n",
    "gis = GIS(organizationURL, username, password)\n",
    "\n",
    "print(\"Connected to: {}\\nConnected as: {}\".format(gis.properties.urlKey + \".\" + gis.properties.customBaseUrl,\n",
    "                                                 gis.users.me.username))"
   ]
  },
  {
   "cell_type": "markdown",
   "metadata": {},
   "source": [
    "### find the users who have never logged in or not logged in within the past year"
   ]
  },
  {
   "cell_type": "code",
   "execution_count": null,
   "metadata": {},
   "outputs": [],
   "source": [
    "# make a list of all users\n",
    "user_list = gis.users.search(max_users=200)\n",
    "\n",
    "# create variables to compare last login times, all in unix time\n",
    "now = datetime.utcnow().timestamp()\n",
    "one_year_ago = (now - 31536000) # 31536000 is a year in unix time\n",
    "\n",
    "# create lists to populate with users who meet criteria\n",
    "no_login = []\n",
    "non_user = []\n",
    "for user in user_list:\n",
    "    s = str(user.lastLogin)\n",
    "    t = int(s)\n",
    "    if user.lastLogin == -1:\n",
    "        no_login.append(user)\n",
    "    elif t/1000 < one_year_ago:\n",
    "        non_user.append(user)\n",
    "    else:pass\n",
    "\n",
    "print('Users who have never logged in:')\n",
    "print(\"{:<25}\\t{:<25}\\t{:25}\".format(\"Username\", \"Last Login\", \"Email\"))\n",
    "print(\"{:*<25}\\t{:*<25}\\t{:*<25}\".format(\"\", \"\", \"\"))\n",
    "for user in no_login:\n",
    "    print(\"{:<25}\\t{}\\t{}\".format(user.username,\n",
    "                            datetime.fromtimestamp(user.lastLogin/1000).ctime(),user.email))\n",
    "print(\"\")  \n",
    "print(\"{:*<50}\".format(\"\"))\n",
    "print(\"{:*<50}\".format(\"\"))\n",
    "print(\"{:*<50}\".format(\"\"))\n",
    "print(\"\")  \n",
    "print('Users who have not logged in within the past year:')\n",
    "print(\"{:<25}\\t{:<25}\\t{:25}\".format(\"Username\", \"Last Login\", \"Email\"))\n",
    "print(\"{:*<25}\\t{:*<25}\\t{:*<25}\".format(\"\", \"\", \"\"))\n",
    "for user in non_user:\n",
    "    print(\"{:<25}\\t{}\\t{}\".format(user.username,\n",
    "                            datetime.fromtimestamp(user.lastLogin/1000).ctime(),user.email))"
   ]
  },
  {
   "cell_type": "markdown",
   "metadata": {},
   "source": [
    "### Notify users who have not signed in recently that their account will be deleted within the next 30 days"
   ]
  },
  {
   "cell_type": "code",
   "execution_count": null,
   "metadata": {},
   "outputs": [],
   "source": [
    "me = gis.users.search('pgamberg@EsriDenver')\n",
    "\n",
    "# send and email to users who have not used the organization in the past year\n",
    "# use me or non_user as list variable\n",
    "try:\n",
    "    gis.users.send_notification(non_user, \n",
    "                        \"You have not signed in lately?\", \n",
    "                        \"You have not signed into Esri Denver within the past year. Your account is under evaluation and being considered for allocation elsewhere in the organization. If this is an account you need for your work, please reach out to Pete Gamberg.\",\n",
    "                        type = \"email\",\n",
    "                       )\n",
    "    print('notifications sent')\n",
    "    \n",
    "\n",
    "except Exception as create_ex:\n",
    "    print(\"Error... \", str(create_ex))   "
   ]
  }
 ],
 "metadata": {
  "kernelspec": {
   "display_name": "Python 3",
   "language": "python",
   "name": "python3"
  },
  "language_info": {
   "codemirror_mode": {
    "name": "ipython",
    "version": 3
   },
   "file_extension": ".py",
   "mimetype": "text/x-python",
   "name": "python",
   "nbconvert_exporter": "python",
   "pygments_lexer": "ipython3",
   "version": "3.7.1"
  }
 },
 "nbformat": 4,
 "nbformat_minor": 2
}
