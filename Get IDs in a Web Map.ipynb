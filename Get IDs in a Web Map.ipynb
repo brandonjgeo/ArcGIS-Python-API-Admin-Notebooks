{
 "cells": [
  {
   "cell_type": "code",
   "execution_count": 1,
   "metadata": {
    "scrolled": true
   },
   "outputs": [
    {
     "name": "stdout",
     "output_type": "stream",
     "text": [
      "Enter password: ········\n",
      "Connected to: esridenver.maps.arcgis.com\n",
      "Connected as: pgamberg@EsriDenver\n"
     ]
    }
   ],
   "source": [
    "from arcgis.gis import GIS\n",
    "import getpass\n",
    "\n",
    "password = getpass.getpass('Enter password: ')\n",
    "g = GIS('https://esridenver.maps.arcgis.com', 'pgamberg@EsriDenver', password)\n",
    "print(\"Connected to: {}\\nConnected as: {}\".format(g.properties.urlKey + \".\" + g.properties.customBaseUrl,\n",
    "                                                 g.users.me.username))"
   ]
  },
  {
   "cell_type": "code",
   "execution_count": 2,
   "metadata": {},
   "outputs": [],
   "source": [
    "wmaps = g.content.search(\"fire\", item_type=\"Web Map\", max_items = 200, outside_org=False)"
   ]
  },
  {
   "cell_type": "code",
   "execution_count": 3,
   "metadata": {},
   "outputs": [
    {
     "name": "stdout",
     "output_type": "stream",
     "text": [
      "Fire Hydrant Inspection\n",
      "******************************************************************************************\n",
      "\tFire Hydrants                                     b923257e2ec24ee98c9270ab2597b2ba\n",
      "\n",
      "\n",
      "Fire Pre-Incident Plans Map JP Copy\n",
      "******************************************************************************************\n",
      "\tPre-Incident Plans                                67ffa36c6cda4a88b4dce8ce2b10a98e\n",
      "\tFire Hose Lines                                   67ffa36c6cda4a88b4dce8ce2b10a98e\n",
      "\tFire Suppression Systems                          67ffa36c6cda4a88b4dce8ce2b10a98e\n",
      "\tHazardous Materials                               67ffa36c6cda4a88b4dce8ce2b10a98e\n",
      "\tKey Boxes                                         67ffa36c6cda4a88b4dce8ce2b10a98e\n",
      "\tOccupancies                                       67ffa36c6cda4a88b4dce8ce2b10a98e\n",
      "\tAlarm Control Panels                              67ffa36c6cda4a88b4dce8ce2b10a98e\n",
      "\tUtility Shutoffs                                  67ffa36c6cda4a88b4dce8ce2b10a98e\n",
      "\n",
      "\n",
      "Fire Inspection_workers\n",
      "******************************************************************************************\n",
      "\tLocation Tracking                                 8462b97fc9054c5cb7b57614a2fc49af\n",
      "\tAssignments                                       f122b22635284b32b0e7c0d663a460a0\n",
      "\tWorkers                                           46fcad13aed2412d9d99052ada5968c1\n",
      "\n",
      "\n",
      "Warming and Cooling Center Manager\n",
      "******************************************************************************************\n",
      "\tWarming and Cooling Centers                       97ac50cfe2c74ba2a7e629285a762712\n",
      "\n",
      "\n",
      "Burgers and  Beer Site Map\n",
      "******************************************************************************************\n",
      "\t2017_03_24_LA_Coliseum_Orthomosaic                1b36d8b7bbcb4803b59c1fe3c49b993a\n",
      "\tCommunity Event Areas                             64ad2a3fd35341ba938d17d856212f11\n",
      "\tCommunity Event Routes                            64ad2a3fd35341ba938d17d856212f11\n",
      "\tCommunity Event Assets                            64ad2a3fd35341ba938d17d856212f11\n",
      "\n",
      "\n",
      "Fire Hydrant Inspections MB_dispatchers\n",
      "******************************************************************************************\n",
      "\tAssignments                                       4ee9a1417022401c8bb064109df9b2ac\n",
      "\tWorkers                                           f7fa8d539fa04835b8b770920391ab4f\n",
      "\tWater_Fire_Hydrant_Survey                         f671cdcede094ae8b084ff663aac754c\n",
      "\n",
      "\n",
      "Fire Inspection_dispatchers\n",
      "******************************************************************************************\n",
      "\tAssignments                                       f122b22635284b32b0e7c0d663a460a0\n",
      "\tWorkers                                           46fcad13aed2412d9d99052ada5968c1\n",
      "\n",
      "\n",
      "416 Fire Update Map\n",
      "******************************************************************************************\n",
      "\tco_416_20180709_geomac                            df5b00dd954443dc92cd600a6e6ed81a\n",
      "\tco_416_20180601_geomac                            4e3790b15d4c4e2eac7b072e2c6bd67b\n",
      "\tStructures2015_points                             f504696f5af047dc91659e6ed2cb795e\n",
      "\n",
      "\n",
      "Water Fire Hydrant Survey Map\n",
      "******************************************************************************************\n",
      "\tFire Hydrants - Inspection Due                    Water_Fire_Hydrant_Survey_4159_6108_1494\n",
      "\tFire Hydrants - Inspected                         Water_Fire_Hydrant_Survey_4159_6108\n",
      "\n",
      "\n",
      "Garden Apartments\n",
      "******************************************************************************************\n",
      "\n",
      "\n",
      "Address Field Verification\n",
      "******************************************************************************************\n",
      "\tProposed Site Addresses                           fb5dacff64cf4f5180f815d762a48063\n",
      "\tTaos Address Points and Road Centerlines - Ta     5af8f27628d14131ac6d475f14c5780c\n",
      "\tTaos Address Points and Road Centerlines - Ta     5af8f27628d14131ac6d475f14c5780c\n",
      "\n",
      "\n",
      "Fire Hydrant Inspections MB_workers\n",
      "******************************************************************************************\n",
      "\tLocation Tracking                                 5cb595b167734268ac77e05008af3b0f\n",
      "\tAssignments                                       4ee9a1417022401c8bb064109df9b2ac\n",
      "\tWorkers                                           f7fa8d539fa04835b8b770920391ab4f\n",
      "\n",
      "\n",
      "Warming and Cooling Center Locator\n",
      "******************************************************************************************\n",
      "\tWarming Centers                                   1ec77f0ba2644a80af81df8c1d29227a\n",
      "\tCooling Centers                                   1ec77f0ba2644a80af81df8c1d29227a\n",
      "\n",
      "\n",
      "Fire Hydrant Inspection Dashboard-MS\n",
      "******************************************************************************************\n",
      "\tFire Hydrants                                     ee041230d22f4996918fc4c2997b47fe\n",
      "\n",
      "\n",
      "Fire Hydrant Inspection Dashboard\n",
      "******************************************************************************************\n",
      "\tFire Hydrants                                     a5502d0ed06d43098375c9307e989fd5\n",
      "\n",
      "\n",
      "San Diego Fire Hydrant Inspection\n",
      "******************************************************************************************\n",
      "\tFire Hydrants                                     3c7c3760e345488cb99d852d54942471\n",
      "\n",
      "\n",
      "Events Site Map\n",
      "******************************************************************************************\n",
      "\t2017_03_24_LA_Coliseum_Orthomosaic                1b36d8b7bbcb4803b59c1fe3c49b993a\n",
      "\tCommunity Event Areas                             64ad2a3fd35341ba938d17d856212f11\n",
      "\tCommunity Event Routes                            64ad2a3fd35341ba938d17d856212f11\n",
      "\tCommunity Event Assets                            64ad2a3fd35341ba938d17d856212f11\n",
      "\tCommunity Event                                   adc2c30fde594fa6b565052b67bfa910\n",
      "\n",
      "\n",
      "San Diego Fire Hydrants\n",
      "******************************************************************************************\n",
      "\tFire_Hydrants                                     7341995306a74f2d9c5a9051cf0d3446\n",
      "\n",
      "\n",
      "Northwest Fire District Boundary Map\n",
      "******************************************************************************************\n",
      "\tNorthwest Fire District                           bc7ea5910dc34c0f8d86b8a9cc2f5325\n",
      "\tFire Stations                                     bc7ea5910dc34c0f8d86b8a9cc2f5325\n",
      "\n",
      "\n",
      "416 Fire Damage Assessment\n",
      "******************************************************************************************\n",
      "\tUS National Grid                                  bae606e52cfd416695bbd81d5515e78e\n",
      "\tPublic Facilities                                 bae606e52cfd416695bbd81d5515e78e\n",
      "\tResidential Buildings                             bae606e52cfd416695bbd81d5515e78e\n",
      "\tCommercial Buildings                              bae606e52cfd416695bbd81d5515e78e\n",
      "\tco_416_20180601_geomac                            4e3790b15d4c4e2eac7b072e2c6bd67b\n",
      "\tco_416_20180709_geomac                            df5b00dd954443dc92cd600a6e6ed81a\n",
      "\n",
      "\n",
      "Warming and Cooling Center Reporter\n",
      "******************************************************************************************\n",
      "\tWarming and Cooling Centers                       97ac50cfe2c74ba2a7e629285a762712\n",
      "\n",
      "\n",
      "Fire Hydrant Survey Map - MB\n",
      "******************************************************************************************\n",
      "\tFire Hydrants - Inspection Due                    Water_Fire_Hydrant_Survey_4159_6108_1494\n",
      "\tFire Hydrants - Inspected                         Water_Fire_Hydrant_Survey_4159_6108\n",
      "\n",
      "\n"
     ]
    }
   ],
   "source": [
    "for wbmap in wmaps:\n",
    "    print(\"{}\".format(wbmap.title))\n",
    "    print(\"{:*<90}\".format(\"\"))\n",
    "    raw_data = wbmap.get_data()\n",
    "    lyrs = raw_data['operationalLayers']\n",
    "    for lyr in lyrs:\n",
    "        try:\n",
    "            if 'itemId' in lyr.keys():\n",
    "                print(\"\\t{:<50}{}\".format(lyr['title'][:45], lyr['itemId']))\n",
    "            else:\n",
    "                print(\"\\t{:<50}{}\".format(lyr['title'][:45], lyr['id']))\n",
    "        except:\n",
    "            pass\n",
    "    print(\"\\n\")"
   ]
  },
  {
   "cell_type": "code",
   "execution_count": 4,
   "metadata": {},
   "outputs": [],
   "source": [
    "id_of_interest = '1b36d8b7bbcb4803b59c1fe3c49b993a'"
   ]
  },
  {
   "cell_type": "code",
   "execution_count": 5,
   "metadata": {},
   "outputs": [
    {
     "name": "stdout",
     "output_type": "stream",
     "text": [
      "Layers is in the following Web Maps:\n",
      "--------------------------------------------------\n",
      "\tBurgers and  Beer Site Map\n",
      "\tEvents Site Map\n"
     ]
    }
   ],
   "source": [
    "lyr_itm = g.content.get(id_of_interest)\n",
    "lyr = lyr_itm.layers[0]\n",
    "print(\"{} is in the following Web Maps:\".format(lyr.properties.name))\n",
    "print(\"{:-<50}\".format(\"\"))\n",
    "lyr = None\n",
    "for wm in wmaps:\n",
    "     raw_data = wm.get_data()\n",
    "     lyrs = raw_data['operationalLayers']\n",
    "     for lyr in lyrs:\n",
    "        if 'itemId' in lyr.keys() and lyr['itemId'] == id_of_interest:\n",
    "            print(\"\\t\" + wm.title)"
   ]
  },
  {
   "cell_type": "code",
   "execution_count": null,
   "metadata": {},
   "outputs": [],
   "source": []
  }
 ],
 "metadata": {
  "kernelspec": {
   "display_name": "Python 3",
   "language": "python",
   "name": "python3"
  },
  "language_info": {
   "codemirror_mode": {
    "name": "ipython",
    "version": 3
   },
   "file_extension": ".py",
   "mimetype": "text/x-python",
   "name": "python",
   "nbconvert_exporter": "python",
   "pygments_lexer": "ipython3",
   "version": "3.7.1"
  }
 },
 "nbformat": 4,
 "nbformat_minor": 2
}
