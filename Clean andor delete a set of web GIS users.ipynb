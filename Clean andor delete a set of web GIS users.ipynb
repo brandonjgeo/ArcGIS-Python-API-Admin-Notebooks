{
 "cells": [
  {
   "cell_type": "code",
   "execution_count": 1,
   "metadata": {},
   "outputs": [
    {
     "name": "stdout",
     "output_type": "stream",
     "text": [
      "Enter password: ········\n",
      "Connected to: esridenver.maps.arcgis.com\n",
      "Connected as: pgamberg@EsriDenver\n"
     ]
    }
   ],
   "source": [
    "from arcgis.gis import GIS\n",
    "import getpass\n",
    "from IPython.display import display\n",
    "\n",
    "password = getpass.getpass(\"Enter password: \")\n",
    "gis = GIS('https://esridenver.maps.arcgis.com', 'pgamberg@EsriDenver', password)\n",
    "print(\"Connected to: {}\\nConnected as: {}\".format(gis.properties.urlKey + \".\" + gis.properties.customBaseUrl,\n",
    "                                                 gis.users.me.username))"
   ]
  },
  {
   "cell_type": "markdown",
   "metadata": {},
   "source": [
    "### create a list of users"
   ]
  },
  {
   "cell_type": "code",
   "execution_count": 77,
   "metadata": {},
   "outputs": [
    {
     "name": "stdout",
     "output_type": "stream",
     "text": [
      "1  users returned\n",
      "<User username:Das_Insights>\n"
     ]
    }
   ],
   "source": [
    "users = []\n",
    "user_list = gis.users.search(\"Das_Insights\")\n",
    "\n",
    "print(len(user_list),\" users returned\")\n",
    "n = len(user_list)\n",
    "\n",
    "for u in range(n):\n",
    "    users.append(user_list[u])\n",
    "\n",
    "for u in users:\n",
    "    print(u)\n",
    "\n"
   ]
  },
  {
   "cell_type": "markdown",
   "metadata": {},
   "source": [
    "### Clean user account: delete all content and folders for a user"
   ]
  },
  {
   "cell_type": "code",
   "execution_count": 3,
   "metadata": {},
   "outputs": [],
   "source": [
    "def clean(users):\n",
    "    for user in users:\n",
    "        try:\n",
    "            display(user)\n",
    "            # Accessing users folders, delete the content\n",
    "            folders = user.folders\n",
    "            for folder in folders:\n",
    "                folder_items = user.items(folder=folder['title'])\n",
    "                for item in folder_items:\n",
    "                    related_items = item.related_items(\"Service2Service\")\n",
    "                    if len(related_items) > 0:\n",
    "                        for i in related_items:\n",
    "                            i.protect(enable=False)\n",
    "                            i.delete()\n",
    "                        remaining_items = user.items(folder=folder['title'])\n",
    "                        for remaining_item in remaining_items:\n",
    "                            if remaining_item in folder_items:\n",
    "                                folder_items.remove(remaining_item)\n",
    "                            remaining_item.protect(enable=False)\n",
    "                            remaining_item.delete()\n",
    "                    else:\n",
    "                        item.protect(enable=False)\n",
    "                        item.delete()\n",
    "                gis.content.delete_folder(folder['title'],owner=user)\n",
    "            \n",
    "            # Delete content within root folder\n",
    "            items = (user.items())\n",
    "            for item in items:\n",
    "                item.protect(enable=False)\n",
    "                item.delete()\n",
    "            \n",
    "            \n",
    "            # Delete user groups\n",
    "            try:\n",
    "                groups = user.groups\n",
    "                for group in groups:\n",
    "                    #print(group.protected)\n",
    "                    if group.owner == user.username:\n",
    "                        if group.protected==True:\n",
    "                            group.protected=False\n",
    "                        #print(group.protected)\n",
    "                        #print(\"\")\n",
    "                        group.delete()\n",
    "                    else:pass\n",
    "            except Exception as add_ex:\n",
    "                print(add_ex)\n",
    "            print(user.username,\" account has been cleared\")\n",
    "        except Exception as add_ex:\n",
    "            print(\"exception \")\n",
    "            print(add_ex)            \n",
    "        print(\"\")\n",
    "        print(\"\")\n",
    "    \n",
    "    \n"
   ]
  },
  {
   "cell_type": "code",
   "execution_count": 4,
   "metadata": {
    "scrolled": true
   },
   "outputs": [
    {
     "data": {
      "text/html": [
       "<div class=\"9item_container\" style=\"height: auto; overflow: hidden; border: 1px solid #cfcfcf; border-radius: 2px; background: #f6fafa; line-height: 1.21429em; padding: 10px;\">\n",
       "                    <div class=\"item_left\" style=\"width: 210px; float: left;\">\n",
       "                       <a href='https://esridenver.maps.arcgis.com/home/user.html?user=A_student_esridenver' target='_blank'>\n",
       "                        <img src='https://esridenver.maps.arcgis.com/home/js/arcgisonline/css/images/no-user-thumb.jpg' class=\"itemThumbnail\">\n",
       "                       </a>\n",
       "                    </div>\n",
       "\n",
       "                    <div class=\"item_right\" style=\"float: none; width: auto; overflow: hidden;\">\n",
       "                        <a href='https://esridenver.maps.arcgis.com/home/user.html?user=A_student_esridenver' target='_blank'><b>A Student</b>\n",
       "                        </a>\n",
       "                        <br/><br/><b>Bio</b>: None\n",
       "                        <br/><b>First Name</b>: A\n",
       "                        <br/><b>Last Name</b>: Student\n",
       "                        <br/><b>Username</b>: A_student_esridenver\n",
       "                        <br/><b>Joined</b>: March 16, 2017\n",
       "\n",
       "                    </div>\n",
       "                </div>\n",
       "                "
      ],
      "text/plain": [
       "<User username:A_student_esridenver>"
      ]
     },
     "metadata": {},
     "output_type": "display_data"
    },
    {
     "name": "stdout",
     "output_type": "stream",
     "text": [
      "A_student_esridenver  account has been cleared\n",
      "\n",
      "\n"
     ]
    },
    {
     "data": {
      "text/html": [
       "<div class=\"9item_container\" style=\"height: auto; overflow: hidden; border: 1px solid #cfcfcf; border-radius: 2px; background: #f6fafa; line-height: 1.21429em; padding: 10px;\">\n",
       "                    <div class=\"item_left\" style=\"width: 210px; float: left;\">\n",
       "                       <a href='https://esridenver.maps.arcgis.com/home/user.html?user=AA_student_esridenver' target='_blank'>\n",
       "                        <img src='https://esridenver.maps.arcgis.com/home/js/arcgisonline/css/images/no-user-thumb.jpg' class=\"itemThumbnail\">\n",
       "                       </a>\n",
       "                    </div>\n",
       "\n",
       "                    <div class=\"item_right\" style=\"float: none; width: auto; overflow: hidden;\">\n",
       "                        <a href='https://esridenver.maps.arcgis.com/home/user.html?user=AA_student_esridenver' target='_blank'><b>AA Student</b>\n",
       "                        </a>\n",
       "                        <br/><br/><b>Bio</b>: None\n",
       "                        <br/><b>First Name</b>: AA\n",
       "                        <br/><b>Last Name</b>: Student\n",
       "                        <br/><b>Username</b>: AA_student_esridenver\n",
       "                        <br/><b>Joined</b>: June 05, 2018\n",
       "\n",
       "                    </div>\n",
       "                </div>\n",
       "                "
      ],
      "text/plain": [
       "<User username:AA_student_esridenver>"
      ]
     },
     "metadata": {},
     "output_type": "display_data"
    },
    {
     "name": "stdout",
     "output_type": "stream",
     "text": [
      "AA_student_esridenver  account has been cleared\n",
      "\n",
      "\n"
     ]
    },
    {
     "data": {
      "text/html": [
       "<div class=\"9item_container\" style=\"height: auto; overflow: hidden; border: 1px solid #cfcfcf; border-radius: 2px; background: #f6fafa; line-height: 1.21429em; padding: 10px;\">\n",
       "                    <div class=\"item_left\" style=\"width: 210px; float: left;\">\n",
       "                       <a href='https://esridenver.maps.arcgis.com/home/user.html?user=B_student_esridenver' target='_blank'>\n",
       "                        <img src='https://esridenver.maps.arcgis.com/home/js/arcgisonline/css/images/no-user-thumb.jpg' class=\"itemThumbnail\">\n",
       "                       </a>\n",
       "                    </div>\n",
       "\n",
       "                    <div class=\"item_right\" style=\"float: none; width: auto; overflow: hidden;\">\n",
       "                        <a href='https://esridenver.maps.arcgis.com/home/user.html?user=B_student_esridenver' target='_blank'><b>B Student</b>\n",
       "                        </a>\n",
       "                        <br/><br/><b>Bio</b>: None\n",
       "                        <br/><b>First Name</b>: B\n",
       "                        <br/><b>Last Name</b>: Student\n",
       "                        <br/><b>Username</b>: B_student_esridenver\n",
       "                        <br/><b>Joined</b>: March 16, 2017\n",
       "\n",
       "                    </div>\n",
       "                </div>\n",
       "                "
      ],
      "text/plain": [
       "<User username:B_student_esridenver>"
      ]
     },
     "metadata": {},
     "output_type": "display_data"
    },
    {
     "name": "stdout",
     "output_type": "stream",
     "text": [
      "B_student_esridenver  account has been cleared\n",
      "\n",
      "\n"
     ]
    },
    {
     "data": {
      "text/html": [
       "<div class=\"9item_container\" style=\"height: auto; overflow: hidden; border: 1px solid #cfcfcf; border-radius: 2px; background: #f6fafa; line-height: 1.21429em; padding: 10px;\">\n",
       "                    <div class=\"item_left\" style=\"width: 210px; float: left;\">\n",
       "                       <a href='https://esridenver.maps.arcgis.com/home/user.html?user=BB_student_esridenver' target='_blank'>\n",
       "                        <img src='https://esridenver.maps.arcgis.com/home/js/arcgisonline/css/images/no-user-thumb.jpg' class=\"itemThumbnail\">\n",
       "                       </a>\n",
       "                    </div>\n",
       "\n",
       "                    <div class=\"item_right\" style=\"float: none; width: auto; overflow: hidden;\">\n",
       "                        <a href='https://esridenver.maps.arcgis.com/home/user.html?user=BB_student_esridenver' target='_blank'><b>BB Student</b>\n",
       "                        </a>\n",
       "                        <br/><br/><b>Bio</b>: None\n",
       "                        <br/><b>First Name</b>: BB\n",
       "                        <br/><b>Last Name</b>: Student\n",
       "                        <br/><b>Username</b>: BB_student_esridenver\n",
       "                        <br/><b>Joined</b>: June 05, 2018\n",
       "\n",
       "                    </div>\n",
       "                </div>\n",
       "                "
      ],
      "text/plain": [
       "<User username:BB_student_esridenver>"
      ]
     },
     "metadata": {},
     "output_type": "display_data"
    },
    {
     "name": "stdout",
     "output_type": "stream",
     "text": [
      "BB_student_esridenver  account has been cleared\n",
      "\n",
      "\n"
     ]
    },
    {
     "data": {
      "text/html": [
       "<div class=\"9item_container\" style=\"height: auto; overflow: hidden; border: 1px solid #cfcfcf; border-radius: 2px; background: #f6fafa; line-height: 1.21429em; padding: 10px;\">\n",
       "                    <div class=\"item_left\" style=\"width: 210px; float: left;\">\n",
       "                       <a href='https://esridenver.maps.arcgis.com/home/user.html?user=C_student_esridenver' target='_blank'>\n",
       "                        <img src='https://esridenver.maps.arcgis.com/home/js/arcgisonline/css/images/no-user-thumb.jpg' class=\"itemThumbnail\">\n",
       "                       </a>\n",
       "                    </div>\n",
       "\n",
       "                    <div class=\"item_right\" style=\"float: none; width: auto; overflow: hidden;\">\n",
       "                        <a href='https://esridenver.maps.arcgis.com/home/user.html?user=C_student_esridenver' target='_blank'><b>C Student</b>\n",
       "                        </a>\n",
       "                        <br/><br/><b>Bio</b>: None\n",
       "                        <br/><b>First Name</b>: C\n",
       "                        <br/><b>Last Name</b>: Student\n",
       "                        <br/><b>Username</b>: C_student_esridenver\n",
       "                        <br/><b>Joined</b>: March 16, 2017\n",
       "\n",
       "                    </div>\n",
       "                </div>\n",
       "                "
      ],
      "text/plain": [
       "<User username:C_student_esridenver>"
      ]
     },
     "metadata": {},
     "output_type": "display_data"
    },
    {
     "name": "stdout",
     "output_type": "stream",
     "text": [
      "C_student_esridenver  account has been cleared\n",
      "\n",
      "\n"
     ]
    },
    {
     "data": {
      "text/html": [
       "<div class=\"9item_container\" style=\"height: auto; overflow: hidden; border: 1px solid #cfcfcf; border-radius: 2px; background: #f6fafa; line-height: 1.21429em; padding: 10px;\">\n",
       "                    <div class=\"item_left\" style=\"width: 210px; float: left;\">\n",
       "                       <a href='https://esridenver.maps.arcgis.com/home/user.html?user=CC_student_esridenver' target='_blank'>\n",
       "                        <img src='https://esridenver.maps.arcgis.com/home/js/arcgisonline/css/images/no-user-thumb.jpg' class=\"itemThumbnail\">\n",
       "                       </a>\n",
       "                    </div>\n",
       "\n",
       "                    <div class=\"item_right\" style=\"float: none; width: auto; overflow: hidden;\">\n",
       "                        <a href='https://esridenver.maps.arcgis.com/home/user.html?user=CC_student_esridenver' target='_blank'><b>CC Student</b>\n",
       "                        </a>\n",
       "                        <br/><br/><b>Bio</b>: None\n",
       "                        <br/><b>First Name</b>: CC\n",
       "                        <br/><b>Last Name</b>: Student\n",
       "                        <br/><b>Username</b>: CC_student_esridenver\n",
       "                        <br/><b>Joined</b>: June 05, 2018\n",
       "\n",
       "                    </div>\n",
       "                </div>\n",
       "                "
      ],
      "text/plain": [
       "<User username:CC_student_esridenver>"
      ]
     },
     "metadata": {},
     "output_type": "display_data"
    },
    {
     "name": "stdout",
     "output_type": "stream",
     "text": [
      "CC_student_esridenver  account has been cleared\n",
      "\n",
      "\n"
     ]
    },
    {
     "data": {
      "text/html": [
       "<div class=\"9item_container\" style=\"height: auto; overflow: hidden; border: 1px solid #cfcfcf; border-radius: 2px; background: #f6fafa; line-height: 1.21429em; padding: 10px;\">\n",
       "                    <div class=\"item_left\" style=\"width: 210px; float: left;\">\n",
       "                       <a href='https://esridenver.maps.arcgis.com/home/user.html?user=D_student_esridenver' target='_blank'>\n",
       "                        <img src='https://esridenver.maps.arcgis.com/home/js/arcgisonline/css/images/no-user-thumb.jpg' class=\"itemThumbnail\">\n",
       "                       </a>\n",
       "                    </div>\n",
       "\n",
       "                    <div class=\"item_right\" style=\"float: none; width: auto; overflow: hidden;\">\n",
       "                        <a href='https://esridenver.maps.arcgis.com/home/user.html?user=D_student_esridenver' target='_blank'><b>D Student</b>\n",
       "                        </a>\n",
       "                        <br/><br/><b>Bio</b>: None\n",
       "                        <br/><b>First Name</b>: D\n",
       "                        <br/><b>Last Name</b>: Student\n",
       "                        <br/><b>Username</b>: D_student_esridenver\n",
       "                        <br/><b>Joined</b>: March 16, 2017\n",
       "\n",
       "                    </div>\n",
       "                </div>\n",
       "                "
      ],
      "text/plain": [
       "<User username:D_student_esridenver>"
      ]
     },
     "metadata": {},
     "output_type": "display_data"
    },
    {
     "name": "stdout",
     "output_type": "stream",
     "text": [
      "D_student_esridenver  account has been cleared\n",
      "\n",
      "\n"
     ]
    },
    {
     "data": {
      "text/html": [
       "<div class=\"9item_container\" style=\"height: auto; overflow: hidden; border: 1px solid #cfcfcf; border-radius: 2px; background: #f6fafa; line-height: 1.21429em; padding: 10px;\">\n",
       "                    <div class=\"item_left\" style=\"width: 210px; float: left;\">\n",
       "                       <a href='https://esridenver.maps.arcgis.com/home/user.html?user=DD_student_esridenver' target='_blank'>\n",
       "                        <img src='https://esridenver.maps.arcgis.com/home/js/arcgisonline/css/images/no-user-thumb.jpg' class=\"itemThumbnail\">\n",
       "                       </a>\n",
       "                    </div>\n",
       "\n",
       "                    <div class=\"item_right\" style=\"float: none; width: auto; overflow: hidden;\">\n",
       "                        <a href='https://esridenver.maps.arcgis.com/home/user.html?user=DD_student_esridenver' target='_blank'><b>DD Student</b>\n",
       "                        </a>\n",
       "                        <br/><br/><b>Bio</b>: None\n",
       "                        <br/><b>First Name</b>: DD\n",
       "                        <br/><b>Last Name</b>: Student\n",
       "                        <br/><b>Username</b>: DD_student_esridenver\n",
       "                        <br/><b>Joined</b>: June 05, 2018\n",
       "\n",
       "                    </div>\n",
       "                </div>\n",
       "                "
      ],
      "text/plain": [
       "<User username:DD_student_esridenver>"
      ]
     },
     "metadata": {},
     "output_type": "display_data"
    },
    {
     "name": "stdout",
     "output_type": "stream",
     "text": [
      "DD_student_esridenver  account has been cleared\n",
      "\n",
      "\n"
     ]
    },
    {
     "data": {
      "text/html": [
       "<div class=\"9item_container\" style=\"height: auto; overflow: hidden; border: 1px solid #cfcfcf; border-radius: 2px; background: #f6fafa; line-height: 1.21429em; padding: 10px;\">\n",
       "                    <div class=\"item_left\" style=\"width: 210px; float: left;\">\n",
       "                       <a href='https://esridenver.maps.arcgis.com/home/user.html?user=E_student_esridenver' target='_blank'>\n",
       "                        <img src='https://esridenver.maps.arcgis.com/home/js/arcgisonline/css/images/no-user-thumb.jpg' class=\"itemThumbnail\">\n",
       "                       </a>\n",
       "                    </div>\n",
       "\n",
       "                    <div class=\"item_right\" style=\"float: none; width: auto; overflow: hidden;\">\n",
       "                        <a href='https://esridenver.maps.arcgis.com/home/user.html?user=E_student_esridenver' target='_blank'><b>E Student</b>\n",
       "                        </a>\n",
       "                        <br/><br/><b>Bio</b>: None\n",
       "                        <br/><b>First Name</b>: E\n",
       "                        <br/><b>Last Name</b>: Student\n",
       "                        <br/><b>Username</b>: E_student_esridenver\n",
       "                        <br/><b>Joined</b>: March 16, 2017\n",
       "\n",
       "                    </div>\n",
       "                </div>\n",
       "                "
      ],
      "text/plain": [
       "<User username:E_student_esridenver>"
      ]
     },
     "metadata": {},
     "output_type": "display_data"
    },
    {
     "name": "stdout",
     "output_type": "stream",
     "text": [
      "E_student_esridenver  account has been cleared\n",
      "\n",
      "\n"
     ]
    },
    {
     "data": {
      "text/html": [
       "<div class=\"9item_container\" style=\"height: auto; overflow: hidden; border: 1px solid #cfcfcf; border-radius: 2px; background: #f6fafa; line-height: 1.21429em; padding: 10px;\">\n",
       "                    <div class=\"item_left\" style=\"width: 210px; float: left;\">\n",
       "                       <a href='https://esridenver.maps.arcgis.com/home/user.html?user=EE_student_esridenver' target='_blank'>\n",
       "                        <img src='https://esridenver.maps.arcgis.com/home/js/arcgisonline/css/images/no-user-thumb.jpg' class=\"itemThumbnail\">\n",
       "                       </a>\n",
       "                    </div>\n",
       "\n",
       "                    <div class=\"item_right\" style=\"float: none; width: auto; overflow: hidden;\">\n",
       "                        <a href='https://esridenver.maps.arcgis.com/home/user.html?user=EE_student_esridenver' target='_blank'><b>EE Student</b>\n",
       "                        </a>\n",
       "                        <br/><br/><b>Bio</b>: None\n",
       "                        <br/><b>First Name</b>: EE\n",
       "                        <br/><b>Last Name</b>: Student\n",
       "                        <br/><b>Username</b>: EE_student_esridenver\n",
       "                        <br/><b>Joined</b>: June 05, 2018\n",
       "\n",
       "                    </div>\n",
       "                </div>\n",
       "                "
      ],
      "text/plain": [
       "<User username:EE_student_esridenver>"
      ]
     },
     "metadata": {},
     "output_type": "display_data"
    },
    {
     "name": "stdout",
     "output_type": "stream",
     "text": [
      "EE_student_esridenver  account has been cleared\n",
      "\n",
      "\n"
     ]
    },
    {
     "data": {
      "text/html": [
       "<div class=\"9item_container\" style=\"height: auto; overflow: hidden; border: 1px solid #cfcfcf; border-radius: 2px; background: #f6fafa; line-height: 1.21429em; padding: 10px;\">\n",
       "                    <div class=\"item_left\" style=\"width: 210px; float: left;\">\n",
       "                       <a href='https://esridenver.maps.arcgis.com/home/user.html?user=F_student_esridenver' target='_blank'>\n",
       "                        <img src='https://esridenver.maps.arcgis.com/home/js/arcgisonline/css/images/no-user-thumb.jpg' class=\"itemThumbnail\">\n",
       "                       </a>\n",
       "                    </div>\n",
       "\n",
       "                    <div class=\"item_right\" style=\"float: none; width: auto; overflow: hidden;\">\n",
       "                        <a href='https://esridenver.maps.arcgis.com/home/user.html?user=F_student_esridenver' target='_blank'><b>F Student</b>\n",
       "                        </a>\n",
       "                        <br/><br/><b>Bio</b>: None\n",
       "                        <br/><b>First Name</b>: F\n",
       "                        <br/><b>Last Name</b>: Student\n",
       "                        <br/><b>Username</b>: F_student_esridenver\n",
       "                        <br/><b>Joined</b>: March 16, 2017\n",
       "\n",
       "                    </div>\n",
       "                </div>\n",
       "                "
      ],
      "text/plain": [
       "<User username:F_student_esridenver>"
      ]
     },
     "metadata": {},
     "output_type": "display_data"
    },
    {
     "name": "stdout",
     "output_type": "stream",
     "text": [
      "F_student_esridenver  account has been cleared\n",
      "\n",
      "\n"
     ]
    },
    {
     "data": {
      "text/html": [
       "<div class=\"9item_container\" style=\"height: auto; overflow: hidden; border: 1px solid #cfcfcf; border-radius: 2px; background: #f6fafa; line-height: 1.21429em; padding: 10px;\">\n",
       "                    <div class=\"item_left\" style=\"width: 210px; float: left;\">\n",
       "                       <a href='https://esridenver.maps.arcgis.com/home/user.html?user=FF_student_esridenver' target='_blank'>\n",
       "                        <img src='https://esridenver.maps.arcgis.com/home/js/arcgisonline/css/images/no-user-thumb.jpg' class=\"itemThumbnail\">\n",
       "                       </a>\n",
       "                    </div>\n",
       "\n",
       "                    <div class=\"item_right\" style=\"float: none; width: auto; overflow: hidden;\">\n",
       "                        <a href='https://esridenver.maps.arcgis.com/home/user.html?user=FF_student_esridenver' target='_blank'><b>FF Student</b>\n",
       "                        </a>\n",
       "                        <br/><br/><b>Bio</b>: None\n",
       "                        <br/><b>First Name</b>: FF\n",
       "                        <br/><b>Last Name</b>: Student\n",
       "                        <br/><b>Username</b>: FF_student_esridenver\n",
       "                        <br/><b>Joined</b>: June 05, 2018\n",
       "\n",
       "                    </div>\n",
       "                </div>\n",
       "                "
      ],
      "text/plain": [
       "<User username:FF_student_esridenver>"
      ]
     },
     "metadata": {},
     "output_type": "display_data"
    },
    {
     "name": "stdout",
     "output_type": "stream",
     "text": [
      "FF_student_esridenver  account has been cleared\n",
      "\n",
      "\n"
     ]
    },
    {
     "data": {
      "text/html": [
       "<div class=\"9item_container\" style=\"height: auto; overflow: hidden; border: 1px solid #cfcfcf; border-radius: 2px; background: #f6fafa; line-height: 1.21429em; padding: 10px;\">\n",
       "                    <div class=\"item_left\" style=\"width: 210px; float: left;\">\n",
       "                       <a href='https://esridenver.maps.arcgis.com/home/user.html?user=G_student_esridenver' target='_blank'>\n",
       "                        <img src='https://esridenver.maps.arcgis.com/home/js/arcgisonline/css/images/no-user-thumb.jpg' class=\"itemThumbnail\">\n",
       "                       </a>\n",
       "                    </div>\n",
       "\n",
       "                    <div class=\"item_right\" style=\"float: none; width: auto; overflow: hidden;\">\n",
       "                        <a href='https://esridenver.maps.arcgis.com/home/user.html?user=G_student_esridenver' target='_blank'><b>G Student</b>\n",
       "                        </a>\n",
       "                        <br/><br/><b>Bio</b>: None\n",
       "                        <br/><b>First Name</b>: G\n",
       "                        <br/><b>Last Name</b>: Student\n",
       "                        <br/><b>Username</b>: G_student_esridenver\n",
       "                        <br/><b>Joined</b>: March 16, 2017\n",
       "\n",
       "                    </div>\n",
       "                </div>\n",
       "                "
      ],
      "text/plain": [
       "<User username:G_student_esridenver>"
      ]
     },
     "metadata": {},
     "output_type": "display_data"
    },
    {
     "name": "stdout",
     "output_type": "stream",
     "text": [
      "G_student_esridenver  account has been cleared\n",
      "\n",
      "\n"
     ]
    },
    {
     "data": {
      "text/html": [
       "<div class=\"9item_container\" style=\"height: auto; overflow: hidden; border: 1px solid #cfcfcf; border-radius: 2px; background: #f6fafa; line-height: 1.21429em; padding: 10px;\">\n",
       "                    <div class=\"item_left\" style=\"width: 210px; float: left;\">\n",
       "                       <a href='https://esridenver.maps.arcgis.com/home/user.html?user=GG_student_esridenver' target='_blank'>\n",
       "                        <img src='https://esridenver.maps.arcgis.com/home/js/arcgisonline/css/images/no-user-thumb.jpg' class=\"itemThumbnail\">\n",
       "                       </a>\n",
       "                    </div>\n",
       "\n",
       "                    <div class=\"item_right\" style=\"float: none; width: auto; overflow: hidden;\">\n",
       "                        <a href='https://esridenver.maps.arcgis.com/home/user.html?user=GG_student_esridenver' target='_blank'><b>GG Student</b>\n",
       "                        </a>\n",
       "                        <br/><br/><b>Bio</b>: None\n",
       "                        <br/><b>First Name</b>: GG\n",
       "                        <br/><b>Last Name</b>: Student\n",
       "                        <br/><b>Username</b>: GG_student_esridenver\n",
       "                        <br/><b>Joined</b>: June 05, 2018\n",
       "\n",
       "                    </div>\n",
       "                </div>\n",
       "                "
      ],
      "text/plain": [
       "<User username:GG_student_esridenver>"
      ]
     },
     "metadata": {},
     "output_type": "display_data"
    },
    {
     "name": "stdout",
     "output_type": "stream",
     "text": [
      "GG_student_esridenver  account has been cleared\n",
      "\n",
      "\n"
     ]
    },
    {
     "data": {
      "text/html": [
       "<div class=\"9item_container\" style=\"height: auto; overflow: hidden; border: 1px solid #cfcfcf; border-radius: 2px; background: #f6fafa; line-height: 1.21429em; padding: 10px;\">\n",
       "                    <div class=\"item_left\" style=\"width: 210px; float: left;\">\n",
       "                       <a href='https://esridenver.maps.arcgis.com/home/user.html?user=H_student_esridenver' target='_blank'>\n",
       "                        <img src='https://esridenver.maps.arcgis.com/home/js/arcgisonline/css/images/no-user-thumb.jpg' class=\"itemThumbnail\">\n",
       "                       </a>\n",
       "                    </div>\n",
       "\n",
       "                    <div class=\"item_right\" style=\"float: none; width: auto; overflow: hidden;\">\n",
       "                        <a href='https://esridenver.maps.arcgis.com/home/user.html?user=H_student_esridenver' target='_blank'><b>H Student</b>\n",
       "                        </a>\n",
       "                        <br/><br/><b>Bio</b>: None\n",
       "                        <br/><b>First Name</b>: H\n",
       "                        <br/><b>Last Name</b>: Student\n",
       "                        <br/><b>Username</b>: H_student_esridenver\n",
       "                        <br/><b>Joined</b>: March 16, 2017\n",
       "\n",
       "                    </div>\n",
       "                </div>\n",
       "                "
      ],
      "text/plain": [
       "<User username:H_student_esridenver>"
      ]
     },
     "metadata": {},
     "output_type": "display_data"
    },
    {
     "name": "stdout",
     "output_type": "stream",
     "text": [
      "H_student_esridenver  account has been cleared\n",
      "\n",
      "\n"
     ]
    },
    {
     "data": {
      "text/html": [
       "<div class=\"9item_container\" style=\"height: auto; overflow: hidden; border: 1px solid #cfcfcf; border-radius: 2px; background: #f6fafa; line-height: 1.21429em; padding: 10px;\">\n",
       "                    <div class=\"item_left\" style=\"width: 210px; float: left;\">\n",
       "                       <a href='https://esridenver.maps.arcgis.com/home/user.html?user=HH_student_esridenver' target='_blank'>\n",
       "                        <img src='https://esridenver.maps.arcgis.com/home/js/arcgisonline/css/images/no-user-thumb.jpg' class=\"itemThumbnail\">\n",
       "                       </a>\n",
       "                    </div>\n",
       "\n",
       "                    <div class=\"item_right\" style=\"float: none; width: auto; overflow: hidden;\">\n",
       "                        <a href='https://esridenver.maps.arcgis.com/home/user.html?user=HH_student_esridenver' target='_blank'><b>HH Student</b>\n",
       "                        </a>\n",
       "                        <br/><br/><b>Bio</b>: None\n",
       "                        <br/><b>First Name</b>: HH\n",
       "                        <br/><b>Last Name</b>: Student\n",
       "                        <br/><b>Username</b>: HH_student_esridenver\n",
       "                        <br/><b>Joined</b>: June 05, 2018\n",
       "\n",
       "                    </div>\n",
       "                </div>\n",
       "                "
      ],
      "text/plain": [
       "<User username:HH_student_esridenver>"
      ]
     },
     "metadata": {},
     "output_type": "display_data"
    },
    {
     "name": "stdout",
     "output_type": "stream",
     "text": [
      "HH_student_esridenver  account has been cleared\n",
      "\n",
      "\n"
     ]
    },
    {
     "data": {
      "text/html": [
       "<div class=\"9item_container\" style=\"height: auto; overflow: hidden; border: 1px solid #cfcfcf; border-radius: 2px; background: #f6fafa; line-height: 1.21429em; padding: 10px;\">\n",
       "                    <div class=\"item_left\" style=\"width: 210px; float: left;\">\n",
       "                       <a href='https://esridenver.maps.arcgis.com/home/user.html?user=I_student_esridenver' target='_blank'>\n",
       "                        <img src='https://esridenver.maps.arcgis.com/home/js/arcgisonline/css/images/no-user-thumb.jpg' class=\"itemThumbnail\">\n",
       "                       </a>\n",
       "                    </div>\n",
       "\n",
       "                    <div class=\"item_right\" style=\"float: none; width: auto; overflow: hidden;\">\n",
       "                        <a href='https://esridenver.maps.arcgis.com/home/user.html?user=I_student_esridenver' target='_blank'><b>I Student</b>\n",
       "                        </a>\n",
       "                        <br/><br/><b>Bio</b>: None\n",
       "                        <br/><b>First Name</b>: I\n",
       "                        <br/><b>Last Name</b>: Student\n",
       "                        <br/><b>Username</b>: I_student_esridenver\n",
       "                        <br/><b>Joined</b>: March 16, 2017\n",
       "\n",
       "                    </div>\n",
       "                </div>\n",
       "                "
      ],
      "text/plain": [
       "<User username:I_student_esridenver>"
      ]
     },
     "metadata": {},
     "output_type": "display_data"
    },
    {
     "name": "stdout",
     "output_type": "stream",
     "text": [
      "I_student_esridenver  account has been cleared\n",
      "\n",
      "\n"
     ]
    },
    {
     "data": {
      "text/html": [
       "<div class=\"9item_container\" style=\"height: auto; overflow: hidden; border: 1px solid #cfcfcf; border-radius: 2px; background: #f6fafa; line-height: 1.21429em; padding: 10px;\">\n",
       "                    <div class=\"item_left\" style=\"width: 210px; float: left;\">\n",
       "                       <a href='https://esridenver.maps.arcgis.com/home/user.html?user=II_student_esridenver' target='_blank'>\n",
       "                        <img src='https://esridenver.maps.arcgis.com/home/js/arcgisonline/css/images/no-user-thumb.jpg' class=\"itemThumbnail\">\n",
       "                       </a>\n",
       "                    </div>\n",
       "\n",
       "                    <div class=\"item_right\" style=\"float: none; width: auto; overflow: hidden;\">\n",
       "                        <a href='https://esridenver.maps.arcgis.com/home/user.html?user=II_student_esridenver' target='_blank'><b>II Student</b>\n",
       "                        </a>\n",
       "                        <br/><br/><b>Bio</b>: None\n",
       "                        <br/><b>First Name</b>: II\n",
       "                        <br/><b>Last Name</b>: Student\n",
       "                        <br/><b>Username</b>: II_student_esridenver\n",
       "                        <br/><b>Joined</b>: June 05, 2018\n",
       "\n",
       "                    </div>\n",
       "                </div>\n",
       "                "
      ],
      "text/plain": [
       "<User username:II_student_esridenver>"
      ]
     },
     "metadata": {},
     "output_type": "display_data"
    },
    {
     "name": "stdout",
     "output_type": "stream",
     "text": [
      "II_student_esridenver  account has been cleared\n",
      "\n",
      "\n"
     ]
    },
    {
     "data": {
      "text/html": [
       "<div class=\"9item_container\" style=\"height: auto; overflow: hidden; border: 1px solid #cfcfcf; border-radius: 2px; background: #f6fafa; line-height: 1.21429em; padding: 10px;\">\n",
       "                    <div class=\"item_left\" style=\"width: 210px; float: left;\">\n",
       "                       <a href='https://esridenver.maps.arcgis.com/home/user.html?user=J_student_esridenver' target='_blank'>\n",
       "                        <img src='https://esridenver.maps.arcgis.com/home/js/arcgisonline/css/images/no-user-thumb.jpg' class=\"itemThumbnail\">\n",
       "                       </a>\n",
       "                    </div>\n",
       "\n",
       "                    <div class=\"item_right\" style=\"float: none; width: auto; overflow: hidden;\">\n",
       "                        <a href='https://esridenver.maps.arcgis.com/home/user.html?user=J_student_esridenver' target='_blank'><b>J Student</b>\n",
       "                        </a>\n",
       "                        <br/><br/><b>Bio</b>: None\n",
       "                        <br/><b>First Name</b>: J\n",
       "                        <br/><b>Last Name</b>: Student\n",
       "                        <br/><b>Username</b>: J_student_esridenver\n",
       "                        <br/><b>Joined</b>: March 16, 2017\n",
       "\n",
       "                    </div>\n",
       "                </div>\n",
       "                "
      ],
      "text/plain": [
       "<User username:J_student_esridenver>"
      ]
     },
     "metadata": {},
     "output_type": "display_data"
    },
    {
     "name": "stdout",
     "output_type": "stream",
     "text": [
      "J_student_esridenver  account has been cleared\n",
      "\n",
      "\n"
     ]
    },
    {
     "data": {
      "text/html": [
       "<div class=\"9item_container\" style=\"height: auto; overflow: hidden; border: 1px solid #cfcfcf; border-radius: 2px; background: #f6fafa; line-height: 1.21429em; padding: 10px;\">\n",
       "                    <div class=\"item_left\" style=\"width: 210px; float: left;\">\n",
       "                       <a href='https://esridenver.maps.arcgis.com/home/user.html?user=JJ_student_esridenver' target='_blank'>\n",
       "                        <img src='https://esridenver.maps.arcgis.com/home/js/arcgisonline/css/images/no-user-thumb.jpg' class=\"itemThumbnail\">\n",
       "                       </a>\n",
       "                    </div>\n",
       "\n",
       "                    <div class=\"item_right\" style=\"float: none; width: auto; overflow: hidden;\">\n",
       "                        <a href='https://esridenver.maps.arcgis.com/home/user.html?user=JJ_student_esridenver' target='_blank'><b>JJ Student</b>\n",
       "                        </a>\n",
       "                        <br/><br/><b>Bio</b>: None\n",
       "                        <br/><b>First Name</b>: JJ\n",
       "                        <br/><b>Last Name</b>: Student\n",
       "                        <br/><b>Username</b>: JJ_student_esridenver\n",
       "                        <br/><b>Joined</b>: June 05, 2018\n",
       "\n",
       "                    </div>\n",
       "                </div>\n",
       "                "
      ],
      "text/plain": [
       "<User username:JJ_student_esridenver>"
      ]
     },
     "metadata": {},
     "output_type": "display_data"
    },
    {
     "name": "stdout",
     "output_type": "stream",
     "text": [
      "JJ_student_esridenver  account has been cleared\n",
      "\n",
      "\n"
     ]
    },
    {
     "data": {
      "text/html": [
       "<div class=\"9item_container\" style=\"height: auto; overflow: hidden; border: 1px solid #cfcfcf; border-radius: 2px; background: #f6fafa; line-height: 1.21429em; padding: 10px;\">\n",
       "                    <div class=\"item_left\" style=\"width: 210px; float: left;\">\n",
       "                       <a href='https://esridenver.maps.arcgis.com/home/user.html?user=K_student_esridenver' target='_blank'>\n",
       "                        <img src='https://esridenver.maps.arcgis.com/home/js/arcgisonline/css/images/no-user-thumb.jpg' class=\"itemThumbnail\">\n",
       "                       </a>\n",
       "                    </div>\n",
       "\n",
       "                    <div class=\"item_right\" style=\"float: none; width: auto; overflow: hidden;\">\n",
       "                        <a href='https://esridenver.maps.arcgis.com/home/user.html?user=K_student_esridenver' target='_blank'><b>K Student</b>\n",
       "                        </a>\n",
       "                        <br/><br/><b>Bio</b>: None\n",
       "                        <br/><b>First Name</b>: K\n",
       "                        <br/><b>Last Name</b>: Student\n",
       "                        <br/><b>Username</b>: K_student_esridenver\n",
       "                        <br/><b>Joined</b>: March 16, 2017\n",
       "\n",
       "                    </div>\n",
       "                </div>\n",
       "                "
      ],
      "text/plain": [
       "<User username:K_student_esridenver>"
      ]
     },
     "metadata": {},
     "output_type": "display_data"
    },
    {
     "name": "stdout",
     "output_type": "stream",
     "text": [
      "K_student_esridenver  account has been cleared\n",
      "\n",
      "\n"
     ]
    },
    {
     "data": {
      "text/html": [
       "<div class=\"9item_container\" style=\"height: auto; overflow: hidden; border: 1px solid #cfcfcf; border-radius: 2px; background: #f6fafa; line-height: 1.21429em; padding: 10px;\">\n",
       "                    <div class=\"item_left\" style=\"width: 210px; float: left;\">\n",
       "                       <a href='https://esridenver.maps.arcgis.com/home/user.html?user=KK_student_esridenver' target='_blank'>\n",
       "                        <img src='https://esridenver.maps.arcgis.com/home/js/arcgisonline/css/images/no-user-thumb.jpg' class=\"itemThumbnail\">\n",
       "                       </a>\n",
       "                    </div>\n",
       "\n",
       "                    <div class=\"item_right\" style=\"float: none; width: auto; overflow: hidden;\">\n",
       "                        <a href='https://esridenver.maps.arcgis.com/home/user.html?user=KK_student_esridenver' target='_blank'><b>KK Student</b>\n",
       "                        </a>\n",
       "                        <br/><br/><b>Bio</b>: None\n",
       "                        <br/><b>First Name</b>: KK\n",
       "                        <br/><b>Last Name</b>: Student\n",
       "                        <br/><b>Username</b>: KK_student_esridenver\n",
       "                        <br/><b>Joined</b>: June 05, 2018\n",
       "\n",
       "                    </div>\n",
       "                </div>\n",
       "                "
      ],
      "text/plain": [
       "<User username:KK_student_esridenver>"
      ]
     },
     "metadata": {},
     "output_type": "display_data"
    },
    {
     "name": "stdout",
     "output_type": "stream",
     "text": [
      "KK_student_esridenver  account has been cleared\n",
      "\n",
      "\n"
     ]
    },
    {
     "data": {
      "text/html": [
       "<div class=\"9item_container\" style=\"height: auto; overflow: hidden; border: 1px solid #cfcfcf; border-radius: 2px; background: #f6fafa; line-height: 1.21429em; padding: 10px;\">\n",
       "                    <div class=\"item_left\" style=\"width: 210px; float: left;\">\n",
       "                       <a href='https://esridenver.maps.arcgis.com/home/user.html?user=L_student_esridenver' target='_blank'>\n",
       "                        <img src='https://esridenver.maps.arcgis.com/home/js/arcgisonline/css/images/no-user-thumb.jpg' class=\"itemThumbnail\">\n",
       "                       </a>\n",
       "                    </div>\n",
       "\n",
       "                    <div class=\"item_right\" style=\"float: none; width: auto; overflow: hidden;\">\n",
       "                        <a href='https://esridenver.maps.arcgis.com/home/user.html?user=L_student_esridenver' target='_blank'><b>L Student</b>\n",
       "                        </a>\n",
       "                        <br/><br/><b>Bio</b>: None\n",
       "                        <br/><b>First Name</b>: L\n",
       "                        <br/><b>Last Name</b>: Student\n",
       "                        <br/><b>Username</b>: L_student_esridenver\n",
       "                        <br/><b>Joined</b>: March 16, 2017\n",
       "\n",
       "                    </div>\n",
       "                </div>\n",
       "                "
      ],
      "text/plain": [
       "<User username:L_student_esridenver>"
      ]
     },
     "metadata": {},
     "output_type": "display_data"
    },
    {
     "name": "stdout",
     "output_type": "stream",
     "text": [
      "L_student_esridenver  account has been cleared\n",
      "\n",
      "\n"
     ]
    },
    {
     "data": {
      "text/html": [
       "<div class=\"9item_container\" style=\"height: auto; overflow: hidden; border: 1px solid #cfcfcf; border-radius: 2px; background: #f6fafa; line-height: 1.21429em; padding: 10px;\">\n",
       "                    <div class=\"item_left\" style=\"width: 210px; float: left;\">\n",
       "                       <a href='https://esridenver.maps.arcgis.com/home/user.html?user=LL_student_esridenver' target='_blank'>\n",
       "                        <img src='https://esridenver.maps.arcgis.com/home/js/arcgisonline/css/images/no-user-thumb.jpg' class=\"itemThumbnail\">\n",
       "                       </a>\n",
       "                    </div>\n",
       "\n",
       "                    <div class=\"item_right\" style=\"float: none; width: auto; overflow: hidden;\">\n",
       "                        <a href='https://esridenver.maps.arcgis.com/home/user.html?user=LL_student_esridenver' target='_blank'><b>LL Student</b>\n",
       "                        </a>\n",
       "                        <br/><br/><b>Bio</b>: None\n",
       "                        <br/><b>First Name</b>: LL\n",
       "                        <br/><b>Last Name</b>: Student\n",
       "                        <br/><b>Username</b>: LL_student_esridenver\n",
       "                        <br/><b>Joined</b>: June 05, 2018\n",
       "\n",
       "                    </div>\n",
       "                </div>\n",
       "                "
      ],
      "text/plain": [
       "<User username:LL_student_esridenver>"
      ]
     },
     "metadata": {},
     "output_type": "display_data"
    },
    {
     "name": "stdout",
     "output_type": "stream",
     "text": [
      "LL_student_esridenver  account has been cleared\n",
      "\n",
      "\n"
     ]
    },
    {
     "data": {
      "text/html": [
       "<div class=\"9item_container\" style=\"height: auto; overflow: hidden; border: 1px solid #cfcfcf; border-radius: 2px; background: #f6fafa; line-height: 1.21429em; padding: 10px;\">\n",
       "                    <div class=\"item_left\" style=\"width: 210px; float: left;\">\n",
       "                       <a href='https://esridenver.maps.arcgis.com/home/user.html?user=M_student_esridenver' target='_blank'>\n",
       "                        <img src='https://esridenver.maps.arcgis.com/home/js/arcgisonline/css/images/no-user-thumb.jpg' class=\"itemThumbnail\">\n",
       "                       </a>\n",
       "                    </div>\n",
       "\n",
       "                    <div class=\"item_right\" style=\"float: none; width: auto; overflow: hidden;\">\n",
       "                        <a href='https://esridenver.maps.arcgis.com/home/user.html?user=M_student_esridenver' target='_blank'><b>M Student</b>\n",
       "                        </a>\n",
       "                        <br/><br/><b>Bio</b>: None\n",
       "                        <br/><b>First Name</b>: M\n",
       "                        <br/><b>Last Name</b>: Student\n",
       "                        <br/><b>Username</b>: M_student_esridenver\n",
       "                        <br/><b>Joined</b>: March 16, 2017\n",
       "\n",
       "                    </div>\n",
       "                </div>\n",
       "                "
      ],
      "text/plain": [
       "<User username:M_student_esridenver>"
      ]
     },
     "metadata": {},
     "output_type": "display_data"
    },
    {
     "name": "stdout",
     "output_type": "stream",
     "text": [
      "M_student_esridenver  account has been cleared\n",
      "\n",
      "\n"
     ]
    },
    {
     "data": {
      "text/html": [
       "<div class=\"9item_container\" style=\"height: auto; overflow: hidden; border: 1px solid #cfcfcf; border-radius: 2px; background: #f6fafa; line-height: 1.21429em; padding: 10px;\">\n",
       "                    <div class=\"item_left\" style=\"width: 210px; float: left;\">\n",
       "                       <a href='https://esridenver.maps.arcgis.com/home/user.html?user=MM_student_esridenver' target='_blank'>\n",
       "                        <img src='https://esridenver.maps.arcgis.com/home/js/arcgisonline/css/images/no-user-thumb.jpg' class=\"itemThumbnail\">\n",
       "                       </a>\n",
       "                    </div>\n",
       "\n",
       "                    <div class=\"item_right\" style=\"float: none; width: auto; overflow: hidden;\">\n",
       "                        <a href='https://esridenver.maps.arcgis.com/home/user.html?user=MM_student_esridenver' target='_blank'><b>MM Student</b>\n",
       "                        </a>\n",
       "                        <br/><br/><b>Bio</b>: None\n",
       "                        <br/><b>First Name</b>: MM\n",
       "                        <br/><b>Last Name</b>: Student\n",
       "                        <br/><b>Username</b>: MM_student_esridenver\n",
       "                        <br/><b>Joined</b>: June 05, 2018\n",
       "\n",
       "                    </div>\n",
       "                </div>\n",
       "                "
      ],
      "text/plain": [
       "<User username:MM_student_esridenver>"
      ]
     },
     "metadata": {},
     "output_type": "display_data"
    },
    {
     "name": "stdout",
     "output_type": "stream",
     "text": [
      "MM_student_esridenver  account has been cleared\n",
      "\n",
      "\n"
     ]
    },
    {
     "data": {
      "text/html": [
       "<div class=\"9item_container\" style=\"height: auto; overflow: hidden; border: 1px solid #cfcfcf; border-radius: 2px; background: #f6fafa; line-height: 1.21429em; padding: 10px;\">\n",
       "                    <div class=\"item_left\" style=\"width: 210px; float: left;\">\n",
       "                       <a href='https://esridenver.maps.arcgis.com/home/user.html?user=N_student_esridenver' target='_blank'>\n",
       "                        <img src='https://esridenver.maps.arcgis.com/home/js/arcgisonline/css/images/no-user-thumb.jpg' class=\"itemThumbnail\">\n",
       "                       </a>\n",
       "                    </div>\n",
       "\n",
       "                    <div class=\"item_right\" style=\"float: none; width: auto; overflow: hidden;\">\n",
       "                        <a href='https://esridenver.maps.arcgis.com/home/user.html?user=N_student_esridenver' target='_blank'><b>N Student</b>\n",
       "                        </a>\n",
       "                        <br/><br/><b>Bio</b>: None\n",
       "                        <br/><b>First Name</b>: N\n",
       "                        <br/><b>Last Name</b>: Student\n",
       "                        <br/><b>Username</b>: N_student_esridenver\n",
       "                        <br/><b>Joined</b>: March 16, 2017\n",
       "\n",
       "                    </div>\n",
       "                </div>\n",
       "                "
      ],
      "text/plain": [
       "<User username:N_student_esridenver>"
      ]
     },
     "metadata": {},
     "output_type": "display_data"
    },
    {
     "name": "stdout",
     "output_type": "stream",
     "text": [
      "N_student_esridenver  account has been cleared\n",
      "\n",
      "\n"
     ]
    },
    {
     "data": {
      "text/html": [
       "<div class=\"9item_container\" style=\"height: auto; overflow: hidden; border: 1px solid #cfcfcf; border-radius: 2px; background: #f6fafa; line-height: 1.21429em; padding: 10px;\">\n",
       "                    <div class=\"item_left\" style=\"width: 210px; float: left;\">\n",
       "                       <a href='https://esridenver.maps.arcgis.com/home/user.html?user=NN_student_esridenver' target='_blank'>\n",
       "                        <img src='https://esridenver.maps.arcgis.com/home/js/arcgisonline/css/images/no-user-thumb.jpg' class=\"itemThumbnail\">\n",
       "                       </a>\n",
       "                    </div>\n",
       "\n",
       "                    <div class=\"item_right\" style=\"float: none; width: auto; overflow: hidden;\">\n",
       "                        <a href='https://esridenver.maps.arcgis.com/home/user.html?user=NN_student_esridenver' target='_blank'><b>NN Student</b>\n",
       "                        </a>\n",
       "                        <br/><br/><b>Bio</b>: None\n",
       "                        <br/><b>First Name</b>: NN\n",
       "                        <br/><b>Last Name</b>: Student\n",
       "                        <br/><b>Username</b>: NN_student_esridenver\n",
       "                        <br/><b>Joined</b>: June 05, 2018\n",
       "\n",
       "                    </div>\n",
       "                </div>\n",
       "                "
      ],
      "text/plain": [
       "<User username:NN_student_esridenver>"
      ]
     },
     "metadata": {},
     "output_type": "display_data"
    },
    {
     "name": "stdout",
     "output_type": "stream",
     "text": [
      "NN_student_esridenver  account has been cleared\n",
      "\n",
      "\n"
     ]
    },
    {
     "data": {
      "text/html": [
       "<div class=\"9item_container\" style=\"height: auto; overflow: hidden; border: 1px solid #cfcfcf; border-radius: 2px; background: #f6fafa; line-height: 1.21429em; padding: 10px;\">\n",
       "                    <div class=\"item_left\" style=\"width: 210px; float: left;\">\n",
       "                       <a href='https://esridenver.maps.arcgis.com/home/user.html?user=O_student_esridenver' target='_blank'>\n",
       "                        <img src='https://esridenver.maps.arcgis.com/home/js/arcgisonline/css/images/no-user-thumb.jpg' class=\"itemThumbnail\">\n",
       "                       </a>\n",
       "                    </div>\n",
       "\n",
       "                    <div class=\"item_right\" style=\"float: none; width: auto; overflow: hidden;\">\n",
       "                        <a href='https://esridenver.maps.arcgis.com/home/user.html?user=O_student_esridenver' target='_blank'><b>O Student</b>\n",
       "                        </a>\n",
       "                        <br/><br/><b>Bio</b>: None\n",
       "                        <br/><b>First Name</b>: O\n",
       "                        <br/><b>Last Name</b>: Student\n",
       "                        <br/><b>Username</b>: O_student_esridenver\n",
       "                        <br/><b>Joined</b>: March 16, 2017\n",
       "\n",
       "                    </div>\n",
       "                </div>\n",
       "                "
      ],
      "text/plain": [
       "<User username:O_student_esridenver>"
      ]
     },
     "metadata": {},
     "output_type": "display_data"
    },
    {
     "name": "stdout",
     "output_type": "stream",
     "text": [
      "O_student_esridenver  account has been cleared\n",
      "\n",
      "\n"
     ]
    },
    {
     "data": {
      "text/html": [
       "<div class=\"9item_container\" style=\"height: auto; overflow: hidden; border: 1px solid #cfcfcf; border-radius: 2px; background: #f6fafa; line-height: 1.21429em; padding: 10px;\">\n",
       "                    <div class=\"item_left\" style=\"width: 210px; float: left;\">\n",
       "                       <a href='https://esridenver.maps.arcgis.com/home/user.html?user=OO_student_esridenver' target='_blank'>\n",
       "                        <img src='https://esridenver.maps.arcgis.com/home/js/arcgisonline/css/images/no-user-thumb.jpg' class=\"itemThumbnail\">\n",
       "                       </a>\n",
       "                    </div>\n",
       "\n",
       "                    <div class=\"item_right\" style=\"float: none; width: auto; overflow: hidden;\">\n",
       "                        <a href='https://esridenver.maps.arcgis.com/home/user.html?user=OO_student_esridenver' target='_blank'><b>OO Student</b>\n",
       "                        </a>\n",
       "                        <br/><br/><b>Bio</b>: None\n",
       "                        <br/><b>First Name</b>: OO\n",
       "                        <br/><b>Last Name</b>: Student\n",
       "                        <br/><b>Username</b>: OO_student_esridenver\n",
       "                        <br/><b>Joined</b>: June 05, 2018\n",
       "\n",
       "                    </div>\n",
       "                </div>\n",
       "                "
      ],
      "text/plain": [
       "<User username:OO_student_esridenver>"
      ]
     },
     "metadata": {},
     "output_type": "display_data"
    },
    {
     "name": "stdout",
     "output_type": "stream",
     "text": [
      "OO_student_esridenver  account has been cleared\n",
      "\n",
      "\n"
     ]
    },
    {
     "data": {
      "text/html": [
       "<div class=\"9item_container\" style=\"height: auto; overflow: hidden; border: 1px solid #cfcfcf; border-radius: 2px; background: #f6fafa; line-height: 1.21429em; padding: 10px;\">\n",
       "                    <div class=\"item_left\" style=\"width: 210px; float: left;\">\n",
       "                       <a href='https://esridenver.maps.arcgis.com/home/user.html?user=P_student_esridenver' target='_blank'>\n",
       "                        <img src='https://esridenver.maps.arcgis.com/home/js/arcgisonline/css/images/no-user-thumb.jpg' class=\"itemThumbnail\">\n",
       "                       </a>\n",
       "                    </div>\n",
       "\n",
       "                    <div class=\"item_right\" style=\"float: none; width: auto; overflow: hidden;\">\n",
       "                        <a href='https://esridenver.maps.arcgis.com/home/user.html?user=P_student_esridenver' target='_blank'><b>P Student</b>\n",
       "                        </a>\n",
       "                        <br/><br/><b>Bio</b>: None\n",
       "                        <br/><b>First Name</b>: P\n",
       "                        <br/><b>Last Name</b>: Student\n",
       "                        <br/><b>Username</b>: P_student_esridenver\n",
       "                        <br/><b>Joined</b>: March 16, 2017\n",
       "\n",
       "                    </div>\n",
       "                </div>\n",
       "                "
      ],
      "text/plain": [
       "<User username:P_student_esridenver>"
      ]
     },
     "metadata": {},
     "output_type": "display_data"
    },
    {
     "name": "stdout",
     "output_type": "stream",
     "text": [
      "P_student_esridenver  account has been cleared\n",
      "\n",
      "\n"
     ]
    },
    {
     "data": {
      "text/html": [
       "<div class=\"9item_container\" style=\"height: auto; overflow: hidden; border: 1px solid #cfcfcf; border-radius: 2px; background: #f6fafa; line-height: 1.21429em; padding: 10px;\">\n",
       "                    <div class=\"item_left\" style=\"width: 210px; float: left;\">\n",
       "                       <a href='https://esridenver.maps.arcgis.com/home/user.html?user=PP_student_esridenver' target='_blank'>\n",
       "                        <img src='https://esridenver.maps.arcgis.com/home/js/arcgisonline/css/images/no-user-thumb.jpg' class=\"itemThumbnail\">\n",
       "                       </a>\n",
       "                    </div>\n",
       "\n",
       "                    <div class=\"item_right\" style=\"float: none; width: auto; overflow: hidden;\">\n",
       "                        <a href='https://esridenver.maps.arcgis.com/home/user.html?user=PP_student_esridenver' target='_blank'><b>PP Student</b>\n",
       "                        </a>\n",
       "                        <br/><br/><b>Bio</b>: None\n",
       "                        <br/><b>First Name</b>: PP\n",
       "                        <br/><b>Last Name</b>: Student\n",
       "                        <br/><b>Username</b>: PP_student_esridenver\n",
       "                        <br/><b>Joined</b>: June 05, 2018\n",
       "\n",
       "                    </div>\n",
       "                </div>\n",
       "                "
      ],
      "text/plain": [
       "<User username:PP_student_esridenver>"
      ]
     },
     "metadata": {},
     "output_type": "display_data"
    },
    {
     "name": "stdout",
     "output_type": "stream",
     "text": [
      "PP_student_esridenver  account has been cleared\n",
      "\n",
      "\n"
     ]
    },
    {
     "data": {
      "text/html": [
       "<div class=\"9item_container\" style=\"height: auto; overflow: hidden; border: 1px solid #cfcfcf; border-radius: 2px; background: #f6fafa; line-height: 1.21429em; padding: 10px;\">\n",
       "                    <div class=\"item_left\" style=\"width: 210px; float: left;\">\n",
       "                       <a href='https://esridenver.maps.arcgis.com/home/user.html?user=Q_student_esridenver' target='_blank'>\n",
       "                        <img src='https://esridenver.maps.arcgis.com/home/js/arcgisonline/css/images/no-user-thumb.jpg' class=\"itemThumbnail\">\n",
       "                       </a>\n",
       "                    </div>\n",
       "\n",
       "                    <div class=\"item_right\" style=\"float: none; width: auto; overflow: hidden;\">\n",
       "                        <a href='https://esridenver.maps.arcgis.com/home/user.html?user=Q_student_esridenver' target='_blank'><b>Q Student</b>\n",
       "                        </a>\n",
       "                        <br/><br/><b>Bio</b>: None\n",
       "                        <br/><b>First Name</b>: Q\n",
       "                        <br/><b>Last Name</b>: Student\n",
       "                        <br/><b>Username</b>: Q_student_esridenver\n",
       "                        <br/><b>Joined</b>: October 08, 2018\n",
       "\n",
       "                    </div>\n",
       "                </div>\n",
       "                "
      ],
      "text/plain": [
       "<User username:Q_student_esridenver>"
      ]
     },
     "metadata": {},
     "output_type": "display_data"
    },
    {
     "name": "stdout",
     "output_type": "stream",
     "text": [
      "Q_student_esridenver  account has been cleared\n",
      "\n",
      "\n"
     ]
    },
    {
     "data": {
      "text/html": [
       "<div class=\"9item_container\" style=\"height: auto; overflow: hidden; border: 1px solid #cfcfcf; border-radius: 2px; background: #f6fafa; line-height: 1.21429em; padding: 10px;\">\n",
       "                    <div class=\"item_left\" style=\"width: 210px; float: left;\">\n",
       "                       <a href='https://esridenver.maps.arcgis.com/home/user.html?user=QQ_student_esridenver' target='_blank'>\n",
       "                        <img src='https://esridenver.maps.arcgis.com/home/js/arcgisonline/css/images/no-user-thumb.jpg' class=\"itemThumbnail\">\n",
       "                       </a>\n",
       "                    </div>\n",
       "\n",
       "                    <div class=\"item_right\" style=\"float: none; width: auto; overflow: hidden;\">\n",
       "                        <a href='https://esridenver.maps.arcgis.com/home/user.html?user=QQ_student_esridenver' target='_blank'><b>QQ Student</b>\n",
       "                        </a>\n",
       "                        <br/><br/><b>Bio</b>: None\n",
       "                        <br/><b>First Name</b>: QQ\n",
       "                        <br/><b>Last Name</b>: Student\n",
       "                        <br/><b>Username</b>: QQ_student_esridenver\n",
       "                        <br/><b>Joined</b>: June 05, 2018\n",
       "\n",
       "                    </div>\n",
       "                </div>\n",
       "                "
      ],
      "text/plain": [
       "<User username:QQ_student_esridenver>"
      ]
     },
     "metadata": {},
     "output_type": "display_data"
    },
    {
     "name": "stdout",
     "output_type": "stream",
     "text": [
      "QQ_student_esridenver  account has been cleared\n",
      "\n",
      "\n"
     ]
    },
    {
     "data": {
      "text/html": [
       "<div class=\"9item_container\" style=\"height: auto; overflow: hidden; border: 1px solid #cfcfcf; border-radius: 2px; background: #f6fafa; line-height: 1.21429em; padding: 10px;\">\n",
       "                    <div class=\"item_left\" style=\"width: 210px; float: left;\">\n",
       "                       <a href='https://esridenver.maps.arcgis.com/home/user.html?user=R_student_esridenver' target='_blank'>\n",
       "                        <img src='https://esridenver.maps.arcgis.com/home/js/arcgisonline/css/images/no-user-thumb.jpg' class=\"itemThumbnail\">\n",
       "                       </a>\n",
       "                    </div>\n",
       "\n",
       "                    <div class=\"item_right\" style=\"float: none; width: auto; overflow: hidden;\">\n",
       "                        <a href='https://esridenver.maps.arcgis.com/home/user.html?user=R_student_esridenver' target='_blank'><b>R Student</b>\n",
       "                        </a>\n",
       "                        <br/><br/><b>Bio</b>: None\n",
       "                        <br/><b>First Name</b>: R\n",
       "                        <br/><b>Last Name</b>: Student\n",
       "                        <br/><b>Username</b>: R_student_esridenver\n",
       "                        <br/><b>Joined</b>: October 08, 2018\n",
       "\n",
       "                    </div>\n",
       "                </div>\n",
       "                "
      ],
      "text/plain": [
       "<User username:R_student_esridenver>"
      ]
     },
     "metadata": {},
     "output_type": "display_data"
    },
    {
     "name": "stdout",
     "output_type": "stream",
     "text": [
      "R_student_esridenver  account has been cleared\n",
      "\n",
      "\n"
     ]
    },
    {
     "data": {
      "text/html": [
       "<div class=\"9item_container\" style=\"height: auto; overflow: hidden; border: 1px solid #cfcfcf; border-radius: 2px; background: #f6fafa; line-height: 1.21429em; padding: 10px;\">\n",
       "                    <div class=\"item_left\" style=\"width: 210px; float: left;\">\n",
       "                       <a href='https://esridenver.maps.arcgis.com/home/user.html?user=RR_student_esridenver' target='_blank'>\n",
       "                        <img src='https://esridenver.maps.arcgis.com/home/js/arcgisonline/css/images/no-user-thumb.jpg' class=\"itemThumbnail\">\n",
       "                       </a>\n",
       "                    </div>\n",
       "\n",
       "                    <div class=\"item_right\" style=\"float: none; width: auto; overflow: hidden;\">\n",
       "                        <a href='https://esridenver.maps.arcgis.com/home/user.html?user=RR_student_esridenver' target='_blank'><b>RR Student</b>\n",
       "                        </a>\n",
       "                        <br/><br/><b>Bio</b>: None\n",
       "                        <br/><b>First Name</b>: RR\n",
       "                        <br/><b>Last Name</b>: Student\n",
       "                        <br/><b>Username</b>: RR_student_esridenver\n",
       "                        <br/><b>Joined</b>: June 05, 2018\n",
       "\n",
       "                    </div>\n",
       "                </div>\n",
       "                "
      ],
      "text/plain": [
       "<User username:RR_student_esridenver>"
      ]
     },
     "metadata": {},
     "output_type": "display_data"
    },
    {
     "name": "stdout",
     "output_type": "stream",
     "text": [
      "RR_student_esridenver  account has been cleared\n",
      "\n",
      "\n"
     ]
    },
    {
     "data": {
      "text/html": [
       "<div class=\"9item_container\" style=\"height: auto; overflow: hidden; border: 1px solid #cfcfcf; border-radius: 2px; background: #f6fafa; line-height: 1.21429em; padding: 10px;\">\n",
       "                    <div class=\"item_left\" style=\"width: 210px; float: left;\">\n",
       "                       <a href='https://esridenver.maps.arcgis.com/home/user.html?user=S_student_esridenver' target='_blank'>\n",
       "                        <img src='https://esridenver.maps.arcgis.com/home/js/arcgisonline/css/images/no-user-thumb.jpg' class=\"itemThumbnail\">\n",
       "                       </a>\n",
       "                    </div>\n",
       "\n",
       "                    <div class=\"item_right\" style=\"float: none; width: auto; overflow: hidden;\">\n",
       "                        <a href='https://esridenver.maps.arcgis.com/home/user.html?user=S_student_esridenver' target='_blank'><b>S Student</b>\n",
       "                        </a>\n",
       "                        <br/><br/><b>Bio</b>: None\n",
       "                        <br/><b>First Name</b>: S\n",
       "                        <br/><b>Last Name</b>: Student\n",
       "                        <br/><b>Username</b>: S_student_esridenver\n",
       "                        <br/><b>Joined</b>: October 08, 2018\n",
       "\n",
       "                    </div>\n",
       "                </div>\n",
       "                "
      ],
      "text/plain": [
       "<User username:S_student_esridenver>"
      ]
     },
     "metadata": {},
     "output_type": "display_data"
    },
    {
     "name": "stdout",
     "output_type": "stream",
     "text": [
      "S_student_esridenver  account has been cleared\n",
      "\n",
      "\n"
     ]
    },
    {
     "data": {
      "text/html": [
       "<div class=\"9item_container\" style=\"height: auto; overflow: hidden; border: 1px solid #cfcfcf; border-radius: 2px; background: #f6fafa; line-height: 1.21429em; padding: 10px;\">\n",
       "                    <div class=\"item_left\" style=\"width: 210px; float: left;\">\n",
       "                       <a href='https://esridenver.maps.arcgis.com/home/user.html?user=SS_student_esridenver' target='_blank'>\n",
       "                        <img src='https://esridenver.maps.arcgis.com/home/js/arcgisonline/css/images/no-user-thumb.jpg' class=\"itemThumbnail\">\n",
       "                       </a>\n",
       "                    </div>\n",
       "\n",
       "                    <div class=\"item_right\" style=\"float: none; width: auto; overflow: hidden;\">\n",
       "                        <a href='https://esridenver.maps.arcgis.com/home/user.html?user=SS_student_esridenver' target='_blank'><b>SS Student</b>\n",
       "                        </a>\n",
       "                        <br/><br/><b>Bio</b>: None\n",
       "                        <br/><b>First Name</b>: SS\n",
       "                        <br/><b>Last Name</b>: Student\n",
       "                        <br/><b>Username</b>: SS_student_esridenver\n",
       "                        <br/><b>Joined</b>: June 05, 2018\n",
       "\n",
       "                    </div>\n",
       "                </div>\n",
       "                "
      ],
      "text/plain": [
       "<User username:SS_student_esridenver>"
      ]
     },
     "metadata": {},
     "output_type": "display_data"
    },
    {
     "name": "stdout",
     "output_type": "stream",
     "text": [
      "SS_student_esridenver  account has been cleared\n",
      "\n",
      "\n"
     ]
    },
    {
     "data": {
      "text/html": [
       "<div class=\"9item_container\" style=\"height: auto; overflow: hidden; border: 1px solid #cfcfcf; border-radius: 2px; background: #f6fafa; line-height: 1.21429em; padding: 10px;\">\n",
       "                    <div class=\"item_left\" style=\"width: 210px; float: left;\">\n",
       "                       <a href='https://esridenver.maps.arcgis.com/home/user.html?user=T_student_esridenver' target='_blank'>\n",
       "                        <img src='https://esridenver.maps.arcgis.com/home/js/arcgisonline/css/images/no-user-thumb.jpg' class=\"itemThumbnail\">\n",
       "                       </a>\n",
       "                    </div>\n",
       "\n",
       "                    <div class=\"item_right\" style=\"float: none; width: auto; overflow: hidden;\">\n",
       "                        <a href='https://esridenver.maps.arcgis.com/home/user.html?user=T_student_esridenver' target='_blank'><b>T Student</b>\n",
       "                        </a>\n",
       "                        <br/><br/><b>Bio</b>: None\n",
       "                        <br/><b>First Name</b>: T\n",
       "                        <br/><b>Last Name</b>: Student\n",
       "                        <br/><b>Username</b>: T_student_esridenver\n",
       "                        <br/><b>Joined</b>: October 08, 2018\n",
       "\n",
       "                    </div>\n",
       "                </div>\n",
       "                "
      ],
      "text/plain": [
       "<User username:T_student_esridenver>"
      ]
     },
     "metadata": {},
     "output_type": "display_data"
    },
    {
     "name": "stdout",
     "output_type": "stream",
     "text": [
      "T_student_esridenver  account has been cleared\n",
      "\n",
      "\n"
     ]
    },
    {
     "data": {
      "text/html": [
       "<div class=\"9item_container\" style=\"height: auto; overflow: hidden; border: 1px solid #cfcfcf; border-radius: 2px; background: #f6fafa; line-height: 1.21429em; padding: 10px;\">\n",
       "                    <div class=\"item_left\" style=\"width: 210px; float: left;\">\n",
       "                       <a href='https://esridenver.maps.arcgis.com/home/user.html?user=TT_student_esridenver' target='_blank'>\n",
       "                        <img src='https://esridenver.maps.arcgis.com/home/js/arcgisonline/css/images/no-user-thumb.jpg' class=\"itemThumbnail\">\n",
       "                       </a>\n",
       "                    </div>\n",
       "\n",
       "                    <div class=\"item_right\" style=\"float: none; width: auto; overflow: hidden;\">\n",
       "                        <a href='https://esridenver.maps.arcgis.com/home/user.html?user=TT_student_esridenver' target='_blank'><b>TT Student</b>\n",
       "                        </a>\n",
       "                        <br/><br/><b>Bio</b>: None\n",
       "                        <br/><b>First Name</b>: TT\n",
       "                        <br/><b>Last Name</b>: Student\n",
       "                        <br/><b>Username</b>: TT_student_esridenver\n",
       "                        <br/><b>Joined</b>: June 05, 2018\n",
       "\n",
       "                    </div>\n",
       "                </div>\n",
       "                "
      ],
      "text/plain": [
       "<User username:TT_student_esridenver>"
      ]
     },
     "metadata": {},
     "output_type": "display_data"
    },
    {
     "name": "stdout",
     "output_type": "stream",
     "text": [
      "TT_student_esridenver  account has been cleared\n",
      "\n",
      "\n"
     ]
    },
    {
     "data": {
      "text/html": [
       "<div class=\"9item_container\" style=\"height: auto; overflow: hidden; border: 1px solid #cfcfcf; border-radius: 2px; background: #f6fafa; line-height: 1.21429em; padding: 10px;\">\n",
       "                    <div class=\"item_left\" style=\"width: 210px; float: left;\">\n",
       "                       <a href='https://esridenver.maps.arcgis.com/home/user.html?user=U_student_esridenver' target='_blank'>\n",
       "                        <img src='https://esridenver.maps.arcgis.com/home/js/arcgisonline/css/images/no-user-thumb.jpg' class=\"itemThumbnail\">\n",
       "                       </a>\n",
       "                    </div>\n",
       "\n",
       "                    <div class=\"item_right\" style=\"float: none; width: auto; overflow: hidden;\">\n",
       "                        <a href='https://esridenver.maps.arcgis.com/home/user.html?user=U_student_esridenver' target='_blank'><b>U Student</b>\n",
       "                        </a>\n",
       "                        <br/><br/><b>Bio</b>: None\n",
       "                        <br/><b>First Name</b>: U\n",
       "                        <br/><b>Last Name</b>: Student\n",
       "                        <br/><b>Username</b>: U_student_esridenver\n",
       "                        <br/><b>Joined</b>: March 16, 2017\n",
       "\n",
       "                    </div>\n",
       "                </div>\n",
       "                "
      ],
      "text/plain": [
       "<User username:U_student_esridenver>"
      ]
     },
     "metadata": {},
     "output_type": "display_data"
    },
    {
     "name": "stdout",
     "output_type": "stream",
     "text": [
      "U_student_esridenver  account has been cleared\n",
      "\n",
      "\n"
     ]
    },
    {
     "data": {
      "text/html": [
       "<div class=\"9item_container\" style=\"height: auto; overflow: hidden; border: 1px solid #cfcfcf; border-radius: 2px; background: #f6fafa; line-height: 1.21429em; padding: 10px;\">\n",
       "                    <div class=\"item_left\" style=\"width: 210px; float: left;\">\n",
       "                       <a href='https://esridenver.maps.arcgis.com/home/user.html?user=UU_student_esridenver' target='_blank'>\n",
       "                        <img src='https://esridenver.maps.arcgis.com/home/js/arcgisonline/css/images/no-user-thumb.jpg' class=\"itemThumbnail\">\n",
       "                       </a>\n",
       "                    </div>\n",
       "\n",
       "                    <div class=\"item_right\" style=\"float: none; width: auto; overflow: hidden;\">\n",
       "                        <a href='https://esridenver.maps.arcgis.com/home/user.html?user=UU_student_esridenver' target='_blank'><b>UU Student</b>\n",
       "                        </a>\n",
       "                        <br/><br/><b>Bio</b>: None\n",
       "                        <br/><b>First Name</b>: UU\n",
       "                        <br/><b>Last Name</b>: Student\n",
       "                        <br/><b>Username</b>: UU_student_esridenver\n",
       "                        <br/><b>Joined</b>: June 05, 2018\n",
       "\n",
       "                    </div>\n",
       "                </div>\n",
       "                "
      ],
      "text/plain": [
       "<User username:UU_student_esridenver>"
      ]
     },
     "metadata": {},
     "output_type": "display_data"
    },
    {
     "name": "stdout",
     "output_type": "stream",
     "text": [
      "UU_student_esridenver  account has been cleared\n",
      "\n",
      "\n"
     ]
    },
    {
     "data": {
      "text/html": [
       "<div class=\"9item_container\" style=\"height: auto; overflow: hidden; border: 1px solid #cfcfcf; border-radius: 2px; background: #f6fafa; line-height: 1.21429em; padding: 10px;\">\n",
       "                    <div class=\"item_left\" style=\"width: 210px; float: left;\">\n",
       "                       <a href='https://esridenver.maps.arcgis.com/home/user.html?user=V_student_esridenver' target='_blank'>\n",
       "                        <img src='https://esridenver.maps.arcgis.com/home/js/arcgisonline/css/images/no-user-thumb.jpg' class=\"itemThumbnail\">\n",
       "                       </a>\n",
       "                    </div>\n",
       "\n",
       "                    <div class=\"item_right\" style=\"float: none; width: auto; overflow: hidden;\">\n",
       "                        <a href='https://esridenver.maps.arcgis.com/home/user.html?user=V_student_esridenver' target='_blank'><b>V Student</b>\n",
       "                        </a>\n",
       "                        <br/><br/><b>Bio</b>: None\n",
       "                        <br/><b>First Name</b>: V\n",
       "                        <br/><b>Last Name</b>: Student\n",
       "                        <br/><b>Username</b>: V_student_esridenver\n",
       "                        <br/><b>Joined</b>: March 16, 2017\n",
       "\n",
       "                    </div>\n",
       "                </div>\n",
       "                "
      ],
      "text/plain": [
       "<User username:V_student_esridenver>"
      ]
     },
     "metadata": {},
     "output_type": "display_data"
    },
    {
     "name": "stdout",
     "output_type": "stream",
     "text": [
      "V_student_esridenver  account has been cleared\n",
      "\n",
      "\n"
     ]
    },
    {
     "data": {
      "text/html": [
       "<div class=\"9item_container\" style=\"height: auto; overflow: hidden; border: 1px solid #cfcfcf; border-radius: 2px; background: #f6fafa; line-height: 1.21429em; padding: 10px;\">\n",
       "                    <div class=\"item_left\" style=\"width: 210px; float: left;\">\n",
       "                       <a href='https://esridenver.maps.arcgis.com/home/user.html?user=VV_student_esridenver' target='_blank'>\n",
       "                        <img src='https://esridenver.maps.arcgis.com/home/js/arcgisonline/css/images/no-user-thumb.jpg' class=\"itemThumbnail\">\n",
       "                       </a>\n",
       "                    </div>\n",
       "\n",
       "                    <div class=\"item_right\" style=\"float: none; width: auto; overflow: hidden;\">\n",
       "                        <a href='https://esridenver.maps.arcgis.com/home/user.html?user=VV_student_esridenver' target='_blank'><b>VV Student</b>\n",
       "                        </a>\n",
       "                        <br/><br/><b>Bio</b>: None\n",
       "                        <br/><b>First Name</b>: VV\n",
       "                        <br/><b>Last Name</b>: Student\n",
       "                        <br/><b>Username</b>: VV_student_esridenver\n",
       "                        <br/><b>Joined</b>: June 05, 2018\n",
       "\n",
       "                    </div>\n",
       "                </div>\n",
       "                "
      ],
      "text/plain": [
       "<User username:VV_student_esridenver>"
      ]
     },
     "metadata": {},
     "output_type": "display_data"
    },
    {
     "name": "stdout",
     "output_type": "stream",
     "text": [
      "VV_student_esridenver  account has been cleared\n",
      "\n",
      "\n"
     ]
    },
    {
     "data": {
      "text/html": [
       "<div class=\"9item_container\" style=\"height: auto; overflow: hidden; border: 1px solid #cfcfcf; border-radius: 2px; background: #f6fafa; line-height: 1.21429em; padding: 10px;\">\n",
       "                    <div class=\"item_left\" style=\"width: 210px; float: left;\">\n",
       "                       <a href='https://esridenver.maps.arcgis.com/home/user.html?user=W_student_esridenver' target='_blank'>\n",
       "                        <img src='https://esridenver.maps.arcgis.com/home/js/arcgisonline/css/images/no-user-thumb.jpg' class=\"itemThumbnail\">\n",
       "                       </a>\n",
       "                    </div>\n",
       "\n",
       "                    <div class=\"item_right\" style=\"float: none; width: auto; overflow: hidden;\">\n",
       "                        <a href='https://esridenver.maps.arcgis.com/home/user.html?user=W_student_esridenver' target='_blank'><b>W Student</b>\n",
       "                        </a>\n",
       "                        <br/><br/><b>Bio</b>: None\n",
       "                        <br/><b>First Name</b>: W\n",
       "                        <br/><b>Last Name</b>: Student\n",
       "                        <br/><b>Username</b>: W_student_esridenver\n",
       "                        <br/><b>Joined</b>: March 16, 2017\n",
       "\n",
       "                    </div>\n",
       "                </div>\n",
       "                "
      ],
      "text/plain": [
       "<User username:W_student_esridenver>"
      ]
     },
     "metadata": {},
     "output_type": "display_data"
    },
    {
     "name": "stdout",
     "output_type": "stream",
     "text": [
      "W_student_esridenver  account has been cleared\n",
      "\n",
      "\n"
     ]
    },
    {
     "data": {
      "text/html": [
       "<div class=\"9item_container\" style=\"height: auto; overflow: hidden; border: 1px solid #cfcfcf; border-radius: 2px; background: #f6fafa; line-height: 1.21429em; padding: 10px;\">\n",
       "                    <div class=\"item_left\" style=\"width: 210px; float: left;\">\n",
       "                       <a href='https://esridenver.maps.arcgis.com/home/user.html?user=WW_student_esridenver' target='_blank'>\n",
       "                        <img src='https://esridenver.maps.arcgis.com/home/js/arcgisonline/css/images/no-user-thumb.jpg' class=\"itemThumbnail\">\n",
       "                       </a>\n",
       "                    </div>\n",
       "\n",
       "                    <div class=\"item_right\" style=\"float: none; width: auto; overflow: hidden;\">\n",
       "                        <a href='https://esridenver.maps.arcgis.com/home/user.html?user=WW_student_esridenver' target='_blank'><b>WW Student</b>\n",
       "                        </a>\n",
       "                        <br/><br/><b>Bio</b>: None\n",
       "                        <br/><b>First Name</b>: WW\n",
       "                        <br/><b>Last Name</b>: Student\n",
       "                        <br/><b>Username</b>: WW_student_esridenver\n",
       "                        <br/><b>Joined</b>: June 05, 2018\n",
       "\n",
       "                    </div>\n",
       "                </div>\n",
       "                "
      ],
      "text/plain": [
       "<User username:WW_student_esridenver>"
      ]
     },
     "metadata": {},
     "output_type": "display_data"
    },
    {
     "name": "stdout",
     "output_type": "stream",
     "text": [
      "WW_student_esridenver  account has been cleared\n",
      "\n",
      "\n"
     ]
    },
    {
     "data": {
      "text/html": [
       "<div class=\"9item_container\" style=\"height: auto; overflow: hidden; border: 1px solid #cfcfcf; border-radius: 2px; background: #f6fafa; line-height: 1.21429em; padding: 10px;\">\n",
       "                    <div class=\"item_left\" style=\"width: 210px; float: left;\">\n",
       "                       <a href='https://esridenver.maps.arcgis.com/home/user.html?user=X_student_esridenver' target='_blank'>\n",
       "                        <img src='https://esridenver.maps.arcgis.com/home/js/arcgisonline/css/images/no-user-thumb.jpg' class=\"itemThumbnail\">\n",
       "                       </a>\n",
       "                    </div>\n",
       "\n",
       "                    <div class=\"item_right\" style=\"float: none; width: auto; overflow: hidden;\">\n",
       "                        <a href='https://esridenver.maps.arcgis.com/home/user.html?user=X_student_esridenver' target='_blank'><b>X Student</b>\n",
       "                        </a>\n",
       "                        <br/><br/><b>Bio</b>: None\n",
       "                        <br/><b>First Name</b>: X\n",
       "                        <br/><b>Last Name</b>: Student\n",
       "                        <br/><b>Username</b>: X_student_esridenver\n",
       "                        <br/><b>Joined</b>: March 16, 2017\n",
       "\n",
       "                    </div>\n",
       "                </div>\n",
       "                "
      ],
      "text/plain": [
       "<User username:X_student_esridenver>"
      ]
     },
     "metadata": {},
     "output_type": "display_data"
    },
    {
     "name": "stdout",
     "output_type": "stream",
     "text": [
      "X_student_esridenver  account has been cleared\n",
      "\n",
      "\n"
     ]
    },
    {
     "data": {
      "text/html": [
       "<div class=\"9item_container\" style=\"height: auto; overflow: hidden; border: 1px solid #cfcfcf; border-radius: 2px; background: #f6fafa; line-height: 1.21429em; padding: 10px;\">\n",
       "                    <div class=\"item_left\" style=\"width: 210px; float: left;\">\n",
       "                       <a href='https://esridenver.maps.arcgis.com/home/user.html?user=XX_student_esridenver' target='_blank'>\n",
       "                        <img src='https://esridenver.maps.arcgis.com/home/js/arcgisonline/css/images/no-user-thumb.jpg' class=\"itemThumbnail\">\n",
       "                       </a>\n",
       "                    </div>\n",
       "\n",
       "                    <div class=\"item_right\" style=\"float: none; width: auto; overflow: hidden;\">\n",
       "                        <a href='https://esridenver.maps.arcgis.com/home/user.html?user=XX_student_esridenver' target='_blank'><b>XX Student</b>\n",
       "                        </a>\n",
       "                        <br/><br/><b>Bio</b>: None\n",
       "                        <br/><b>First Name</b>: XX\n",
       "                        <br/><b>Last Name</b>: Student\n",
       "                        <br/><b>Username</b>: XX_student_esridenver\n",
       "                        <br/><b>Joined</b>: June 05, 2018\n",
       "\n",
       "                    </div>\n",
       "                </div>\n",
       "                "
      ],
      "text/plain": [
       "<User username:XX_student_esridenver>"
      ]
     },
     "metadata": {},
     "output_type": "display_data"
    },
    {
     "name": "stdout",
     "output_type": "stream",
     "text": [
      "XX_student_esridenver  account has been cleared\n",
      "\n",
      "\n"
     ]
    },
    {
     "data": {
      "text/html": [
       "<div class=\"9item_container\" style=\"height: auto; overflow: hidden; border: 1px solid #cfcfcf; border-radius: 2px; background: #f6fafa; line-height: 1.21429em; padding: 10px;\">\n",
       "                    <div class=\"item_left\" style=\"width: 210px; float: left;\">\n",
       "                       <a href='https://esridenver.maps.arcgis.com/home/user.html?user=Y_student_esridenver' target='_blank'>\n",
       "                        <img src='https://esridenver.maps.arcgis.com/home/js/arcgisonline/css/images/no-user-thumb.jpg' class=\"itemThumbnail\">\n",
       "                       </a>\n",
       "                    </div>\n",
       "\n",
       "                    <div class=\"item_right\" style=\"float: none; width: auto; overflow: hidden;\">\n",
       "                        <a href='https://esridenver.maps.arcgis.com/home/user.html?user=Y_student_esridenver' target='_blank'><b>Y Student</b>\n",
       "                        </a>\n",
       "                        <br/><br/><b>Bio</b>: None\n",
       "                        <br/><b>First Name</b>: Y\n",
       "                        <br/><b>Last Name</b>: Student\n",
       "                        <br/><b>Username</b>: Y_student_esridenver\n",
       "                        <br/><b>Joined</b>: March 16, 2017\n",
       "\n",
       "                    </div>\n",
       "                </div>\n",
       "                "
      ],
      "text/plain": [
       "<User username:Y_student_esridenver>"
      ]
     },
     "metadata": {},
     "output_type": "display_data"
    },
    {
     "name": "stdout",
     "output_type": "stream",
     "text": [
      "Y_student_esridenver  account has been cleared\n",
      "\n",
      "\n"
     ]
    },
    {
     "data": {
      "text/html": [
       "<div class=\"9item_container\" style=\"height: auto; overflow: hidden; border: 1px solid #cfcfcf; border-radius: 2px; background: #f6fafa; line-height: 1.21429em; padding: 10px;\">\n",
       "                    <div class=\"item_left\" style=\"width: 210px; float: left;\">\n",
       "                       <a href='https://esridenver.maps.arcgis.com/home/user.html?user=YY_student_esridenver' target='_blank'>\n",
       "                        <img src='https://esridenver.maps.arcgis.com/home/js/arcgisonline/css/images/no-user-thumb.jpg' class=\"itemThumbnail\">\n",
       "                       </a>\n",
       "                    </div>\n",
       "\n",
       "                    <div class=\"item_right\" style=\"float: none; width: auto; overflow: hidden;\">\n",
       "                        <a href='https://esridenver.maps.arcgis.com/home/user.html?user=YY_student_esridenver' target='_blank'><b>YY Student</b>\n",
       "                        </a>\n",
       "                        <br/><br/><b>Bio</b>: None\n",
       "                        <br/><b>First Name</b>: YY\n",
       "                        <br/><b>Last Name</b>: Student\n",
       "                        <br/><b>Username</b>: YY_student_esridenver\n",
       "                        <br/><b>Joined</b>: June 05, 2018\n",
       "\n",
       "                    </div>\n",
       "                </div>\n",
       "                "
      ],
      "text/plain": [
       "<User username:YY_student_esridenver>"
      ]
     },
     "metadata": {},
     "output_type": "display_data"
    },
    {
     "name": "stdout",
     "output_type": "stream",
     "text": [
      "YY_student_esridenver  account has been cleared\n",
      "\n",
      "\n"
     ]
    },
    {
     "data": {
      "text/html": [
       "<div class=\"9item_container\" style=\"height: auto; overflow: hidden; border: 1px solid #cfcfcf; border-radius: 2px; background: #f6fafa; line-height: 1.21429em; padding: 10px;\">\n",
       "                    <div class=\"item_left\" style=\"width: 210px; float: left;\">\n",
       "                       <a href='https://esridenver.maps.arcgis.com/home/user.html?user=Z_student_esridenver' target='_blank'>\n",
       "                        <img src='https://esridenver.maps.arcgis.com/home/js/arcgisonline/css/images/no-user-thumb.jpg' class=\"itemThumbnail\">\n",
       "                       </a>\n",
       "                    </div>\n",
       "\n",
       "                    <div class=\"item_right\" style=\"float: none; width: auto; overflow: hidden;\">\n",
       "                        <a href='https://esridenver.maps.arcgis.com/home/user.html?user=Z_student_esridenver' target='_blank'><b>Z Student</b>\n",
       "                        </a>\n",
       "                        <br/><br/><b>Bio</b>: None\n",
       "                        <br/><b>First Name</b>: Z\n",
       "                        <br/><b>Last Name</b>: Student\n",
       "                        <br/><b>Username</b>: Z_student_esridenver\n",
       "                        <br/><b>Joined</b>: March 16, 2017\n",
       "\n",
       "                    </div>\n",
       "                </div>\n",
       "                "
      ],
      "text/plain": [
       "<User username:Z_student_esridenver>"
      ]
     },
     "metadata": {},
     "output_type": "display_data"
    },
    {
     "name": "stdout",
     "output_type": "stream",
     "text": [
      "Z_student_esridenver  account has been cleared\n",
      "\n",
      "\n"
     ]
    },
    {
     "data": {
      "text/html": [
       "<div class=\"9item_container\" style=\"height: auto; overflow: hidden; border: 1px solid #cfcfcf; border-radius: 2px; background: #f6fafa; line-height: 1.21429em; padding: 10px;\">\n",
       "                    <div class=\"item_left\" style=\"width: 210px; float: left;\">\n",
       "                       <a href='https://esridenver.maps.arcgis.com/home/user.html?user=ZZ_student_esridenver' target='_blank'>\n",
       "                        <img src='https://esridenver.maps.arcgis.com/home/js/arcgisonline/css/images/no-user-thumb.jpg' class=\"itemThumbnail\">\n",
       "                       </a>\n",
       "                    </div>\n",
       "\n",
       "                    <div class=\"item_right\" style=\"float: none; width: auto; overflow: hidden;\">\n",
       "                        <a href='https://esridenver.maps.arcgis.com/home/user.html?user=ZZ_student_esridenver' target='_blank'><b>ZZ Student</b>\n",
       "                        </a>\n",
       "                        <br/><br/><b>Bio</b>: None\n",
       "                        <br/><b>First Name</b>: ZZ\n",
       "                        <br/><b>Last Name</b>: Student\n",
       "                        <br/><b>Username</b>: ZZ_student_esridenver\n",
       "                        <br/><b>Joined</b>: June 05, 2018\n",
       "\n",
       "                    </div>\n",
       "                </div>\n",
       "                "
      ],
      "text/plain": [
       "<User username:ZZ_student_esridenver>"
      ]
     },
     "metadata": {},
     "output_type": "display_data"
    },
    {
     "name": "stdout",
     "output_type": "stream",
     "text": [
      "ZZ_student_esridenver  account has been cleared\n",
      "\n",
      "\n"
     ]
    }
   ],
   "source": [
    "clean(users)\n"
   ]
  },
  {
   "cell_type": "markdown",
   "metadata": {},
   "source": [
    "### Clean and delete user account"
   ]
  },
  {
   "cell_type": "code",
   "execution_count": 3,
   "metadata": {},
   "outputs": [],
   "source": [
    "def delete(users):\n",
    "    for user in users:\n",
    "        try:\n",
    "            display(user)\n",
    "\n",
    "            # Accessing users folders, delete the content\n",
    "            print(\"Searching for user folders...\")\n",
    "            folders = user.folders\n",
    "            print(\"Deleting folders and thier content...\")\n",
    "            for folder in folders:\n",
    "                folder_items = user.items(folder=folder['title'])\n",
    "                for item in folder_items:\n",
    "                    item.protect(enable=False)\n",
    "                    item.delete()\n",
    "                gis.content.delete_folder(folder['title'],owner=user)\n",
    "            print(\"...Done\")\n",
    "            \n",
    "            \n",
    "            \n",
    "            # Delete content within root folder\n",
    "            print(\"Searching users root folder...\")\n",
    "            items = (user.items())\n",
    "            print(\"Deleting content from root folder...\")\n",
    "            for item in items:\n",
    "                item.protect(enable=False)\n",
    "                item.delete()\n",
    "            print(\"...Done\")\n",
    "            \n",
    "            \n",
    "            \n",
    "            \n",
    "            \n",
    "            # Delete user groups\n",
    "            try:\n",
    "                groups = user.groups\n",
    "                print(\"Searching for user owned groups...\")\n",
    "                for group in groups:\n",
    "                    #print(group.protected)\n",
    "                    if group.owner == user.username:\n",
    "                        if group.protected==True:\n",
    "                            group.protected=False\n",
    "                        #print(group.protected)\n",
    "                        #print(\"\")\n",
    "                        group.delete()\n",
    "\n",
    "                    else:pass\n",
    "                print(\"Deleting user owned groups...\")\n",
    "\n",
    "            except Exception as add_ex:\n",
    "                print(add_ex)\n",
    "\n",
    "            print(\"...Done\")\n",
    "            \n",
    "            \n",
    "            \n",
    "            # Revoke licenses\n",
    "            licenses = gis.admin.license.all()\n",
    "            print(\"Revoking licenses...\")\n",
    "            for l in licenses:\n",
    "                string = str(l) \n",
    "                n = string.find('License')\n",
    "                license_name = string[1:(n-1)]\n",
    "                print(\"    \",license_name)\n",
    "                a = gis.admin.license.get(license_name)\n",
    "                try:\n",
    "                    a.revoke(user.username,'*')\n",
    "                except:\n",
    "                    pass\n",
    "            print(\"...Done\")\n",
    "                \n",
    "            \n",
    "            \n",
    "            \n",
    "            \n",
    "            \n",
    "            # delete user from portal\n",
    "            print(\"Deleting user...\")    \n",
    "            try:\n",
    "                user.delete()\n",
    "                print(user.username,\" deleted\")\n",
    "            except:\n",
    "                user.disable()\n",
    "                print(user.username, \" disabled\")\n",
    "                \n",
    "                \n",
    "                \n",
    "                \n",
    "        except Exception as add_ex:\n",
    "            print(\"exception \")\n",
    "            print(add_ex)            \n",
    "        print(\"\")\n",
    "        print(\"\")\n",
    "    \n",
    "    "
   ]
  },
  {
   "cell_type": "code",
   "execution_count": 78,
   "metadata": {},
   "outputs": [
    {
     "data": {
      "text/html": [
       "<div class=\"9item_container\" style=\"height: auto; overflow: hidden; border: 1px solid #cfcfcf; border-radius: 2px; background: #f6fafa; line-height: 1.21429em; padding: 10px;\">\n",
       "                    <div class=\"item_left\" style=\"width: 210px; float: left;\">\n",
       "                       <a href='https://esridenver.maps.arcgis.com/home/user.html?user=Das_Insights' target='_blank'>\n",
       "                        <img src='https://esridenver.maps.arcgis.com/home/js/arcgisonline/css/images/no-user-thumb.jpg' class=\"itemThumbnail\">\n",
       "                       </a>\n",
       "                    </div>\n",
       "\n",
       "                    <div class=\"item_right\" style=\"float: none; width: auto; overflow: hidden;\">\n",
       "                        <a href='https://esridenver.maps.arcgis.com/home/user.html?user=Das_Insights' target='_blank'><b>Tapas Das</b>\n",
       "                        </a>\n",
       "                        <br/><br/><b>Bio</b>: None\n",
       "                        <br/><b>First Name</b>: Tapas\n",
       "                        <br/><b>Last Name</b>: Das\n",
       "                        <br/><b>Username</b>: Das_Insights\n",
       "                        <br/><b>Joined</b>: September 11, 2018\n",
       "\n",
       "                    </div>\n",
       "                </div>\n",
       "                "
      ],
      "text/plain": [
       "<User username:Das_Insights>"
      ]
     },
     "metadata": {},
     "output_type": "display_data"
    },
    {
     "name": "stdout",
     "output_type": "stream",
     "text": [
      "Searching for user folders...\n",
      "Deleting folders and thier content...\n",
      "...Done\n",
      "Searching users root folder...\n",
      "Deleting content from root folder...\n",
      "...Done\n",
      "Searching for user owned groups...\n",
      "Deleting user owned groups...\n",
      "...Done\n",
      "Revoking licenses...\n",
      "     Survey123 for ArcGIS\n",
      "     Insights for ArcGIS\n",
      "     Redistricting Online\n",
      "     ArcGIS Pro\n",
      "     SafeGraph Places for ArcGIS June-2019 (v2019-05-30)\n"
     ]
    },
    {
     "name": "stderr",
     "output_type": "stream",
     "text": [
      "not licensed by user\n"
     ]
    },
    {
     "name": "stdout",
     "output_type": "stream",
     "text": [
      "     Drone2Map for ArcGIS\n",
      "     GeoPlanner for ArcGIS\n",
      "     AppStudio for ArcGIS\n",
      "     Workforce for ArcGIS\n",
      "     ArcGIS Community Analyst\n",
      "     Navigator for ArcGIS\n",
      "     Admin Tools for ArcGIS℠ Online\n"
     ]
    },
    {
     "name": "stderr",
     "output_type": "stream",
     "text": [
      "not licensed by user\n"
     ]
    },
    {
     "name": "stdout",
     "output_type": "stream",
     "text": [
      "     Collector for ArcGIS\n",
      "     ArcGIS Business Analyst Web and Mobile Apps\n",
      "     CityEngine\n",
      "...Done\n",
      "Deleting user...\n",
      "Das_Insights  deleted\n",
      "\n",
      "\n"
     ]
    }
   ],
   "source": [
    "delete(users)"
   ]
  },
  {
   "cell_type": "code",
   "execution_count": null,
   "metadata": {},
   "outputs": [],
   "source": []
  }
 ],
 "metadata": {
  "kernelspec": {
   "display_name": "Python 3",
   "language": "python",
   "name": "python3"
  },
  "language_info": {
   "codemirror_mode": {
    "name": "ipython",
    "version": 3
   },
   "file_extension": ".py",
   "mimetype": "text/x-python",
   "name": "python",
   "nbconvert_exporter": "python",
   "pygments_lexer": "ipython3",
   "version": "3.7.1"
  }
 },
 "nbformat": 4,
 "nbformat_minor": 2
}
