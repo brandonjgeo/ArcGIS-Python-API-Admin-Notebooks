{
 "cells": [
  {
   "cell_type": "markdown",
   "metadata": {},
   "source": [
    "## List all layers with their unique ID for each web map in an organization"
   ]
  },
  {
   "cell_type": "code",
   "execution_count": null,
   "metadata": {},
   "outputs": [],
   "source": [
    "from arcgis.gis import GIS\n",
    "import getpass\n",
    "\n",
    "username = '' # enter your username here as a string\n",
    "password = getpass.getpass('Enter password: ')\n",
    "organizationURL = '' # enter your web GIS url here as a string. for example: 'https://esridenver.maps.arcgis.com'\n",
    "\n",
    "gis = GIS(organizationURL, username, password)\n",
    "\n",
    "print(\"Connected to: {}\\nConnected as: {}\".format(gis.properties.urlKey + \".\" + gis.properties.customBaseUrl,\n",
    "                                                 gis.users.me.username))"
   ]
  },
  {
   "cell_type": "markdown",
   "metadata": {},
   "source": [
    "### create a list of all web maps in the organization"
   ]
  },
  {
   "cell_type": "code",
   "execution_count": null,
   "metadata": {},
   "outputs": [],
   "source": [
    "wmaps = gis.content.search(\"*\", item_type=\"Web Map\", max_items = 200, outside_org=False)"
   ]
  },
  {
   "cell_type": "markdown",
   "metadata": {},
   "source": [
    "### list the layers for each web map"
   ]
  },
  {
   "cell_type": "code",
   "execution_count": null,
   "metadata": {},
   "outputs": [],
   "source": [
    "for wbmap in wmaps:\n",
    "    print(\"{}\".format(wbmap.title))\n",
    "    print(\"{:*<90}\".format(\"\"))\n",
    "    raw_data = wbmap.get_data()\n",
    "    lyrs = raw_data['operationalLayers']\n",
    "    for lyr in lyrs:\n",
    "        try:\n",
    "            if 'itemId' in lyr.keys():\n",
    "                print(\"\\t{:<50}{}\".format(lyr['title'][:45], lyr['itemId']))\n",
    "            else:\n",
    "                print(\"\\t{:<50}{}\".format(lyr['title'][:45], lyr['id']))\n",
    "        except:\n",
    "            pass\n",
    "    print(\"\\n\")"
   ]
  }
 ],
 "metadata": {
  "kernelspec": {
   "display_name": "Python 3",
   "language": "python",
   "name": "python3"
  },
  "language_info": {
   "codemirror_mode": {
    "name": "ipython",
    "version": 3
   },
   "file_extension": ".py",
   "mimetype": "text/x-python",
   "name": "python",
   "nbconvert_exporter": "python",
   "pygments_lexer": "ipython3",
   "version": "3.7.1"
  }
 },
 "nbformat": 4,
 "nbformat_minor": 2
}
