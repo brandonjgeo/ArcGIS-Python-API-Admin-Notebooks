{
 "cells": [
  {
   "cell_type": "markdown",
   "metadata": {},
   "source": [
    "## Import libraries"
   ]
  },
  {
   "cell_type": "code",
   "execution_count": 1,
   "metadata": {},
   "outputs": [],
   "source": [
    "from arcgis.gis import *\n",
    "from getpass import getpass\n",
    "from IPython.display import display"
   ]
  },
  {
   "cell_type": "markdown",
   "metadata": {},
   "source": [
    "## Define the web GIS environment, your user name, ask for password, and sign into web GIS"
   ]
  },
  {
   "cell_type": "code",
   "execution_count": 2,
   "metadata": {},
   "outputs": [
    {
     "name": "stdout",
     "output_type": "stream",
     "text": [
      "········\n"
     ]
    }
   ],
   "source": [
    "password = getpass()\n",
    "gis = GIS(\"https://esridenver.maps.arcgis.com\", \"pgamberg@EsriDenver\", password, verify_cert=True)"
   ]
  },
  {
   "cell_type": "markdown",
   "metadata": {},
   "source": [
    "## Return all roles within your web GIS"
   ]
  },
  {
   "cell_type": "code",
   "execution_count": 3,
   "metadata": {
    "scrolled": false
   },
   "outputs": [
    {
     "name": "stdout",
     "output_type": "stream",
     "text": [
      "Role ID: iAAAAAAAAAAAAAAA\n",
      "Role name: Viewer\n",
      "Role description: Viewer\n",
      "Role privileges: ['portal:user:joinGroup', 'portal:user:viewOrgGroups', 'portal:user:viewOrgItems', 'portal:user:viewOrgUsers', 'premium:user:demographics', 'premium:user:elevation', 'premium:user:featurereport', 'premium:user:geocode', 'premium:user:networkanalysis']\n",
      "\n",
      "Role ID: iBBBBBBBBBBBBBBB\n",
      "Role name: Data Editor\n",
      "Role description: Data Editor\n",
      "Role privileges: ['features:user:edit', 'portal:user:joinGroup', 'portal:user:viewOrgGroups', 'portal:user:viewOrgItems', 'portal:user:viewOrgUsers', 'premium:user:demographics', 'premium:user:elevation', 'premium:user:featurereport', 'premium:user:geocode', 'premium:user:networkanalysis']\n",
      "\n",
      "Role ID: XVOwQfnzA3huged4\n",
      "Role name: Publisher no Public Share\n",
      "Role description: Publisher no Public Share\n",
      "Role privileges: ['features:user:edit', 'portal:publisher:publishFeatures', 'portal:publisher:publishScenes', 'portal:publisher:publishTiles', 'portal:user:createGroup', 'portal:user:createItem', 'portal:user:joinGroup', 'portal:user:joinNonOrgGroup', 'portal:user:shareGroupToOrg', 'portal:user:shareGroupToPublic', 'portal:user:shareToGroup', 'portal:user:shareToOrg', 'portal:user:viewOrgGroups', 'portal:user:viewOrgItems', 'portal:user:viewOrgUsers', 'premium:user:demographics', 'premium:user:elevation', 'premium:user:geocode', 'premium:user:geoenrichment', 'premium:user:networkanalysis', 'premium:user:spatialanalysis']\n",
      "\n"
     ]
    }
   ],
   "source": [
    "role_mgr = arcgis.gis.RoleManager(gis)\n",
    "roles = role_mgr.all()\n",
    "for role in roles:\n",
    " print(\"Role ID: {}\".format(role.role_id))\n",
    " print(\"Role name: {}\".format(role.name))\n",
    " print(\"Role description: {}\".format(role.description))\n",
    " print(\"Role privileges: {}\".format(role.privileges))\n",
    " print(\"\")"
   ]
  },
  {
   "cell_type": "markdown",
   "metadata": {},
   "source": [
    "## Return a summary of all roles assigned in your web GIS"
   ]
  },
  {
   "cell_type": "code",
   "execution_count": 4,
   "metadata": {},
   "outputs": [
    {
     "data": {
      "text/html": [
       "<div>\n",
       "<style scoped>\n",
       "    .dataframe tbody tr th:only-of-type {\n",
       "        vertical-align: middle;\n",
       "    }\n",
       "\n",
       "    .dataframe tbody tr th {\n",
       "        vertical-align: top;\n",
       "    }\n",
       "\n",
       "    .dataframe thead th {\n",
       "        text-align: right;\n",
       "    }\n",
       "</style>\n",
       "<table border=\"1\" class=\"dataframe\">\n",
       "  <thead>\n",
       "    <tr style=\"text-align: right;\">\n",
       "      <th></th>\n",
       "      <th>count</th>\n",
       "      <th>key</th>\n",
       "    </tr>\n",
       "  </thead>\n",
       "  <tbody>\n",
       "    <tr>\n",
       "      <th>0</th>\n",
       "      <td>15</td>\n",
       "      <td>org_admin</td>\n",
       "    </tr>\n",
       "    <tr>\n",
       "      <th>1</th>\n",
       "      <td>83</td>\n",
       "      <td>org_publisher</td>\n",
       "    </tr>\n",
       "    <tr>\n",
       "      <th>2</th>\n",
       "      <td>3</td>\n",
       "      <td>org_user</td>\n",
       "    </tr>\n",
       "    <tr>\n",
       "      <th>3</th>\n",
       "      <td>2</td>\n",
       "      <td>iAAAAAAAAAAAAAAA</td>\n",
       "    </tr>\n",
       "    <tr>\n",
       "      <th>4</th>\n",
       "      <td>1</td>\n",
       "      <td>iBBBBBBBBBBBBBBB</td>\n",
       "    </tr>\n",
       "  </tbody>\n",
       "</table>\n",
       "</div>"
      ],
      "text/plain": [
       "   count               key\n",
       "0     15         org_admin\n",
       "1     83     org_publisher\n",
       "2      3          org_user\n",
       "3      2  iAAAAAAAAAAAAAAA\n",
       "4      1  iBBBBBBBBBBBBBBB"
      ]
     },
     "execution_count": 4,
     "metadata": {},
     "output_type": "execute_result"
    }
   ],
   "source": [
    "user_mgr = arcgis.gis.UserManager(gis)\n",
    "assigned_roles = user_mgr.counts(type='role')\n",
    "assigned_roles"
   ]
  },
  {
   "cell_type": "markdown",
   "metadata": {},
   "source": [
    "## Return all users of a specific role, thier data, and group affiliations"
   ]
  },
  {
   "cell_type": "code",
   "execution_count": null,
   "metadata": {},
   "outputs": [],
   "source": [
    "viewers = user_mgr.search(role='org_publisher')\n",
    "viewers"
   ]
  },
  {
   "cell_type": "markdown",
   "metadata": {},
   "source": [
    "## Return the 10 users, of the defined role, who store the most data in the web GIS"
   ]
  },
  {
   "cell_type": "code",
   "execution_count": null,
   "metadata": {},
   "outputs": [],
   "source": [
    "most_storage = []\n",
    "for user in viewers:\n",
    "    most_storage.append([user.fullName,user.storageUsage])\n",
    "most_storage.sort(key=lambda tup: tup[1], reverse=True)\n",
    "most_storage[:10]"
   ]
  },
  {
   "cell_type": "markdown",
   "metadata": {},
   "source": [
    "## Return the users, of the defined role, and thier group affiliations"
   ]
  },
  {
   "cell_type": "code",
   "execution_count": null,
   "metadata": {},
   "outputs": [],
   "source": [
    "user_groups = []\n",
    "for user in viewers:\n",
    "    user_groups.append([user.fullName,user.groups])\n",
    "user_groups"
   ]
  },
  {
   "cell_type": "markdown",
   "metadata": {},
   "source": [
    "## Return all the folders for each defined user"
   ]
  },
  {
   "cell_type": "code",
   "execution_count": null,
   "metadata": {},
   "outputs": [],
   "source": [
    "user_folders = []\n",
    "for user in viewers:\n",
    "    user_folders.append([user.fullName,user.folders])\n",
    "    \n",
    "user_folders[1]"
   ]
  },
  {
   "cell_type": "markdown",
   "metadata": {},
   "source": [
    "## Return all items for each defined user"
   ]
  },
  {
   "cell_type": "code",
   "execution_count": null,
   "metadata": {},
   "outputs": [],
   "source": [
    "user_content = []\n",
    "for user in viewers:\n",
    "    user_content.append([user.fullName,user.items()])\n",
    "    \n",
    "user_content"
   ]
  },
  {
   "cell_type": "markdown",
   "metadata": {},
   "source": [
    "### How much content is in my web GIS?"
   ]
  },
  {
   "cell_type": "code",
   "execution_count": null,
   "metadata": {},
   "outputs": [],
   "source": [
    "all_content = gis.content.search(query=\"*\", max_items = 1000000000)\n",
    "print(len(all_content), \" items within \", gis.url)"
   ]
  },
  {
   "cell_type": "markdown",
   "metadata": {},
   "source": [
    "### How many credits do I have remaining"
   ]
  },
  {
   "cell_type": "code",
   "execution_count": null,
   "metadata": {},
   "outputs": [],
   "source": [
    "gis.properties.availableCredits"
   ]
  },
  {
   "cell_type": "markdown",
   "metadata": {},
   "source": [
    "### Who is consuming the most credits?"
   ]
  },
  {
   "cell_type": "code",
   "execution_count": null,
   "metadata": {},
   "outputs": [],
   "source": [
    "user_mgr = arcgis.gis.UserManager(gis)\n",
    "storage = user_mgr.search(role='org_publisher')\n",
    "#storage = user_mgr.search('*')\n",
    "\n",
    "most_storage = []\n",
    "for user in storage:\n",
    "    megabyte = round(user.storageUsage/1000000)\n",
    "    credit = round(megabyte/2.4)\n",
    "    most_storage.append([user.fullName,megabyte,credit])\n",
    "most_storage.sort(key=lambda tup: tup[1], reverse=True)\n",
    "most_storage[:10]"
   ]
  },
  {
   "cell_type": "code",
   "execution_count": null,
   "metadata": {},
   "outputs": [],
   "source": []
  },
  {
   "cell_type": "code",
   "execution_count": null,
   "metadata": {},
   "outputs": [],
   "source": []
  },
  {
   "cell_type": "code",
   "execution_count": null,
   "metadata": {},
   "outputs": [],
   "source": []
  },
  {
   "cell_type": "code",
   "execution_count": null,
   "metadata": {},
   "outputs": [],
   "source": []
  },
  {
   "cell_type": "code",
   "execution_count": null,
   "metadata": {},
   "outputs": [],
   "source": []
  },
  {
   "cell_type": "code",
   "execution_count": null,
   "metadata": {},
   "outputs": [],
   "source": []
  }
 ],
 "metadata": {
  "kernelspec": {
   "display_name": "Python 3",
   "language": "python",
   "name": "python3"
  },
  "language_info": {
   "codemirror_mode": {
    "name": "ipython",
    "version": 3
   },
   "file_extension": ".py",
   "mimetype": "text/x-python",
   "name": "python",
   "nbconvert_exporter": "python",
   "pygments_lexer": "ipython3",
   "version": "3.7.1"
  }
 },
 "nbformat": 4,
 "nbformat_minor": 2
}
